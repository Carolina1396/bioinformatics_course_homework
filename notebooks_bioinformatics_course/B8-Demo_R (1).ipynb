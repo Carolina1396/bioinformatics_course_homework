{
 "cells": [
  {
   "cell_type": "markdown",
   "metadata": {},
   "source": [
    "### B8.ba: Making *another* count matrix (practice practice practice!), but something will be off about it.. <br>\n",
    "Try out different tools you haven't yet, if you feel creative (or to challenge yoursef)"
   ]
  },
  {
   "cell_type": "markdown",
   "metadata": {},
   "source": [
    "## Now\n",
    "Filtering and normalizing your data for DESeq2 <br>\n",
    "https://github.com/SuLab/Applied-Bioinformatics/blob/Fall-2018/Unit2-RNAseq/3.6_DESeq2_differential_expression_analysis.ipynb \n",
    "\n",
    "\n",
    "https://www.ncbi.nlm.nih.gov/geo/query/acc.cgi?acc=GSE97919 <br>\n",
    "Look familiar?\n",
    "\n",
    "1. Get the files into your data folder\n",
    "2. Convert these to a 'matrix'for DESeq2. Compare how these look in contrast to the output count matrix you created. What's different and why?\n",
    "3. Convert from character to numeric\n",
    "4. Normalize matrix, what does this mean?? (DESeq fxn) "
   ]
  },
  {
   "cell_type": "code",
   "execution_count": 12,
   "metadata": {},
   "outputs": [
    {
     "data": {
      "text/html": [
       "'/gpfs/home/agonzalez/bioinformatics_course/HW8'"
      ],
      "text/latex": [
       "'/gpfs/home/agonzalez/bioinformatics\\_course/HW8'"
      ],
      "text/markdown": [
       "'/gpfs/home/agonzalez/bioinformatics_course/HW8'"
      ],
      "text/plain": [
       "[1] \"/gpfs/home/agonzalez/bioinformatics_course/HW8\""
      ]
     },
     "metadata": {},
     "output_type": "display_data"
    }
   ],
   "source": [
    "# Good habits: Always check directory\n",
    "getwd()"
   ]
  },
  {
   "cell_type": "code",
   "execution_count": 13,
   "metadata": {},
   "outputs": [
    {
     "data": {
      "text/html": [
       "<style>\n",
       ".list-inline {list-style: none; margin:0; padding: 0}\n",
       ".list-inline>li {display: inline-block}\n",
       ".list-inline>li:not(:last-child)::after {content: \"\\00b7\"; padding: 0 .5ex}\n",
       "</style>\n",
       "<ol class=list-inline><li>'GSM2580321_counts.txt'</li><li>'GSM2580322_counts.txt'</li><li>'GSM2580325_counts.txt'</li><li>'GSM2580326_counts.txt'</li><li>'GSM2580329_counts.txt'</li><li>'GSM2580330_counts.txt'</li></ol>\n"
      ],
      "text/latex": [
       "\\begin{enumerate*}\n",
       "\\item 'GSM2580321\\_counts.txt'\n",
       "\\item 'GSM2580322\\_counts.txt'\n",
       "\\item 'GSM2580325\\_counts.txt'\n",
       "\\item 'GSM2580326\\_counts.txt'\n",
       "\\item 'GSM2580329\\_counts.txt'\n",
       "\\item 'GSM2580330\\_counts.txt'\n",
       "\\end{enumerate*}\n"
      ],
      "text/markdown": [
       "1. 'GSM2580321_counts.txt'\n",
       "2. 'GSM2580322_counts.txt'\n",
       "3. 'GSM2580325_counts.txt'\n",
       "4. 'GSM2580326_counts.txt'\n",
       "5. 'GSM2580329_counts.txt'\n",
       "6. 'GSM2580330_counts.txt'\n",
       "\n",
       "\n"
      ],
      "text/plain": [
       "[1] \"GSM2580321_counts.txt\" \"GSM2580322_counts.txt\" \"GSM2580325_counts.txt\"\n",
       "[4] \"GSM2580326_counts.txt\" \"GSM2580329_counts.txt\" \"GSM2580330_counts.txt\""
      ]
     },
     "metadata": {},
     "output_type": "display_data"
    }
   ],
   "source": [
    "# Assign your files to a... how can we figure out what 'counts_files' is?\n",
    "dir_counts <- \"/home_local/instructor-abcb2020/abcb2020/source/HW8/data/Demos/htseq_out\" # note method used\n",
    "counts_files <- list.files(dir_counts)\n",
    "counts_files"
   ]
  },
  {
   "cell_type": "code",
   "execution_count": 14,
   "metadata": {},
   "outputs": [
    {
     "data": {
      "text/plain": [
       "[1] ‘1.22.2’"
      ]
     },
     "metadata": {},
     "output_type": "display_data"
    }
   ],
   "source": [
    "# Install/load DESeq2 package (now we're coming full-circle up from where we started week 5)\n",
    "\n",
    "library(\"DESeq2\")\n",
    "packageVersion(\"DESeq2\")"
   ]
  },
  {
   "cell_type": "code",
   "execution_count": 15,
   "metadata": {},
   "outputs": [
    {
     "ename": "ERROR",
     "evalue": "Error in parse(text = x, srcfile = src): <text>:2:51: unexpected ','\n1: # run...?\n2: dds1 <- DESeqDataSetFromHTSeqCount(sampleTable = ?,\n                                                     ^\n",
     "output_type": "error",
     "traceback": [
      "Error in parse(text = x, srcfile = src): <text>:2:51: unexpected ','\n1: # run...?\n2: dds1 <- DESeqDataSetFromHTSeqCount(sampleTable = ?,\n                                                     ^\nTraceback:\n"
     ]
    }
   ],
   "source": [
    "# run...?\n",
    "dds1 <- DESeqDataSetFromHTSeqCount(sampleTable = ?, #Metadata\n",
    "                                   directory = \"/gpfs/home/agonzalez/bioinformatics_course/HW8\", \n",
    "                                   design = ~ group)"
   ]
  },
  {
   "cell_type": "code",
   "execution_count": 16,
   "metadata": {},
   "outputs": [
    {
     "data": {
      "text/html": [
       "<table>\n",
       "<caption>A data.frame: 6 × 5</caption>\n",
       "<thead>\n",
       "\t<tr><th scope=col>V1</th><th scope=col>V2</th><th scope=col>samplename</th><th scope=col>filename</th><th scope=col>group</th></tr>\n",
       "\t<tr><th scope=col>&lt;lgl&gt;</th><th scope=col>&lt;lgl&gt;</th><th scope=col>&lt;chr&gt;</th><th scope=col>&lt;chr&gt;</th><th scope=col>&lt;chr&gt;</th></tr>\n",
       "</thead>\n",
       "<tbody>\n",
       "\t<tr><td>NA</td><td>NA</td><td>GSM2580321_counts.txt</td><td>GSM2580321_counts.txt</td><td>mock</td></tr>\n",
       "\t<tr><td>NA</td><td>NA</td><td>GSM2580322_counts.txt</td><td>GSM2580322_counts.txt</td><td>ZIKV</td></tr>\n",
       "\t<tr><td>NA</td><td>NA</td><td>GSM2580325_counts.txt</td><td>GSM2580325_counts.txt</td><td>mock</td></tr>\n",
       "\t<tr><td>NA</td><td>NA</td><td>GSM2580326_counts.txt</td><td>GSM2580326_counts.txt</td><td>ZIKV</td></tr>\n",
       "\t<tr><td>NA</td><td>NA</td><td>GSM2580329_counts.txt</td><td>GSM2580329_counts.txt</td><td>mock</td></tr>\n",
       "\t<tr><td>NA</td><td>NA</td><td>GSM2580330_counts.txt</td><td>GSM2580330_counts.txt</td><td>ZIKV</td></tr>\n",
       "</tbody>\n",
       "</table>\n"
      ],
      "text/latex": [
       "A data.frame: 6 × 5\n",
       "\\begin{tabular}{lllll}\n",
       " V1 & V2 & samplename & filename & group\\\\\n",
       " <lgl> & <lgl> & <chr> & <chr> & <chr>\\\\\n",
       "\\hline\n",
       "\t NA & NA & GSM2580321\\_counts.txt & GSM2580321\\_counts.txt & mock\\\\\n",
       "\t NA & NA & GSM2580322\\_counts.txt & GSM2580322\\_counts.txt & ZIKV\\\\\n",
       "\t NA & NA & GSM2580325\\_counts.txt & GSM2580325\\_counts.txt & mock\\\\\n",
       "\t NA & NA & GSM2580326\\_counts.txt & GSM2580326\\_counts.txt & ZIKV\\\\\n",
       "\t NA & NA & GSM2580329\\_counts.txt & GSM2580329\\_counts.txt & mock\\\\\n",
       "\t NA & NA & GSM2580330\\_counts.txt & GSM2580330\\_counts.txt & ZIKV\\\\\n",
       "\\end{tabular}\n"
      ],
      "text/markdown": [
       "\n",
       "A data.frame: 6 × 5\n",
       "\n",
       "| V1 &lt;lgl&gt; | V2 &lt;lgl&gt; | samplename &lt;chr&gt; | filename &lt;chr&gt; | group &lt;chr&gt; |\n",
       "|---|---|---|---|---|\n",
       "| NA | NA | GSM2580321_counts.txt | GSM2580321_counts.txt | mock |\n",
       "| NA | NA | GSM2580322_counts.txt | GSM2580322_counts.txt | ZIKV |\n",
       "| NA | NA | GSM2580325_counts.txt | GSM2580325_counts.txt | mock |\n",
       "| NA | NA | GSM2580326_counts.txt | GSM2580326_counts.txt | ZIKV |\n",
       "| NA | NA | GSM2580329_counts.txt | GSM2580329_counts.txt | mock |\n",
       "| NA | NA | GSM2580330_counts.txt | GSM2580330_counts.txt | ZIKV |\n",
       "\n"
      ],
      "text/plain": [
       "  V1 V2 samplename            filename              group\n",
       "1 NA NA GSM2580321_counts.txt GSM2580321_counts.txt mock \n",
       "2 NA NA GSM2580322_counts.txt GSM2580322_counts.txt ZIKV \n",
       "3 NA NA GSM2580325_counts.txt GSM2580325_counts.txt mock \n",
       "4 NA NA GSM2580326_counts.txt GSM2580326_counts.txt ZIKV \n",
       "5 NA NA GSM2580329_counts.txt GSM2580329_counts.txt mock \n",
       "6 NA NA GSM2580330_counts.txt GSM2580330_counts.txt ZIKV "
      ]
     },
     "metadata": {},
     "output_type": "display_data"
    }
   ],
   "source": [
    "# Create a 'metadata' sheet (you always need this!)\n",
    "samplesInfo <- as.data.frame(matrix(ncol=2, nrow=length(counts_files)))  \n",
    "samplesInfo$samplename <- counts_files  \n",
    "samplesInfo$filename <- counts_files  \n",
    "samplesInfo$group <- c(\"mock\", \"ZIKV\", \"mock\", \"ZIKV\", \"mock\", \"ZIKV\")\n",
    "\n",
    "samplesInfo # What do we need to change?"
   ]
  },
  {
   "cell_type": "code",
   "execution_count": 17,
   "metadata": {},
   "outputs": [
    {
     "data": {
      "text/html": [
       "<table>\n",
       "<caption>A data.frame: 6 × 3</caption>\n",
       "<thead>\n",
       "\t<tr><th scope=col>samplename</th><th scope=col>filename</th><th scope=col>group</th></tr>\n",
       "\t<tr><th scope=col>&lt;chr&gt;</th><th scope=col>&lt;chr&gt;</th><th scope=col>&lt;chr&gt;</th></tr>\n",
       "</thead>\n",
       "<tbody>\n",
       "\t<tr><td>GSM2580321_counts.txt</td><td>GSM2580321_counts.txt</td><td>mock</td></tr>\n",
       "\t<tr><td>GSM2580322_counts.txt</td><td>GSM2580322_counts.txt</td><td>ZIKV</td></tr>\n",
       "\t<tr><td>GSM2580325_counts.txt</td><td>GSM2580325_counts.txt</td><td>mock</td></tr>\n",
       "\t<tr><td>GSM2580326_counts.txt</td><td>GSM2580326_counts.txt</td><td>ZIKV</td></tr>\n",
       "\t<tr><td>GSM2580329_counts.txt</td><td>GSM2580329_counts.txt</td><td>mock</td></tr>\n",
       "\t<tr><td>GSM2580330_counts.txt</td><td>GSM2580330_counts.txt</td><td>ZIKV</td></tr>\n",
       "</tbody>\n",
       "</table>\n"
      ],
      "text/latex": [
       "A data.frame: 6 × 3\n",
       "\\begin{tabular}{lll}\n",
       " samplename & filename & group\\\\\n",
       " <chr> & <chr> & <chr>\\\\\n",
       "\\hline\n",
       "\t GSM2580321\\_counts.txt & GSM2580321\\_counts.txt & mock\\\\\n",
       "\t GSM2580322\\_counts.txt & GSM2580322\\_counts.txt & ZIKV\\\\\n",
       "\t GSM2580325\\_counts.txt & GSM2580325\\_counts.txt & mock\\\\\n",
       "\t GSM2580326\\_counts.txt & GSM2580326\\_counts.txt & ZIKV\\\\\n",
       "\t GSM2580329\\_counts.txt & GSM2580329\\_counts.txt & mock\\\\\n",
       "\t GSM2580330\\_counts.txt & GSM2580330\\_counts.txt & ZIKV\\\\\n",
       "\\end{tabular}\n"
      ],
      "text/markdown": [
       "\n",
       "A data.frame: 6 × 3\n",
       "\n",
       "| samplename &lt;chr&gt; | filename &lt;chr&gt; | group &lt;chr&gt; |\n",
       "|---|---|---|\n",
       "| GSM2580321_counts.txt | GSM2580321_counts.txt | mock |\n",
       "| GSM2580322_counts.txt | GSM2580322_counts.txt | ZIKV |\n",
       "| GSM2580325_counts.txt | GSM2580325_counts.txt | mock |\n",
       "| GSM2580326_counts.txt | GSM2580326_counts.txt | ZIKV |\n",
       "| GSM2580329_counts.txt | GSM2580329_counts.txt | mock |\n",
       "| GSM2580330_counts.txt | GSM2580330_counts.txt | ZIKV |\n",
       "\n"
      ],
      "text/plain": [
       "  samplename            filename              group\n",
       "1 GSM2580321_counts.txt GSM2580321_counts.txt mock \n",
       "2 GSM2580322_counts.txt GSM2580322_counts.txt ZIKV \n",
       "3 GSM2580325_counts.txt GSM2580325_counts.txt mock \n",
       "4 GSM2580326_counts.txt GSM2580326_counts.txt ZIKV \n",
       "5 GSM2580329_counts.txt GSM2580329_counts.txt mock \n",
       "6 GSM2580330_counts.txt GSM2580330_counts.txt ZIKV "
      ]
     },
     "metadata": {},
     "output_type": "display_data"
    }
   ],
   "source": [
    "#Remove the blank columns (RE setting up your notebook cells to then script)\n",
    "\n",
    "samplesInfo <- samplesInfo[,-c(1:2)]\n",
    "samplesInfo"
   ]
  },
  {
   "cell_type": "code",
   "execution_count": 20,
   "metadata": {},
   "outputs": [
    {
     "name": "stderr",
     "output_type": "stream",
     "text": [
      "Warning message in DESeqDataSet(se, design = design, ignoreRank):\n",
      "“some variables in design formula are characters, converting to factors”\n"
     ]
    }
   ],
   "source": [
    "# Prep for DESeq2 (what are each of these steps?)\n",
    "\n",
    "# What does this format remind you of from week 5?\n",
    "dds1 <- DESeqDataSetFromHTSeqCount(sampleTable = samplesInfo, \n",
    "                                           directory = dir_counts, \n",
    "                                           design = ~ group)"
   ]
  },
  {
   "cell_type": "code",
   "execution_count": 2,
   "metadata": {},
   "outputs": [],
   "source": [
    "# How to fix? Convert to numeric                                           design = ~ group)"
   ]
  },
  {
   "cell_type": "code",
   "execution_count": 19,
   "metadata": {},
   "outputs": [
    {
     "data": {
      "text/plain": [
       "DataFrame with 6 rows and 1 column\n",
       "                         group\n",
       "                      <factor>\n",
       "GSM2580321_counts.txt     mock\n",
       "GSM2580322_counts.txt     ZIKV\n",
       "GSM2580325_counts.txt     mock\n",
       "GSM2580326_counts.txt     ZIKV\n",
       "GSM2580329_counts.txt     mock\n",
       "GSM2580330_counts.txt     ZIKV"
      ]
     },
     "metadata": {},
     "output_type": "display_data"
    }
   ],
   "source": [
    "# Explore the data\n",
    "colData(dds1)"
   ]
  },
  {
   "cell_type": "markdown",
   "metadata": {},
   "source": [
    "Notes on normalization and filtering matrix here <br>\n",
    "ie https://www.bioconductor.org/packages/devel/bioc/vignettes/DESeq2/inst/doc/DESeq2.html#data-transformations-and-visualization <br>\n",
    "\n",
    "Feel welcome to add others"
   ]
  },
  {
   "cell_type": "markdown",
   "metadata": {},
   "source": [
    "### B8.bb DESeq2"
   ]
  },
  {
   "cell_type": "markdown",
   "metadata": {},
   "source": [
    "DESeq2 fxn\n",
    "https://lashlock.github.io/compbio/R_presentation.html"
   ]
  },
  {
   "cell_type": "markdown",
   "metadata": {},
   "source": [
    "What can you do to check variations of normalizing your data?"
   ]
  },
  {
   "cell_type": "markdown",
   "metadata": {},
   "source": [
    "What is a scientific question we could ask on this data that can be related to a volcano plot or PCA plot?"
   ]
  }
 ],
 "metadata": {
  "kernelspec": {
   "display_name": "R",
   "language": "R",
   "name": "ir"
  },
  "language_info": {
   "codemirror_mode": "r",
   "file_extension": ".r",
   "mimetype": "text/x-r-source",
   "name": "R",
   "pygments_lexer": "r",
   "version": "3.5.1"
  }
 },
 "nbformat": 4,
 "nbformat_minor": 4
}
