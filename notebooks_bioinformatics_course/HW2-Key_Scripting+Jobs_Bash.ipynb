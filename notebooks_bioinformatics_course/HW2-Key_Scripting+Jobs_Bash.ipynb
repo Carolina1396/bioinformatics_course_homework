{
 "cells": [
  {
   "cell_type": "markdown",
   "metadata": {},
   "source": [
    "Before you turn this problem in, make sure everything runs as expected. First, **restart the kernel** (in the menubar, select Kernel$\\rightarrow$Restart) and then **run all cells** (in the menubar, select Cell$\\rightarrow$Run All).\n",
    "\n",
    "Make sure you fill in any place that says `YOUR CODE HERE` or \"YOUR ANSWER HERE\", as well as your name and collaborators below:"
   ]
  },
  {
   "cell_type": "code",
   "execution_count": null,
   "metadata": {},
   "outputs": [],
   "source": [
    "NAME = \"A. Carolina Gonzalez-Cavazos\"\n",
    "COLLABORATORS = \"Janet Joy,  Xiaohe Lin, Lynee Massey\""
   ]
  },
  {
   "cell_type": "markdown",
   "metadata": {},
   "source": [
    "---"
   ]
  },
  {
   "cell_type": "markdown",
   "metadata": {
    "deletable": false,
    "editable": false,
    "nbgrader": {
     "cell_type": "markdown",
     "checksum": "aac633cdf7f5ccc1105211bb8408af8e",
     "grade": false,
     "grade_id": "cell-8531b0dab318b0d2",
     "locked": true,
     "schema_version": 3,
     "solution": false,
     "task": false
    }
   },
   "source": [
    "# Homework 2: Scripting and Jobs (Bash, cnt'd)\n",
    "Curated by Sabah Ul-Hasan, Huitian Dao, Shang-Fu Chen, Karthik Gangavarapu, and Andrew Su\n",
    "\n",
    "Complete homework is due every Tuesday at 8 AM PST.<br>\n",
    "Save your homework as you go, so the efforts don't get lost. <br>\n",
    "Note there are up 12 points, but you can only receive 10 points total for homework.\n",
    "\n",
    "In this assignment, you will <br>\n",
    "A2.aa Refresh your understanding of bash<br>\n",
    "A2.ab Explore pipes in-depth (+awk) <br>\n",
    "A2.ba Familiarize yourself with loops <br>\n",
    "A2.bb Compile what you've learned as a script <br>\n",
    "\n",
    "Note that there is a section at the end (A2.bb) to point out any enhancements you personally would make to this assignment if you were to lead the course. "
   ]
  },
  {
   "cell_type": "markdown",
   "metadata": {
    "deletable": false,
    "editable": false,
    "nbgrader": {
     "cell_type": "markdown",
     "checksum": "f91e41e26c897b775f817f8e0e11698d",
     "grade": false,
     "grade_id": "cell-e3c9da73e2811a39",
     "locked": true,
     "schema_version": 3,
     "solution": false,
     "task": false
    }
   },
   "source": [
    "## A2.aa: Refresh understanding of bash [20-30 min] Group of 4 "
   ]
  },
  {
   "cell_type": "markdown",
   "metadata": {
    "deletable": false,
    "editable": false,
    "nbgrader": {
     "cell_type": "markdown",
     "checksum": "fbe2d416483b622a5e1a310da09437a0",
     "grade": false,
     "grade_id": "cell-c2f549622733ffcc",
     "locked": true,
     "points": 1,
     "schema_version": 3,
     "solution": false,
     "task": true
    }
   },
   "source": [
    "#### Question 1 (1 point) [5 min]\n",
    "In your group, identify four items you each considered to be the most difficult part of Homework 1. Then, break into pairs based on who in the group found it easier to navigate vs harder to navigate. In other words, pair yourself with someone who better understood what you found difficult and vice versa. Denote what these sections are below as a,b,c,or d."
   ]
  },
  {
   "cell_type": "markdown",
   "metadata": {},
   "source": [
    "We considered that we were not familiar using nano text editor before the HW1 <br>\n",
    "We were confused on how to use the synthaxis of globbing. <br> "
   ]
  },
  {
   "cell_type": "markdown",
   "metadata": {
    "deletable": false,
    "editable": false,
    "nbgrader": {
     "cell_type": "markdown",
     "checksum": "c82394c105487c0c81e0e1b8e48f2a35",
     "grade": false,
     "grade_id": "cell-33e455f553bdbc47",
     "locked": true,
     "points": 1,
     "schema_version": 3,
     "solution": false,
     "task": true
    }
   },
   "source": [
    "#### Question 2 (1 point) [10 min, 15 min]\n",
    "Spend time discussing your troubleshooting process of working through what the other person found as difficult with one another. Write down what you learned. What was the before vs after result?\n",
    "Then, share as a whole group. Write down what you gained from the discussion in how you will be approaching bash scripting differently than you would do before."
   ]
  },
  {
   "cell_type": "markdown",
   "metadata": {},
   "source": [
    "I was able to learn from my peers how to use bash write bash commands faster. We can hit tab to complete the name of the file/command. Now I can spend less time typing commands. "
   ]
  },
  {
   "cell_type": "markdown",
   "metadata": {
    "deletable": false,
    "editable": false,
    "nbgrader": {
     "cell_type": "markdown",
     "checksum": "aaf4efeb962992209fc2646ecce4aa71",
     "grade": false,
     "grade_id": "cell-0948135824f7008f",
     "locked": true,
     "schema_version": 3,
     "solution": false,
     "task": false
    }
   },
   "source": [
    "## A2.aa: Explore pipes in-depth (+awk) [20-30 min] TPS \n",
    "- On your own time, try the following exercises [10-15 min]"
   ]
  },
  {
   "cell_type": "markdown",
   "metadata": {
    "deletable": false,
    "editable": false,
    "nbgrader": {
     "cell_type": "markdown",
     "checksum": "c50197ae5089632386975bcdbfce7634",
     "grade": false,
     "grade_id": "cell-1ff35e1dfe3e898b",
     "locked": true,
     "points": 1,
     "schema_version": 3,
     "solution": false,
     "task": true
    }
   },
   "source": [
    "#### Question 3 (1 point)\n",
    "Describe your current understanding of pipes. What are the various approaches, where does __`awk`__ come into play?\n",
    "\n",
    "\n",
    "Find the error and fix to run the script. Describe the error in a sentence. What is `{print $3}` doing? Describe what awk is doing this, and its limitations in recognizing delimiters (Hint: tab). \n",
    "\n",
    "```ruby\n",
    "%%bash\n",
    "awk '{print $3}' data/new_folder/artists_new.txt\n",
    "```\n"
   ]
  },
  {
   "cell_type": "code",
   "execution_count": 180,
   "metadata": {
    "scrolled": false
   },
   "outputs": [
    {
     "name": "stdout",
     "output_type": "stream",
     "text": [
      "(1581-1662)\n",
      "(1771-1839)\n",
      "Karl\n",
      "(1802-1868)\n",
      "(1703-1761)\n",
      "von\n",
      "(see\n",
      "(1857-1920)\n",
      "(active\n",
      "Konstantinovich\n",
      "Karlovich\n",
      "(1619-c.\n",
      "(1577-1640)\n",
      "(see\n",
      "BARTOLO\n",
      "FERRARA\n",
      "(1822-1892)\n",
      "(c.\n",
      "(c.\n",
      "(active\n",
      "(1492-1530)\n",
      "(see\n",
      "Werner\n",
      "VARALLO\n",
      "(1701-1750)\n",
      "(1729-1785)\n",
      "(1738-1794)\n",
      "Charles\n",
      "(1576-1645)\n",
      "(1674-1749)\n",
      "(active\n",
      "(c.\n",
      "(1633-1696)\n",
      "(1727-1788)\n",
      "(1800-1874)\n",
      "(1608-1667)\n",
      "(1578-1644)\n",
      "Antoine\n",
      "(see\n",
      "Paolo\n",
      "c.\n",
      "(1828-1906)\n",
      "(1705-1789)\n",
      "van\n",
      "(1555-1630)\n",
      "(see\n",
      "(1789-1869)\n",
      "(1584-1635)\n",
      "(1629-1670)\n",
      "the\n",
      "the\n",
      "(1617-1681)\n",
      "(1588-1629)\n",
      "(active\n",
      "Maria\n",
      "(c.\n",
      "the\n",
      "the\n",
      "(1611-1650)\n",
      "(1616-1695)\n",
      "Danielsz\n",
      "(1809-1877)\n",
      "Godfrey\n",
      "(1639-1681)\n",
      "(c.\n",
      "(1821-1909)\n",
      "Geertruida\n",
      "Augustus\n",
      "Derk\n",
      "Frederik\n",
      "Wenceslaus\n",
      "(1725-1804)\n",
      "(c.\n",
      "(see\n",
      "(see\n",
      "(1749-1822)\n",
      "(1751-1779)\n",
      "I\n",
      "II\n",
      "von\n",
      "(c.\n",
      "(1810-1848)\n",
      "Anton\n",
      "(see\n",
      "(c.\n",
      "Cornelis\n",
      "(c.\n",
      "(c.\n",
      "Filippovich\n",
      "Wilhelm\n",
      "(1730-1802)\n",
      "(see\n",
      "ten\n",
      "(1586-1642)\n",
      "de\n",
      "de\n",
      "(1619-1688)\n",
      "(1609-1656)\n",
      "Soest\n",
      "(1799-1853)\n",
      "von\n",
      "Frederik\n",
      "de\n",
      "(c\n",
      "dell'\n",
      "(1836-1868)\n",
      "Ubaldo\n",
      "di\n",
      "van\n",
      "(1743-1809)\n",
      "(1538-1591)\n",
      "AREBO,\n",
      "(1827-1905)\n",
      "(1786-1862)\n",
      "(1700-1759)\n",
      "(1705-1778)\n",
      "(1728-1792)\n",
      "(1818-1881)\n",
      "Fredrik\n",
      "(1764-1849)\n",
      "(1630-1709)\n",
      "(see\n",
      "(c.\n",
      "UTRECHT\n",
      "(1587-1661)\n",
      "(ca.\n",
      "van\n",
      "(1633-1690)\n",
      "ORT\n",
      "(1508-1575)\n",
      "(1767-1849)\n",
      "SIENA\n",
      "POLO\n",
      "VENTURA\n",
      "DUCCIO\n",
      "GIOVANNI\n",
      "(see\n",
      "Francesco\n",
      "Antonio\n",
      "Konstantinovich\n",
      "van\n",
      "(?-c.\n",
      "d'\n",
      "(1578-1660)\n",
      "(died\n",
      "(c.\n",
      "(1553-1615)\n",
      "(1558-1601)\n",
      "Battista\n",
      "(1474-1515)\n"
     ]
    }
   ],
   "source": [
    "%%bash\n",
    "awk '{print$3}' data/new_folder/artists_new.txt "
   ]
  },
  {
   "cell_type": "markdown",
   "metadata": {},
   "source": [
    "**Describe the error in a sentence:** There is a space between print and the numer 3 <br>\n",
    "**What is {print doing?** Printing the 3rd column on the artists_new.txt file <br>\n",
    "**Describe what awk is doing this, and its limitations in recognizing delimiters.** Awk is a text processing command that searches for a pattern of text in a line/file. In this case, awk is triying to display the 3rd column of each line in the file. However, awk is considering as the 3rd column the element placed after 3 blank spaces. "
   ]
  },
  {
   "cell_type": "markdown",
   "metadata": {
    "deletable": false,
    "editable": false,
    "nbgrader": {
     "cell_type": "markdown",
     "checksum": "e197765378bbc7b071a60b6144fb3127",
     "grade": false,
     "grade_id": "cell-a1d79798122352a1",
     "locked": true,
     "points": 1,
     "schema_version": 3,
     "solution": false,
     "task": true
    }
   },
   "source": [
    "#### Question 4 (1 point) [10-15 min]\n",
    "Use __`awk`__, __`sort`__, and/or __`uniq`__ to find the most common last names among all artists in `artists.txt`  \n",
    "Now, discuss your findings with your partner. What was similar, and what was different?\n"
   ]
  },
  {
   "cell_type": "code",
   "execution_count": 670,
   "metadata": {
    "scrolled": true
   },
   "outputs": [
    {
     "name": "stdout",
     "output_type": "stream",
     "text": [
      "      1 AACHEN\n",
      "      1 AAGAARD\n",
      "      1 ABADIA\n",
      "      1 ABAQUESNE\n",
      "      1 ABBATE\n",
      "      1 ABBATI\n",
      "      1 ABBATINI\n",
      "      1 ABBONDI\n",
      "      1 ABEELE\n",
      "      1 ABILDGAARD\n",
      "      1 ABONDIO\n",
      "      1 ACERO Y AREBO\n",
      "      1 ACHENBACH\n",
      "      4 ADAM\n",
      "      1 ADAM-SALOMON\n",
      "      1 ADELCRANTZ\n",
      "      1 ADEMOLLO\n",
      "      1 ADLER\n",
      "      1 ADOLFZOON\n",
      "      1 ADOLPHI\n",
      "      1 ADRIAENSSEN\n",
      "      1 ADRIAEN VAN UTRECHT \n",
      "      1 ADRIANO FIORENTINO\t\n",
      "      1 AELST\n",
      "      1 AENVANCK\n",
      "      1 AERTSEN\n",
      "      1 AERT VAN ORT\t\n",
      "      1 AGASSE\n",
      "      1 AGNOLO DA SIENA \n",
      "      1 AGNOLO DI POLO\t\n",
      "      1 AGNOLO DI VENTURA\t\n",
      "      1 AGOSTINO DI DUCCIO\t\n",
      "      1 AGOSTINO DI GIOVANNI\t\n",
      "      1 AGOSTINO VENEZIANO \n",
      "      1 AGRATE\n",
      "      1 AGUADO LÓPEZ\n",
      "      1 AIVAZOVSKY\n",
      "      1 AKEN\n",
      "      1 AKOTANTOS\n",
      "      1 ALBA\n",
      "      1 ALBANI\n",
      "      1 ALBEREGNO\n",
      "      4 ALBERTI\n",
      "      1 ALBERTINELLI\n",
      "      1 KILIAN\n",
      "      1 KINSOEN\n",
      "      2 KISS\n",
      "      1 KLEINER\n",
      "      1 KLENZE\n",
      "      1 KLESECKER\n",
      "      1 KLINGER\n",
      "      1 KLOCKER\n",
      "      2 KLODT\n",
      "      1 KNEBEL\n",
      "      1 KNELLER\n",
      "      2 KNIJFF\n",
      "      5 KNIP\n",
      "      1 KNOBELSDORFF\n",
      "      1 KNOLLER\n",
      "      1 KNÜPFER\n",
      "      2 KNYFF\n",
      "      5 KOBELL\n",
      "      1 KOBERGER\n",
      "      1 KOCH\n",
      "      1 KOEBERGER\n",
      "      1 KOEDIJCK\n",
      "      1 KOEKKOEK\n",
      "      1 KOERBECKE\n",
      "      1 KOETS\n",
      "      1 KOKORINOV\n",
      "      1 KOLBE\n",
      "      1 KOLLONITSCH\n",
      "      1 KOLUNIĆ\n",
      "      1 KOMPE\n",
      "      1 KÖNIG\n",
      "      4 KONINCK\n",
      "      1 KONRAD von Soest\t\n",
      "      1 KOPISCH\n",
      "      1 KŘBKE\n",
      "      2 TACCA\n",
      "      1 TACCONE\n",
      "      1 TADDEO DI BARTOLO\t\n",
      "      1 TADDEO DI FERRARA \n",
      "      1 TADOLINI\n",
      "      2 TALENTI\n",
      "      1 TALPA\n",
      "      1 TAMAGNI\n",
      "      1 TAMAGNINO\n",
      "      1 TAMM\n",
      "      1 TANZIO DA VARALLO\t\n",
      "      3 TARAVAL\n",
      "      1 TARBELL\n",
      "      1 TARCHIANI\n",
      "      1 TARDIEU\n",
      "      1 TARGONE\n",
      "      1 TARSIA\n",
      "      1 TARUFFI\n",
      "      2 TASSAERT\n",
      "      1 TASSEL\n",
      "      1 TASSI\n",
      "      1 TAUNAY\n",
      "      2 TEDESCO\n",
      "      1 TEERLINC\n",
      "      1 TELEPY\n",
      "      1 TEMANZA\n",
      "      1 TEMPEL\n",
      "      2 TEMPESTA\n",
      "      1 TENERANI\n",
      "      1 TENGNAGEL\n",
      "      3 TENIERS\n",
      "      1 TERBORCH\n",
      "      1 TERBRUGGHEN\n",
      "      1 TERILLI\n",
      "      1 TERRENI\n",
      "      1 TERZIO\n",
      "      2 TESSIN\n",
      "      1 TESTA\n",
      "      1 TESTELIN\n",
      "      1 TETRODE\n"
     ]
    }
   ],
   "source": [
    "%%bash \n",
    "awk -F [\",\"+\"(\"] '{print$1}' data/art/artists.txt | sort | uniq -c "
   ]
  },
  {
   "cell_type": "markdown",
   "metadata": {
    "deletable": false,
    "editable": false,
    "nbgrader": {
     "cell_type": "markdown",
     "checksum": "422551ae71edc1d1eec7109458aebea2",
     "grade": false,
     "grade_id": "cell-4e1133a9dd69b7b5",
     "locked": true,
     "schema_version": 3,
     "solution": false,
     "task": false
    }
   },
   "source": [
    "On your own: "
   ]
  },
  {
   "cell_type": "markdown",
   "metadata": {
    "deletable": false,
    "editable": false,
    "nbgrader": {
     "cell_type": "markdown",
     "checksum": "789359a3bf0045b94a629f43a4d2d3f4",
     "grade": false,
     "grade_id": "cell-300b78e3db68717f",
     "locked": true,
     "points": 1,
     "schema_version": 3,
     "solution": false,
     "task": true
    }
   },
   "source": [
    "#### Question 5 (1 point)\n",
    "Now that we've worked through these in pairs, create a bash script that integrates two items we haven't yet tried in the exercises, such as __`NF`__, to answer a question about the `artists.txt` file. Describe briefly what this does. Have this complete pior to next class.\n",
    "\n",
    "\n",
    "Reflections: On an integer scale of 1-5, 1 being very easy and 5 being the most difficult, where would you rank today's exercises? Provide brief notes on what was easy vs difficult, and why.  \n"
   ]
  },
  {
   "cell_type": "code",
   "execution_count": 240,
   "metadata": {
    "scrolled": false
   },
   "outputs": [
    {
     "name": "stdout",
     "output_type": "stream",
     "text": [
      "AACHEN Hans\n",
      "AAGAARD Carl\n",
      "ABADIA Juan\n",
      "ABAQUESNE Masséot\n",
      "ABBATE Niccolò\n",
      "ABBATI Giuseppe\n",
      "ABBATINI Guido\n",
      "ABBONDI Antonio\n",
      "ABEELE Pieter\n",
      "ABILDGAARD Nicolai\n",
      "ABONDIO Antonio\n",
      "ACERO Y\n",
      "ACHENBACH Oswald\n",
      "ADAM Albrecht\n",
      "ADAM Lambert-Sigisbert\n",
      "ADAM Nicolas-Sébastien\n",
      "ADAM Robert\n",
      "ADAM-SALOMON Antoine-Samuel\n",
      "ADELCRANTZ Carl\n",
      "ADEMOLLO Luigi\n",
      "ADLER Salomon\n",
      "ADOLFZOON Christoph\n",
      "ADOLPHI Christoffel\n",
      "ADRIAEN VAN\n",
      "ADRIAENSSEN Alexander\n",
      "ADRIANO FIORENTINO\n",
      "AELST Willem\n",
      "AENVANCK Theodoor\n",
      "AERT VAN\n",
      "AERTSEN Pieter\n",
      "AGASSE Jacques-Laurent\n",
      "AGNOLO DA\n",
      "AGNOLO DI\n",
      "AGNOLO DI\n",
      "AGOSTINO DI\n",
      "AGOSTINO DI\n",
      "AGOSTINO VENEZIANO\n",
      "AGRATE Gian\n",
      "AGUADO LÓPEZ\n",
      "AIVAZOVSKY Ivan\n",
      "AKEN Joseph\n",
      "AKOTANTOS Angelos\n",
      "ALBA Macrino\n",
      "ALBANI Francesco\n",
      "ALBEREGNO Jacobello\n",
      "ALBERTI Antonio\n",
      "ALBERTI Cherubino\n",
      "ALBERTI Giovanni\n",
      "ALBERTI Leon\n",
      "ALBERTINELLI Mariotto\n"
     ]
    }
   ],
   "source": [
    "%%bash \n",
    "#Print column 1 and 2 after line 100\n",
    "awk 'NR>100''{print$1,$2}' data/art/artists.txt | tr -d ',' "
   ]
  },
  {
   "cell_type": "markdown",
   "metadata": {},
   "source": [
    "*Reflections:* 4 <br>\n",
    "I think was easy to integrate awk with the previous pipes and commands we learned. However, I think the file was hard to manipulate. The last name of some artists is before the \",\", some others before the \"(\", and some others before \"tab space\". "
   ]
  },
  {
   "cell_type": "markdown",
   "metadata": {
    "deletable": false,
    "editable": false,
    "nbgrader": {
     "cell_type": "markdown",
     "checksum": "d409f9fc6cae08e7b63130c8d984ab3b",
     "grade": false,
     "grade_id": "cell-e30a29557264afab",
     "locked": true,
     "schema_version": 3,
     "solution": false,
     "task": false
    }
   },
   "source": [
    "## A2.ba: Loops [20-30 min] Group of 3\n",
    "### ba.i Loops [10 min]\n",
    "On your own"
   ]
  },
  {
   "cell_type": "markdown",
   "metadata": {
    "deletable": false,
    "editable": false,
    "nbgrader": {
     "cell_type": "markdown",
     "checksum": "e2f4253ac48fadd7228cd8fa9496e94a",
     "grade": false,
     "grade_id": "cell-6a789383b1f6dddd",
     "locked": true,
     "points": 1,
     "schema_version": 3,
     "solution": false,
     "task": true
    }
   },
   "source": [
    "#### Question 6 (1 point)\n",
    "Describe how a loop operates. Why and when do you want to use a loop, vs a single command string?\n",
    "\n",
    "\n",
    "Write a bash for loop that outpouts letters a-e\n"
   ]
  },
  {
   "cell_type": "markdown",
   "metadata": {},
   "source": [
    "**Describe how Loop operates**: Commands that are executed until a specific condition is met. <br>\n",
    "**Loop vs single command**: It's more efficient to run a loop to perform a repeating task rather than run a single command multiple times. "
   ]
  },
  {
   "cell_type": "code",
   "execution_count": 259,
   "metadata": {
    "scrolled": true
   },
   "outputs": [
    {
     "name": "stdout",
     "output_type": "stream",
     "text": [
      "a\n",
      "b\n",
      "c\n",
      "d\n",
      "e\n"
     ]
    }
   ],
   "source": [
    "%%bash\n",
    "for letter in a b c d e \n",
    "do\n",
    "echo $letter\n",
    "done"
   ]
  },
  {
   "cell_type": "markdown",
   "metadata": {
    "deletable": false,
    "editable": false,
    "nbgrader": {
     "cell_type": "markdown",
     "checksum": "0a34614523a3aa98ed5cfa9593e7e958",
     "grade": false,
     "grade_id": "cell-8707f4ad4abb75b7",
     "locked": true,
     "points": 1,
     "schema_version": 3,
     "solution": false,
     "task": true
    }
   },
   "source": [
    "#### Question 7 (1 point)\n",
    "What are the different types of loops, and when might you want to try one over another? Script an example.\n"
   ]
  },
  {
   "cell_type": "markdown",
   "metadata": {},
   "source": [
    "**Different types of loops** <br>\n",
    "a. For loop: Execution of commands for each item in a list. <br> \n",
    "b. While loop: Execution as long as the given condition evaluates true<br>\n",
    "c. Until loop: Execution as long as the given condition evaluates false <br>\n",
    "d. Select loop: Generates a menu of a list of items. Use if/case statements. Execution continue until the break command is executed. "
   ]
  },
  {
   "cell_type": "code",
   "execution_count": 288,
   "metadata": {
    "scrolled": true
   },
   "outputs": [
    {
     "name": "stdout",
     "output_type": "stream",
     "text": [
      "Number: 1\n",
      "Number: 2\n",
      "Number: 3\n",
      "Number: 4\n",
      "Number: 5\n",
      "Number: 6\n",
      "Number: 7\n",
      "Number: 8\n",
      "Number: 9\n",
      "Number: 10\n"
     ]
    }
   ],
   "source": [
    "%%bash\n",
    "#For loop \n",
    "#For each value (i) in the list ({1..10}) print 'Number:' + the value (i)\n",
    "\n",
    "for i in {1..10}\n",
    "do echo 'Number:' $i\n",
    "done"
   ]
  },
  {
   "cell_type": "code",
   "execution_count": 293,
   "metadata": {},
   "outputs": [
    {
     "name": "stdout",
     "output_type": "stream",
     "text": [
      "Number: 1\n",
      "Number: 2\n",
      "Number: 3\n",
      "Number: 4\n",
      "Number: 5\n",
      "Number: 6\n",
      "Number: 7\n",
      "Number: 8\n",
      "Number: 9\n",
      "Number: 10\n"
     ]
    }
   ],
   "source": [
    "%%bash\n",
    "#While loop \n",
    "# While i variable is less or equal to 10:\n",
    "# 1- Print 'Number:' + the number in the variable (i)\n",
    "# 2- Increments 1 to the variable (i). \n",
    "\n",
    "\n",
    "i=1\n",
    "while (( $i <= 10 ))\n",
    "do\n",
    "echo \"Number:\" $i\n",
    "i=$(($i + 1))\n",
    "done"
   ]
  },
  {
   "cell_type": "code",
   "execution_count": 294,
   "metadata": {},
   "outputs": [
    {
     "name": "stdout",
     "output_type": "stream",
     "text": [
      "Number: 1\n",
      "Number: 2\n",
      "Number: 3\n",
      "Number: 4\n",
      "Number: 5\n",
      "Number: 6\n",
      "Number: 7\n",
      "Number: 8\n",
      "Number: 9\n"
     ]
    }
   ],
   "source": [
    "%%bash\n",
    "#Until loop \n",
    "# Until i variable is greater than 10:  (if condition is less than 10, it evaluates to false and it's executed)\n",
    "# 1- Print 'Number:' + the number in the variable (i)\n",
    "# 2- Increments 1 to the variable (i).\n",
    "\n",
    "i=1\n",
    "until (( $i > 10 ))\n",
    "do\n",
    "echo \"Number:\" $i\n",
    "i=$(($i + 1))\n",
    "done"
   ]
  },
  {
   "cell_type": "markdown",
   "metadata": {
    "deletable": false,
    "editable": false,
    "nbgrader": {
     "cell_type": "markdown",
     "checksum": "d78c170c0b37ebc11e5bd01bca701f95",
     "grade": false,
     "grade_id": "cell-fe05faaf91b75713",
     "locked": true,
     "schema_version": 3,
     "solution": false,
     "task": false
    }
   },
   "source": [
    "### A2.bb: Create a script to run a job [20-30 min] Individual\n",
    "Get excited, we're about to apply what we've learned from a technical perspective to the science-y stuff! Familiar with 'fasta files' from NCBI? Here we go!\n",
    "https://blast.ncbi.nlm.nih.gov/Blast.cgi?CMD=Web&PAGE_TYPE=BlastDocs&DOC_TYPE=BlastHelp\n",
    "\n",
    "#### bb.i Applying what we've learned on bash to biology <br>"
   ]
  },
  {
   "cell_type": "markdown",
   "metadata": {
    "deletable": false,
    "editable": false,
    "nbgrader": {
     "cell_type": "markdown",
     "checksum": "4202ea12b8fcf4b5f7b2a852be8f7f22",
     "grade": false,
     "grade_id": "cell-ddee5afbc0429aee",
     "locked": true,
     "points": 1,
     "schema_version": 3,
     "solution": false,
     "task": true
    }
   },
   "source": [
    "#### Question 8 (1 point)\n",
    "In your \"Applied-Bioinformatics_Course\" Github repository, create a folder titled \"HW2_[Lastname]\"  \n",
    "_Note: Always check that you're in the correct working directory_\n",
    "\n",
    "Create a bash loop that renames all the files in the folder data/fastq folder from `*.fq` to `*.fastq`  \n",
    "_Note: Have all these files copied and moved into the `new_folder` directory so as not to overwrite the original `*.fq`_\n"
   ]
  },
  {
   "cell_type": "code",
   "execution_count": 309,
   "metadata": {},
   "outputs": [],
   "source": [
    "%%bash \n",
    "cd ~/\n",
    "mkdir HW2_GonzalezCavazos"
   ]
  },
  {
   "cell_type": "markdown",
   "metadata": {
    "deletable": false,
    "editable": false,
    "nbgrader": {
     "cell_type": "markdown",
     "checksum": "9afafd95672258b2dc295b5b48288b61",
     "grade": false,
     "grade_id": "cell-24812d415f3fdeac",
     "locked": true,
     "points": 1,
     "schema_version": 3,
     "solution": false,
     "task": true
    }
   },
   "source": [
    "#### Question 9 (1 point)\n",
    "Print all nucleotide sequences from ./data/fastq/simulated1.R1.fastq by replacing all 'T's in the nucleotide sequences with 'U's\n"
   ]
  },
  {
   "cell_type": "code",
   "execution_count": 655,
   "metadata": {},
   "outputs": [],
   "source": [
    "%%bash \n",
    "cd ~/HW2_GonzalezCavazos/new_folder/fastq/\n",
    "\n",
    "# Replace 'T' with 'U' \n",
    "#Use sed-i: Change the original file  \n",
    "#Use s: To indicate sustitution  \n",
    "#Use g: To operate on every pattern match\n",
    "sed -i 's/T/U/g' simulated1.R1.fastq "
   ]
  },
  {
   "cell_type": "markdown",
   "metadata": {
    "deletable": false,
    "editable": false,
    "nbgrader": {
     "cell_type": "markdown",
     "checksum": "a1aadc9db8f151df20374075f9a42575",
     "grade": false,
     "grade_id": "cell-d806d7b7c1a25af3",
     "locked": true,
     "points": 1,
     "schema_version": 3,
     "solution": false,
     "task": true
    }
   },
   "source": [
    "#### Question 10 (1 point)\n",
    "Create a bash loop that renames all the files in the folder data/fastq folder from `*.fq` to `*.fastq`  \n",
    "_Note: Have all these files copied and moved into the `new_folder` directory so as not to overwrite the original `*.fq`_\n"
   ]
  },
  {
   "cell_type": "code",
   "execution_count": 663,
   "metadata": {
    "scrolled": true
   },
   "outputs": [],
   "source": [
    "%%bash \n",
    "#Copy into new folder \n",
    "cp -r data/fastq ~/HW2_GonzalezCavazos/new_folder\n",
    "\n",
    "#Use mv to rename files \n",
    "#Use parameter expansion: ${file%.fq} to remove .fq from each file name\n",
    "\n",
    "cd ~/HW2_GonzalezCavazos/new_folder/fastq\n",
    "for file in * \n",
    "do\n",
    "mv \"$file\" \"${file%.fq}.fastq\"  \n",
    "done "
   ]
  },
  {
   "cell_type": "markdown",
   "metadata": {
    "deletable": false,
    "editable": false,
    "nbgrader": {
     "cell_type": "markdown",
     "checksum": "9bddab6c0cd0b30cbc4c12faff6d15ad",
     "grade": false,
     "grade_id": "cell-383a0643090d29f1",
     "locked": true,
     "schema_version": 3,
     "solution": false,
     "task": false
    }
   },
   "source": [
    "#### Question 11 (1 point) <br>\n",
    "Reflections: On an integer scale of 1-5, 1 being very easy and 5 being the most difficult, where would you rank the A2.bb assignment and why? Include some notes about what you gained from this past week that you didn't know before as well as notes of things you already knew. \n",
    "\n",
    "Improvements: Notice a [potentially intentional] mistake, or an area of this homework that could have been improved? Include your thoughts here. "
   ]
  },
  {
   "cell_type": "markdown",
   "metadata": {},
   "source": [
    "**Reflections**: 3. I didnt kwnow how to use some loops (until,select). I also learned how to change the extension of files and change characters on a file using sed commands. \n",
    "**Improvements**: I would say that would be great to have some hints on how to approach questions. I feel that there are multiple ways we can have the same output, but I'm not sure which way is better to understand the next homework :)"
   ]
  },
  {
   "cell_type": "code",
   "execution_count": null,
   "metadata": {},
   "outputs": [],
   "source": []
  }
 ],
 "metadata": {
  "kernelspec": {
   "display_name": "Python 3",
   "language": "python",
   "name": "python3"
  },
  "language_info": {
   "codemirror_mode": {
    "name": "ipython",
    "version": 3
   },
   "file_extension": ".py",
   "mimetype": "text/x-python",
   "name": "python",
   "nbconvert_exporter": "python",
   "pygments_lexer": "ipython3",
   "version": "3.6.3"
  }
 },
 "nbformat": 4,
 "nbformat_minor": 4
}
