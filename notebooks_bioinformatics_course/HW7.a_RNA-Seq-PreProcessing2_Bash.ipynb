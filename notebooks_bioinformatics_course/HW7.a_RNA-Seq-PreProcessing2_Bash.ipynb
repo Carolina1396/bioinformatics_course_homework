{
 "cells": [
  {
   "cell_type": "markdown",
   "metadata": {},
   "source": [
    "Before you turn this problem in, make sure everything runs as expected. First, **restart the kernel** (in the menubar, select Kernel$\\rightarrow$Restart) and then **run all cells** (in the menubar, select Cell$\\rightarrow$Run All).\n",
    "\n",
    "Make sure you fill in any place that says `YOUR CODE HERE` or \"YOUR ANSWER HERE\", as well as your name and collaborators below:"
   ]
  },
  {
   "cell_type": "code",
   "execution_count": null,
   "metadata": {},
   "outputs": [],
   "source": [
    "NAME = \"Adriana Carolina Gonzalez-Cavazos\"\n",
    "COLLABORATORS = \"\""
   ]
  },
  {
   "cell_type": "markdown",
   "metadata": {
    "deletable": false,
    "editable": false,
    "nbgrader": {
     "cell_type": "markdown",
     "checksum": "9b3c3c3887c9a4c9619d7863c3c452b1",
     "grade": false,
     "grade_id": "cell-36395415d8ed8cc1",
     "locked": true,
     "schema_version": 3,
     "solution": false,
     "task": false
    }
   },
   "source": [
    "# Homework 7.a\n",
    "Curated by Sabah Ul-Hasan\n",
    "\n",
    "Complete this homework by Thursday at 8 AM PST. <br>\n",
    "Save your homework as you go, so the efforts don't get lost. <br>\n",
    "Note there are 5 points, based on completedness."
   ]
  },
  {
   "cell_type": "markdown",
   "metadata": {
    "deletable": false,
    "editable": false,
    "nbgrader": {
     "cell_type": "markdown",
     "checksum": "eb49c86d90b50153d504a3ec464366e9",
     "grade": false,
     "grade_id": "cell-0990bfa6c80e4611",
     "locked": true,
     "schema_version": 3,
     "solution": false,
     "task": false
    }
   },
   "source": [
    "## A7.aa: Solidfy your understanding of Week 6\n",
    "### Question 1 (3 points)\n",
    "\n",
    "a. Currently, there is no key for HW6. View the following document to identify which part of the HW6 answer key you will contribute. After you've identified the questions, use the space below to then write an annotated answer in a form you deem would be appropriate to read as a student on the other side.  \n",
    "https://docs.google.com/spreadsheets/d/1tJBfQO8fSTCYU551zBYbVKuZQxljXU4d8nF_1vgfFNo/edit?usp=sharing <br>\n",
    "b. If you struggled with this question, include the doubts you encountered and how you navigated identifying and answer you felt confident about. "
   ]
  },
  {
   "cell_type": "markdown",
   "metadata": {
    "deletable": false,
    "nbgrader": {
     "cell_type": "markdown",
     "checksum": "2e64f0c7e06f446151996b1f7308b03f",
     "grade": true,
     "grade_id": "cell-780902df8abd490c",
     "locked": false,
     "points": 3,
     "schema_version": 3,
     "solution": true,
     "task": false
    }
   },
   "source": [
    "QUESTION 3 <br>\n",
    "-a-  <br>\n",
    "1-What is the command to generate fastqc report for the file SRR5454101.1_downsampled? <br>\n",
    "**fastqc**\n",
    "\n",
    "2-What specific categories were flagged in `orange` or `red` in the report? Give reasons as to why they might have been flagged. Consult the manual for details on each analysis module https://www.bioinformatics.babraham.ac.uk/projects/fastqc/Help/ \n",
    "CATEGORIES: \n",
    "- Per base sequence content: Degradation of quality over the duration of long runs.\n",
    "- Per sequence GC content: Overrepresented sequences, Biased fragmentation, Biased composition libraries\n",
    "- Per base N content: Loss of quality\n",
    "- Sequence length distribution: Normal to have different read length. Ignore warnings. \n",
    "\n",
    "3-Generate a fastqc report for the file `Zymo-GridION-EVEN-BB-SN_downsampled.fastq` present in the folder `hw6/data/nanopore_example/`. Contrast the report you generated here with the one you generated in question 1 by giving two specific quantities/analysis modules in which the two reports differ. \n",
    "- Per base sequence quality\n",
    "- Per sequence quality scores\n",
    "- Per base N content\n",
    "- Sequence Duplication Levels\n",
    "- Overrepresented sequences\n",
    "- Kmer Content\n",
    "\n",
    "-b- \n",
    "- I think would make more sense to put answer 3 before answer 2\n",
    "- I would include more details about how to load fastqc module on the terminal."
   ]
  },
  {
   "cell_type": "markdown",
   "metadata": {
    "deletable": false,
    "editable": false,
    "nbgrader": {
     "cell_type": "markdown",
     "checksum": "451b27a354b1388f824c13370a096dde",
     "grade": false,
     "grade_id": "cell-50ef4c6617ce8b57",
     "locked": true,
     "schema_version": 3,
     "solution": false,
     "task": false
    }
   },
   "source": [
    "## A7.ab: Understanding the RNA-Seq Analysis Pipeline\n",
    "### Question 2 (2 points)\n",
    "\n",
    "First, read through the following tutorial (you can try it if you'd like, but you're only being asked to read through it here) <br>\n",
    "https://galaxyproject.github.io/training-material/topics/transcriptomics/tutorials/ref-based/tutorial.html\n",
    "\n",
    "a. In one paragraph (4-6 sentences) describe the similarities and differences of this tutorial from what we've outlined to you. What are the fundamentals? <br><br>\n",
    "b. Thursday, we will be counting genes based on our data pre-processing (from raw reads -> alignment). <br> Visit your paper assigned, and revisit Capstone instructions if needed.<br>\n",
    "https://docs.google.com/spreadsheets/d/1aiL_eaqaszIA-77M8WPyNl5dcu-FINsXjCwH5vfjSp4/edit?usp=sharing <br>\n",
    "https://github.com/SuLab/Applied-Bioinformatics/tree/Fall-2020/Capstone <br>\n",
    "In the text box below, write two paragraphs (4-6 sentences each) to describe the data of your paper in parallel to what you've learned thus far about RNA-Seq analysis. What state is the data the researchers used for their figures? "
   ]
  },
  {
   "cell_type": "markdown",
   "metadata": {
    "deletable": false,
    "nbgrader": {
     "cell_type": "markdown",
     "checksum": "ae7c50c345070615cd12b46f4d93546b",
     "grade": true,
     "grade_id": "cell-780902df8abd490d",
     "locked": false,
     "points": 2,
     "schema_version": 3,
     "solution": true,
     "task": false
    }
   },
   "source": [
    "Question 2a. <br>\n",
    "\n",
    "SIMILARITIES <br>\n",
    "i) Quaily control: **FastQC** to create a report of sequence quality <br>\n",
    "ii) Spliced mappers: HISAT2 <br>\n",
    "iii) SAM/BAM files <br>\n",
    "iv) Visualize mapping results<br>\n",
    "\n",
    "DIFFERENCES <br>\n",
    "i) Analysis using Galaxy plataform. <br>\n",
    "ii) Quaily control: **MultiQC**  to aggregate generated reports, **Cutadapt** to improve the quality of sequences via trimming and filtering, **MarkDuplicates** examines aligned records from a BAM file to locate duplicate reads<br>\n",
    "iii) Spliced mappers: STAR aligner, TopHat <br>\n",
    "iv) Visualize mapping results: IVG software (Sashimi plots)<br>\n",
    "v) Samtools idxstats: Number of reads mapped to each chromosome <br>\n",
    "vi) RSeQC: Gene Body Coverage (5’/3’ bias), Read Distribution (exons, CDS, 5’ UTR, 3’ UTR, introns, intergenic regions)<br> \n",
    "vii)Determining the library strandness: <br>\n",
    "viii) Quantify the number of reads per gene:  HTSeq-count, featureCounts<br>\n",
    "ix)differential gene expression <br>\n",
    "-gene counts need to be normalized (RPK, FPKM and TPM) <br>\n",
    "x) DESeq2 (estimate biological variance, estimate signifcance of expression between 2 conditions) <br>\n",
    "-Output: normalized counts for each gene, graphical experiment summary (PCA, heatmaps, dispersion estimates, histograms, MA plots), summary file with multiple statistic values  <br>\n",
    "-Annotation of differently expressed genes "
   ]
  },
  {
   "cell_type": "markdown",
   "metadata": {},
   "source": [
    "What state is the data the researchers used for their figures? <br>\n",
    "\n",
    "Xin et al., 2016: <br>\n",
    "\n",
    "Genome alignment: RNA-seq reads were aligned to the GRCm37/mm9 build of the Mus musculus genome using the Subread aligner. <br>\n",
    "\n",
    "Counting Reads: Only uniquely mapped reads were retained. Genewise counts were obtained using featureCounts. Only reads overlapping with the last 3,000 exonic bases (located at 3′ end) of each gene were counted. Genes were filtered from downstream analysis if they failed to achieve a reads per kilobase of exon length per million mapped reads (RPKM) value of at least 0.5 in at least two libraries. <br>\n",
    "\n",
    "Expression analysis: performed using Biconductor R package edgeR. <br>"
   ]
  }
 ],
 "metadata": {
  "kernelspec": {
   "display_name": "R",
   "language": "R",
   "name": "ir"
  },
  "language_info": {
   "codemirror_mode": "r",
   "file_extension": ".r",
   "mimetype": "text/x-r-source",
   "name": "R",
   "pygments_lexer": "r",
   "version": "3.5.1"
  }
 },
 "nbformat": 4,
 "nbformat_minor": 4
}
