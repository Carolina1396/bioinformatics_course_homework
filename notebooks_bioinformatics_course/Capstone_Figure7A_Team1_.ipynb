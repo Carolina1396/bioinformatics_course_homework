{
 "cells": [
  {
   "cell_type": "markdown",
   "metadata": {},
   "source": [
    "## Contributions  \n",
    "A.Carolina Gonzalez: **CG** Federico Zampa: **FZ** Nina Shi: **NS** <br>\n",
    "\n",
    "\n",
    "Sort dataframe: CG,NS,FZ<br>\n",
    "Calculate mean value of replicates: NS<br>\n",
    "Calculate sd and z-score values: CG<br>\n",
    "Shape dataframe for heatmap: CG,NS<br>\n",
    "Setup heatmap: FZ"
   ]
  },
  {
   "cell_type": "code",
   "execution_count": 2,
   "metadata": {},
   "outputs": [],
   "source": [
    "#Import Library \n",
    "library(tidyverse)\n",
    "library(reshape2)\n",
    "library(gplots)"
   ]
  },
  {
   "cell_type": "code",
   "execution_count": 3,
   "metadata": {},
   "outputs": [
    {
     "data": {
      "text/html": [
       "<table>\n",
       "<caption>A data.frame: 6 × 9</caption>\n",
       "<thead>\n",
       "\t<tr><th></th><th scope=col>Symbol</th><th scope=col>S1.WT.1</th><th scope=col>S5.WT.2</th><th scope=col>S2.BlimpKO.1</th><th scope=col>S6.BlimpKO.2</th><th scope=col>S3.TbetKO.1</th><th scope=col>S7.TbetKO.2</th><th scope=col>S4.DKO.1</th><th scope=col>S8.DKO.2</th></tr>\n",
       "\t<tr><th></th><th scope=col>&lt;fct&gt;</th><th scope=col>&lt;dbl&gt;</th><th scope=col>&lt;dbl&gt;</th><th scope=col>&lt;dbl&gt;</th><th scope=col>&lt;dbl&gt;</th><th scope=col>&lt;dbl&gt;</th><th scope=col>&lt;dbl&gt;</th><th scope=col>&lt;dbl&gt;</th><th scope=col>&lt;dbl&gt;</th></tr>\n",
       "</thead>\n",
       "<tbody>\n",
       "\t<tr><th scope=row>3624</th><td>Gzma  </td><td>9.600537</td><td>9.243791</td><td>7.590605</td><td>6.732208</td><td>5.3525210</td><td>7.819147</td><td> 3.809018</td><td>3.1152665</td></tr>\n",
       "\t<tr><th scope=row>13490</th><td>Cx3cr1</td><td>7.645995</td><td>7.624803</td><td>6.128040</td><td>5.536862</td><td>4.5084692</td><td>6.278160</td><td> 3.432644</td><td>2.4403507</td></tr>\n",
       "\t<tr><th scope=row>8127</th><td>Sema4a</td><td>7.269906</td><td>7.219532</td><td>6.369266</td><td>6.328405</td><td>6.1241316</td><td>6.443113</td><td> 4.953529</td><td>4.9280705</td></tr>\n",
       "\t<tr><th scope=row>13538</th><td>Ccr5  </td><td>6.844842</td><td>6.756816</td><td>5.644583</td><td>5.326466</td><td>5.0132919</td><td>5.744329</td><td> 3.479213</td><td>3.1641177</td></tr>\n",
       "\t<tr><th scope=row>997</th><td>Prf1  </td><td>8.449985</td><td>8.245118</td><td>7.087723</td><td>6.888363</td><td>6.9727462</td><td>7.789022</td><td> 5.411753</td><td>5.3942794</td></tr>\n",
       "\t<tr><th scope=row>13190</th><td>Aqp9  </td><td>3.038762</td><td>2.955309</td><td>1.019415</td><td>2.100406</td><td>0.9734355</td><td>1.872903</td><td>-0.506833</td><td>0.6648396</td></tr>\n",
       "</tbody>\n",
       "</table>\n"
      ],
      "text/latex": [
       "A data.frame: 6 × 9\n",
       "\\begin{tabular}{r|lllllllll}\n",
       "  & Symbol & S1.WT.1 & S5.WT.2 & S2.BlimpKO.1 & S6.BlimpKO.2 & S3.TbetKO.1 & S7.TbetKO.2 & S4.DKO.1 & S8.DKO.2\\\\\n",
       "  & <fct> & <dbl> & <dbl> & <dbl> & <dbl> & <dbl> & <dbl> & <dbl> & <dbl>\\\\\n",
       "\\hline\n",
       "\t3624 & Gzma   & 9.600537 & 9.243791 & 7.590605 & 6.732208 & 5.3525210 & 7.819147 &  3.809018 & 3.1152665\\\\\n",
       "\t13490 & Cx3cr1 & 7.645995 & 7.624803 & 6.128040 & 5.536862 & 4.5084692 & 6.278160 &  3.432644 & 2.4403507\\\\\n",
       "\t8127 & Sema4a & 7.269906 & 7.219532 & 6.369266 & 6.328405 & 6.1241316 & 6.443113 &  4.953529 & 4.9280705\\\\\n",
       "\t13538 & Ccr5   & 6.844842 & 6.756816 & 5.644583 & 5.326466 & 5.0132919 & 5.744329 &  3.479213 & 3.1641177\\\\\n",
       "\t997 & Prf1   & 8.449985 & 8.245118 & 7.087723 & 6.888363 & 6.9727462 & 7.789022 &  5.411753 & 5.3942794\\\\\n",
       "\t13190 & Aqp9   & 3.038762 & 2.955309 & 1.019415 & 2.100406 & 0.9734355 & 1.872903 & -0.506833 & 0.6648396\\\\\n",
       "\\end{tabular}\n"
      ],
      "text/markdown": [
       "\n",
       "A data.frame: 6 × 9\n",
       "\n",
       "| <!--/--> | Symbol &lt;fct&gt; | S1.WT.1 &lt;dbl&gt; | S5.WT.2 &lt;dbl&gt; | S2.BlimpKO.1 &lt;dbl&gt; | S6.BlimpKO.2 &lt;dbl&gt; | S3.TbetKO.1 &lt;dbl&gt; | S7.TbetKO.2 &lt;dbl&gt; | S4.DKO.1 &lt;dbl&gt; | S8.DKO.2 &lt;dbl&gt; |\n",
       "|---|---|---|---|---|---|---|---|---|---|\n",
       "| 3624 | Gzma   | 9.600537 | 9.243791 | 7.590605 | 6.732208 | 5.3525210 | 7.819147 |  3.809018 | 3.1152665 |\n",
       "| 13490 | Cx3cr1 | 7.645995 | 7.624803 | 6.128040 | 5.536862 | 4.5084692 | 6.278160 |  3.432644 | 2.4403507 |\n",
       "| 8127 | Sema4a | 7.269906 | 7.219532 | 6.369266 | 6.328405 | 6.1241316 | 6.443113 |  4.953529 | 4.9280705 |\n",
       "| 13538 | Ccr5   | 6.844842 | 6.756816 | 5.644583 | 5.326466 | 5.0132919 | 5.744329 |  3.479213 | 3.1641177 |\n",
       "| 997 | Prf1   | 8.449985 | 8.245118 | 7.087723 | 6.888363 | 6.9727462 | 7.789022 |  5.411753 | 5.3942794 |\n",
       "| 13190 | Aqp9   | 3.038762 | 2.955309 | 1.019415 | 2.100406 | 0.9734355 | 1.872903 | -0.506833 | 0.6648396 |\n",
       "\n"
      ],
      "text/plain": [
       "      Symbol S1.WT.1  S5.WT.2  S2.BlimpKO.1 S6.BlimpKO.2 S3.TbetKO.1\n",
       "3624  Gzma   9.600537 9.243791 7.590605     6.732208     5.3525210  \n",
       "13490 Cx3cr1 7.645995 7.624803 6.128040     5.536862     4.5084692  \n",
       "8127  Sema4a 7.269906 7.219532 6.369266     6.328405     6.1241316  \n",
       "13538 Ccr5   6.844842 6.756816 5.644583     5.326466     5.0132919  \n",
       "997   Prf1   8.449985 8.245118 7.087723     6.888363     6.9727462  \n",
       "13190 Aqp9   3.038762 2.955309 1.019415     2.100406     0.9734355  \n",
       "      S7.TbetKO.2 S4.DKO.1  S8.DKO.2 \n",
       "3624  7.819147     3.809018 3.1152665\n",
       "13490 6.278160     3.432644 2.4403507\n",
       "8127  6.443113     4.953529 4.9280705\n",
       "13538 5.744329     3.479213 3.1641177\n",
       "997   7.789022     5.411753 5.3942794\n",
       "13190 1.872903    -0.506833 0.6648396"
      ]
     },
     "metadata": {},
     "output_type": "display_data"
    }
   ],
   "source": [
    "#import data file\n",
    "countData <- read.csv(file=\"PMID-26950239-8Lib-log2RPKM.csv\", header = TRUE)\n",
    "\n",
    "#Sort genes of interest \n",
    "genes <- c(\"Gzma\",\"Cx3cr1\",\"Sema4a\",\"Ccr5\",\"Prf1\",\"Aqp9\",\"Cercam\",\"Zeb2\",\"Dok2\",\"Klrg1\",\n",
    "            \"S1pr5\",\"Il18rap\",\"Gzmk\",\"Serpinb9\",\"Klrk1\",\"Tbx21\",\"Zfp683\",\"Ctla2a\",\"Gzmm\",\"Il12rb2\",\n",
    "            \"Gzmb\",\"Havcr2\",\"Fasl\",\"Id2\",\"Ccr2\",\"Ifng\",\"Cxcr6\",\"Cish\",\"Il7r\",\"Tnfrsf9\",\n",
    "            \"Ccr6\",\"Egr1\",\"Egr2\",\"Lag3\",\"Itgae\",\"Icos\",\"Hif1a\",\"Tspan32\",\"Tnfrsf4\",\"Batf\",\n",
    "            \"Bcl6\",\"Btla\",\"Pou2af1\",\"Irf4\",\"Il1r2\",\"Ltb\",\"Tnf\",\"Il23r\",\"Ccr7\",\"Cxcr5\",\n",
    "            \"Id3\",\"Lta\",\"Tox\",\"Tcf7\",\"Batf3\",\"Maf\",\"Ccr9\",\"Il17a\",\"Rorc\") \n",
    "\n",
    "#Return matches of the \"genes\" vector in the \"Symbol\" column of countData \n",
    "countData <- countData[match(genes, countData$Symbol),] \n",
    "\n",
    "head(countData)\n"
   ]
  },
  {
   "cell_type": "code",
   "execution_count": 4,
   "metadata": {
    "scrolled": false
   },
   "outputs": [
    {
     "data": {
      "text/html": [
       "<table>\n",
       "<caption>A data.frame: 6 × 4</caption>\n",
       "<thead>\n",
       "\t<tr><th></th><th scope=col>WT</th><th scope=col>Blimp1fl/flLck-Cre</th><th scope=col>Tbx21−/−</th><th scope=col>Tbx21−/−Blimp1fl/flLck-Cre</th></tr>\n",
       "\t<tr><th></th><th scope=col>&lt;dbl&gt;</th><th scope=col>&lt;dbl&gt;</th><th scope=col>&lt;dbl&gt;</th><th scope=col>&lt;dbl&gt;</th></tr>\n",
       "</thead>\n",
       "<tbody>\n",
       "\t<tr><th scope=row>1</th><td>9.422164</td><td>7.161406</td><td>6.585834</td><td>3.46214223</td></tr>\n",
       "\t<tr><th scope=row>2</th><td>7.635399</td><td>5.832451</td><td>5.393315</td><td>2.93649757</td></tr>\n",
       "\t<tr><th scope=row>3</th><td>7.244719</td><td>6.348835</td><td>6.283622</td><td>4.94079990</td></tr>\n",
       "\t<tr><th scope=row>4</th><td>6.800829</td><td>5.485525</td><td>5.378810</td><td>3.32166556</td></tr>\n",
       "\t<tr><th scope=row>5</th><td>8.347552</td><td>6.988043</td><td>7.380884</td><td>5.40301631</td></tr>\n",
       "\t<tr><th scope=row>6</th><td>2.997036</td><td>1.559910</td><td>1.423169</td><td>0.07900328</td></tr>\n",
       "</tbody>\n",
       "</table>\n"
      ],
      "text/latex": [
       "A data.frame: 6 × 4\n",
       "\\begin{tabular}{r|llll}\n",
       "  & WT & Blimp1fl/flLck-Cre & Tbx21−/− & Tbx21−/−Blimp1fl/flLck-Cre\\\\\n",
       "  & <dbl> & <dbl> & <dbl> & <dbl>\\\\\n",
       "\\hline\n",
       "\t1 & 9.422164 & 7.161406 & 6.585834 & 3.46214223\\\\\n",
       "\t2 & 7.635399 & 5.832451 & 5.393315 & 2.93649757\\\\\n",
       "\t3 & 7.244719 & 6.348835 & 6.283622 & 4.94079990\\\\\n",
       "\t4 & 6.800829 & 5.485525 & 5.378810 & 3.32166556\\\\\n",
       "\t5 & 8.347552 & 6.988043 & 7.380884 & 5.40301631\\\\\n",
       "\t6 & 2.997036 & 1.559910 & 1.423169 & 0.07900328\\\\\n",
       "\\end{tabular}\n"
      ],
      "text/markdown": [
       "\n",
       "A data.frame: 6 × 4\n",
       "\n",
       "| <!--/--> | WT &lt;dbl&gt; | Blimp1fl/flLck-Cre &lt;dbl&gt; | Tbx21−/− &lt;dbl&gt; | Tbx21−/−Blimp1fl/flLck-Cre &lt;dbl&gt; |\n",
       "|---|---|---|---|---|\n",
       "| 1 | 9.422164 | 7.161406 | 6.585834 | 3.46214223 |\n",
       "| 2 | 7.635399 | 5.832451 | 5.393315 | 2.93649757 |\n",
       "| 3 | 7.244719 | 6.348835 | 6.283622 | 4.94079990 |\n",
       "| 4 | 6.800829 | 5.485525 | 5.378810 | 3.32166556 |\n",
       "| 5 | 8.347552 | 6.988043 | 7.380884 | 5.40301631 |\n",
       "| 6 | 2.997036 | 1.559910 | 1.423169 | 0.07900328 |\n",
       "\n"
      ],
      "text/plain": [
       "  WT       Blimp1fl/flLck-Cre Tbx21−/− Tbx21−/−Blimp1fl/flLck-Cre\n",
       "1 9.422164 7.161406           6.585834 3.46214223                \n",
       "2 7.635399 5.832451           5.393315 2.93649757                \n",
       "3 7.244719 6.348835           6.283622 4.94079990                \n",
       "4 6.800829 5.485525           5.378810 3.32166556                \n",
       "5 8.347552 6.988043           7.380884 5.40301631                \n",
       "6 2.997036 1.559910           1.423169 0.07900328                "
      ]
     },
     "metadata": {},
     "output_type": "display_data"
    }
   ],
   "source": [
    "#Calculate mean of samples replicates \n",
    "\n",
    "#countData_mean have 4 columns and same number of rows as countData\n",
    "#[x,y] represent the location in mean dataframe, x indicates the row, y indicates the column\n",
    "#for each gene located at xth row in countData_mean,\n",
    "#the corresponding duplicates is located at [x,2*y] and [x,2*y+1] in the countData\n",
    "#y=1 calculate the mean of WT, y=2 calculate the mean of BlimpKO\n",
    "#y=3 calculate the mean of TbetKO, y=4 calculate the mean of DKO\n",
    "countData_mean <- data.frame()\n",
    "for (y in 1:4){\n",
    "    for (x in 1:nrow(countData)){\n",
    "        countData_mean[x,y] <- mean(c(countData[x,2*y],countData[x,2*y+1]))\n",
    "    }\n",
    "}\n",
    "\n",
    "\n",
    "\n",
    "\n",
    "#rename column as sample name\n",
    "countData_mean <- rename(countData_mean,\n",
    "    \"WT\" = V1,\n",
    "    \"Blimp1fl/flLck-Cre\" = V2, #BlimpKO\n",
    "    \"Tbx21−/−\" = V3, #TbetKO\n",
    "    \"Tbx21−/−Blimp1fl/flLck-Cre\" = V4) #DKO\n",
    "\n",
    "head(countData_mean)\n",
    "                   "
   ]
  },
  {
   "cell_type": "code",
   "execution_count": 5,
   "metadata": {},
   "outputs": [
    {
     "data": {
      "text/html": [
       "<table>\n",
       "<caption>A data.frame: 6 × 5</caption>\n",
       "<thead>\n",
       "\t<tr><th></th><th scope=col>WT</th><th scope=col>Blimp1fl/flLck-Cre</th><th scope=col>Tbx21−/−</th><th scope=col>Tbx21−/−Blimp1fl/flLck-Cre</th><th scope=col>sd_data</th></tr>\n",
       "\t<tr><th></th><th scope=col>&lt;dbl&gt;</th><th scope=col>&lt;dbl&gt;</th><th scope=col>&lt;dbl&gt;</th><th scope=col>&lt;dbl&gt;</th><th scope=col>&lt;dbl&gt;</th></tr>\n",
       "</thead>\n",
       "<tbody>\n",
       "\t<tr><th scope=row>1</th><td>9.422164</td><td>7.161406</td><td>6.585834</td><td>3.46214223</td><td>2.4571485</td></tr>\n",
       "\t<tr><th scope=row>2</th><td>7.635399</td><td>5.832451</td><td>5.393315</td><td>2.93649757</td><td>1.9359014</td></tr>\n",
       "\t<tr><th scope=row>3</th><td>7.244719</td><td>6.348835</td><td>6.283622</td><td>4.94079990</td><td>0.9497519</td></tr>\n",
       "\t<tr><th scope=row>4</th><td>6.800829</td><td>5.485525</td><td>5.378810</td><td>3.32166556</td><td>1.4370763</td></tr>\n",
       "\t<tr><th scope=row>5</th><td>8.347552</td><td>6.988043</td><td>7.380884</td><td>5.40301631</td><td>1.2258192</td></tr>\n",
       "\t<tr><th scope=row>6</th><td>2.997036</td><td>1.559910</td><td>1.423169</td><td>0.07900328</td><td>1.1928909</td></tr>\n",
       "</tbody>\n",
       "</table>\n"
      ],
      "text/latex": [
       "A data.frame: 6 × 5\n",
       "\\begin{tabular}{r|lllll}\n",
       "  & WT & Blimp1fl/flLck-Cre & Tbx21−/− & Tbx21−/−Blimp1fl/flLck-Cre & sd\\_data\\\\\n",
       "  & <dbl> & <dbl> & <dbl> & <dbl> & <dbl>\\\\\n",
       "\\hline\n",
       "\t1 & 9.422164 & 7.161406 & 6.585834 & 3.46214223 & 2.4571485\\\\\n",
       "\t2 & 7.635399 & 5.832451 & 5.393315 & 2.93649757 & 1.9359014\\\\\n",
       "\t3 & 7.244719 & 6.348835 & 6.283622 & 4.94079990 & 0.9497519\\\\\n",
       "\t4 & 6.800829 & 5.485525 & 5.378810 & 3.32166556 & 1.4370763\\\\\n",
       "\t5 & 8.347552 & 6.988043 & 7.380884 & 5.40301631 & 1.2258192\\\\\n",
       "\t6 & 2.997036 & 1.559910 & 1.423169 & 0.07900328 & 1.1928909\\\\\n",
       "\\end{tabular}\n"
      ],
      "text/markdown": [
       "\n",
       "A data.frame: 6 × 5\n",
       "\n",
       "| <!--/--> | WT &lt;dbl&gt; | Blimp1fl/flLck-Cre &lt;dbl&gt; | Tbx21−/− &lt;dbl&gt; | Tbx21−/−Blimp1fl/flLck-Cre &lt;dbl&gt; | sd_data &lt;dbl&gt; |\n",
       "|---|---|---|---|---|---|\n",
       "| 1 | 9.422164 | 7.161406 | 6.585834 | 3.46214223 | 2.4571485 |\n",
       "| 2 | 7.635399 | 5.832451 | 5.393315 | 2.93649757 | 1.9359014 |\n",
       "| 3 | 7.244719 | 6.348835 | 6.283622 | 4.94079990 | 0.9497519 |\n",
       "| 4 | 6.800829 | 5.485525 | 5.378810 | 3.32166556 | 1.4370763 |\n",
       "| 5 | 8.347552 | 6.988043 | 7.380884 | 5.40301631 | 1.2258192 |\n",
       "| 6 | 2.997036 | 1.559910 | 1.423169 | 0.07900328 | 1.1928909 |\n",
       "\n"
      ],
      "text/plain": [
       "  WT       Blimp1fl/flLck-Cre Tbx21−/− Tbx21−/−Blimp1fl/flLck-Cre sd_data  \n",
       "1 9.422164 7.161406           6.585834 3.46214223                 2.4571485\n",
       "2 7.635399 5.832451           5.393315 2.93649757                 1.9359014\n",
       "3 7.244719 6.348835           6.283622 4.94079990                 0.9497519\n",
       "4 6.800829 5.485525           5.378810 3.32166556                 1.4370763\n",
       "5 8.347552 6.988043           7.380884 5.40301631                 1.2258192\n",
       "6 2.997036 1.559910           1.423169 0.07900328                 1.1928909"
      ]
     },
     "metadata": {},
     "output_type": "display_data"
    }
   ],
   "source": [
    "#Calculate standard deviation using \"sd\" function. Create a new column with the sd value\n",
    "\n",
    "countData_mean$sd_data <- apply(countData_mean,1,sd) \n",
    "\n",
    "head(countData_mean)\n"
   ]
  },
  {
   "cell_type": "code",
   "execution_count": 6,
   "metadata": {},
   "outputs": [
    {
     "data": {
      "text/html": [
       "<table>\n",
       "<caption>A data.frame: 6 × 4</caption>\n",
       "<thead>\n",
       "\t<tr><th></th><th scope=col>WT</th><th scope=col>Blimp1fl/flLck-Cre</th><th scope=col>Tbx21−/−</th><th scope=col>Tbx21−/−Blimp1fl/flLck-Cre</th></tr>\n",
       "\t<tr><th></th><th scope=col>&lt;dbl&gt;</th><th scope=col>&lt;dbl&gt;</th><th scope=col>&lt;dbl&gt;</th><th scope=col>&lt;dbl&gt;</th></tr>\n",
       "</thead>\n",
       "<tbody>\n",
       "\t<tr><th scope=row>1</th><td>1.124994</td><td> 0.20492035</td><td>-0.02932369</td><td>-1.300591</td></tr>\n",
       "\t<tr><th scope=row>2</th><td>1.129181</td><td> 0.19785900</td><td>-0.02897913</td><td>-1.298061</td></tr>\n",
       "\t<tr><th scope=row>3</th><td>1.095259</td><td> 0.15197778</td><td> 0.08331467</td><td>-1.330552</td></tr>\n",
       "\t<tr><th scope=row>4</th><td>1.081447</td><td> 0.16618270</td><td> 0.09192479</td><td>-1.339554</td></tr>\n",
       "\t<tr><th scope=row>5</th><td>1.074936</td><td>-0.03412472</td><td> 0.28634771</td><td>-1.327159</td></tr>\n",
       "\t<tr><th scope=row>6</th><td>1.242575</td><td> 0.03783308</td><td>-0.07679705</td><td>-1.203611</td></tr>\n",
       "</tbody>\n",
       "</table>\n"
      ],
      "text/latex": [
       "A data.frame: 6 × 4\n",
       "\\begin{tabular}{r|llll}\n",
       "  & WT & Blimp1fl/flLck-Cre & Tbx21−/− & Tbx21−/−Blimp1fl/flLck-Cre\\\\\n",
       "  & <dbl> & <dbl> & <dbl> & <dbl>\\\\\n",
       "\\hline\n",
       "\t1 & 1.124994 &  0.20492035 & -0.02932369 & -1.300591\\\\\n",
       "\t2 & 1.129181 &  0.19785900 & -0.02897913 & -1.298061\\\\\n",
       "\t3 & 1.095259 &  0.15197778 &  0.08331467 & -1.330552\\\\\n",
       "\t4 & 1.081447 &  0.16618270 &  0.09192479 & -1.339554\\\\\n",
       "\t5 & 1.074936 & -0.03412472 &  0.28634771 & -1.327159\\\\\n",
       "\t6 & 1.242575 &  0.03783308 & -0.07679705 & -1.203611\\\\\n",
       "\\end{tabular}\n"
      ],
      "text/markdown": [
       "\n",
       "A data.frame: 6 × 4\n",
       "\n",
       "| <!--/--> | WT &lt;dbl&gt; | Blimp1fl/flLck-Cre &lt;dbl&gt; | Tbx21−/− &lt;dbl&gt; | Tbx21−/−Blimp1fl/flLck-Cre &lt;dbl&gt; |\n",
       "|---|---|---|---|---|\n",
       "| 1 | 1.124994 |  0.20492035 | -0.02932369 | -1.300591 |\n",
       "| 2 | 1.129181 |  0.19785900 | -0.02897913 | -1.298061 |\n",
       "| 3 | 1.095259 |  0.15197778 |  0.08331467 | -1.330552 |\n",
       "| 4 | 1.081447 |  0.16618270 |  0.09192479 | -1.339554 |\n",
       "| 5 | 1.074936 | -0.03412472 |  0.28634771 | -1.327159 |\n",
       "| 6 | 1.242575 |  0.03783308 | -0.07679705 | -1.203611 |\n",
       "\n"
      ],
      "text/plain": [
       "  WT       Blimp1fl/flLck-Cre Tbx21−/−    Tbx21−/−Blimp1fl/flLck-Cre\n",
       "1 1.124994  0.20492035        -0.02932369 -1.300591                 \n",
       "2 1.129181  0.19785900        -0.02897913 -1.298061                 \n",
       "3 1.095259  0.15197778         0.08331467 -1.330552                 \n",
       "4 1.081447  0.16618270         0.09192479 -1.339554                 \n",
       "5 1.074936 -0.03412472         0.28634771 -1.327159                 \n",
       "6 1.242575  0.03783308        -0.07679705 -1.203611                 "
      ]
     },
     "metadata": {},
     "output_type": "display_data"
    }
   ],
   "source": [
    "#Calculate the ZSCORE \n",
    "\n",
    "#Formula: x-mean/sd\n",
    "#x: each gene located in countData_mean \n",
    "#Mean:Mean of each row. Calulate the value using rowMeans(). \n",
    "#sd: standard deviation calculated\n",
    "\n",
    "\n",
    "zscore_values <- (countData_mean[,1:4]- rowMeans(countData_mean[,1:4]))/ countData_mean$sd_data  #1:4 indicates the sample columns\n",
    "\n",
    "\n",
    "head (zscore_values)\n"
   ]
  },
  {
   "cell_type": "code",
   "execution_count": 7,
   "metadata": {},
   "outputs": [
    {
     "data": {
      "text/html": [
       "<table>\n",
       "<caption>A data.frame: 6 × 5</caption>\n",
       "<thead>\n",
       "\t<tr><th></th><th scope=col>Gene</th><th scope=col>WT</th><th scope=col>Blimp1fl/flLck-Cre</th><th scope=col>Tbx21−/−</th><th scope=col>Tbx21−/−Blimp1fl/flLck-Cre</th></tr>\n",
       "\t<tr><th></th><th scope=col>&lt;fct&gt;</th><th scope=col>&lt;dbl&gt;</th><th scope=col>&lt;dbl&gt;</th><th scope=col>&lt;dbl&gt;</th><th scope=col>&lt;dbl&gt;</th></tr>\n",
       "</thead>\n",
       "<tbody>\n",
       "\t<tr><th scope=row>1</th><td>Gzma  </td><td>1.124994</td><td> 0.20492035</td><td>-0.02932369</td><td>-1.300591</td></tr>\n",
       "\t<tr><th scope=row>2</th><td>Cx3cr1</td><td>1.129181</td><td> 0.19785900</td><td>-0.02897913</td><td>-1.298061</td></tr>\n",
       "\t<tr><th scope=row>3</th><td>Sema4a</td><td>1.095259</td><td> 0.15197778</td><td> 0.08331467</td><td>-1.330552</td></tr>\n",
       "\t<tr><th scope=row>4</th><td>Ccr5  </td><td>1.081447</td><td> 0.16618270</td><td> 0.09192479</td><td>-1.339554</td></tr>\n",
       "\t<tr><th scope=row>5</th><td>Prf1  </td><td>1.074936</td><td>-0.03412472</td><td> 0.28634771</td><td>-1.327159</td></tr>\n",
       "\t<tr><th scope=row>6</th><td>Aqp9  </td><td>1.242575</td><td> 0.03783308</td><td>-0.07679705</td><td>-1.203611</td></tr>\n",
       "</tbody>\n",
       "</table>\n"
      ],
      "text/latex": [
       "A data.frame: 6 × 5\n",
       "\\begin{tabular}{r|lllll}\n",
       "  & Gene & WT & Blimp1fl/flLck-Cre & Tbx21−/− & Tbx21−/−Blimp1fl/flLck-Cre\\\\\n",
       "  & <fct> & <dbl> & <dbl> & <dbl> & <dbl>\\\\\n",
       "\\hline\n",
       "\t1 & Gzma   & 1.124994 &  0.20492035 & -0.02932369 & -1.300591\\\\\n",
       "\t2 & Cx3cr1 & 1.129181 &  0.19785900 & -0.02897913 & -1.298061\\\\\n",
       "\t3 & Sema4a & 1.095259 &  0.15197778 &  0.08331467 & -1.330552\\\\\n",
       "\t4 & Ccr5   & 1.081447 &  0.16618270 &  0.09192479 & -1.339554\\\\\n",
       "\t5 & Prf1   & 1.074936 & -0.03412472 &  0.28634771 & -1.327159\\\\\n",
       "\t6 & Aqp9   & 1.242575 &  0.03783308 & -0.07679705 & -1.203611\\\\\n",
       "\\end{tabular}\n"
      ],
      "text/markdown": [
       "\n",
       "A data.frame: 6 × 5\n",
       "\n",
       "| <!--/--> | Gene &lt;fct&gt; | WT &lt;dbl&gt; | Blimp1fl/flLck-Cre &lt;dbl&gt; | Tbx21−/− &lt;dbl&gt; | Tbx21−/−Blimp1fl/flLck-Cre &lt;dbl&gt; |\n",
       "|---|---|---|---|---|---|\n",
       "| 1 | Gzma   | 1.124994 |  0.20492035 | -0.02932369 | -1.300591 |\n",
       "| 2 | Cx3cr1 | 1.129181 |  0.19785900 | -0.02897913 | -1.298061 |\n",
       "| 3 | Sema4a | 1.095259 |  0.15197778 |  0.08331467 | -1.330552 |\n",
       "| 4 | Ccr5   | 1.081447 |  0.16618270 |  0.09192479 | -1.339554 |\n",
       "| 5 | Prf1   | 1.074936 | -0.03412472 |  0.28634771 | -1.327159 |\n",
       "| 6 | Aqp9   | 1.242575 |  0.03783308 | -0.07679705 | -1.203611 |\n",
       "\n"
      ],
      "text/plain": [
       "  Gene   WT       Blimp1fl/flLck-Cre Tbx21−/−    Tbx21−/−Blimp1fl/flLck-Cre\n",
       "1 Gzma   1.124994  0.20492035        -0.02932369 -1.300591                 \n",
       "2 Cx3cr1 1.129181  0.19785900        -0.02897913 -1.298061                 \n",
       "3 Sema4a 1.095259  0.15197778         0.08331467 -1.330552                 \n",
       "4 Ccr5   1.081447  0.16618270         0.09192479 -1.339554                 \n",
       "5 Prf1   1.074936 -0.03412472         0.28634771 -1.327159                 \n",
       "6 Aqp9   1.242575  0.03783308        -0.07679705 -1.203611                 "
      ]
     },
     "metadata": {},
     "output_type": "display_data"
    }
   ],
   "source": [
    "#Assign gene names to 1st column\n",
    "Gene = c(\"Gzma\",\"Cx3cr1\",\"Sema4a\",\"Ccr5\",\"Prf1\",\"Aqp9\",\"Cercam\",\"Zeb2\",\"Dok2\",\"Klrg1\",\n",
    "            \"S1pr5\",\"Il18rap\",\"Gzmk\",\"Serpinb9\",\"Klrk1\",\"Tbx21\",\"Zfp683\",\"Ctla2a\",\"Gzmm\",\"Il12rb2\",\n",
    "            \"Gzmb\",\"Havcr2\",\"Fasl\",\"Id2\",\"Ccr2\",\"Ifng\",\"Cxcr6\",\"Cish\",\"Il7r\",\"Tnfrsf9\",\n",
    "            \"Ccr6\",\"Egr1\",\"Egr2\",\"Lag3\",\"Itgae\",\"Icos\",\"Hif1a\",\"Tspan32\",\"Tnfrsf4\",\"Batf\",\n",
    "            \"Bcl6\",\"Btla\",\"Pou2af1\",\"Irf4\",\"Il1r2\",\"Ltb\",\"Tnf\",\"Il23r\",\"Ccr7\",\"Cxcr5\",\n",
    "            \"Id3\",\"Lta\",\"Tox\",\"Tcf7\",\"Batf3\",\"Maf\",\"Ccr9\",\"Il17a\",\"Rorc\") #List of genes \n",
    " \n",
    "zscore_values <- cbind(Gene,zscore_values) #Bind Gene list to zscore_values data frame\n",
    "\n",
    "\n",
    "head(zscore_values)\n"
   ]
  },
  {
   "cell_type": "code",
   "execution_count": 9,
   "metadata": {},
   "outputs": [
    {
     "name": "stderr",
     "output_type": "stream",
     "text": [
      "Using Gene as id variables\n",
      "\n"
     ]
    },
    {
     "data": {
      "text/html": [
       "<table>\n",
       "<caption>A data.frame: 6 × 3</caption>\n",
       "<thead>\n",
       "\t<tr><th></th><th scope=col>Gene</th><th scope=col>Sample</th><th scope=col>z_score</th></tr>\n",
       "\t<tr><th></th><th scope=col>&lt;fct&gt;</th><th scope=col>&lt;fct&gt;</th><th scope=col>&lt;dbl&gt;</th></tr>\n",
       "</thead>\n",
       "<tbody>\n",
       "\t<tr><th scope=row>1</th><td>Gzma  </td><td>WT</td><td>1.124994</td></tr>\n",
       "\t<tr><th scope=row>2</th><td>Cx3cr1</td><td>WT</td><td>1.129181</td></tr>\n",
       "\t<tr><th scope=row>3</th><td>Sema4a</td><td>WT</td><td>1.095259</td></tr>\n",
       "\t<tr><th scope=row>4</th><td>Ccr5  </td><td>WT</td><td>1.081447</td></tr>\n",
       "\t<tr><th scope=row>5</th><td>Prf1  </td><td>WT</td><td>1.074936</td></tr>\n",
       "\t<tr><th scope=row>6</th><td>Aqp9  </td><td>WT</td><td>1.242575</td></tr>\n",
       "</tbody>\n",
       "</table>\n"
      ],
      "text/latex": [
       "A data.frame: 6 × 3\n",
       "\\begin{tabular}{r|lll}\n",
       "  & Gene & Sample & z\\_score\\\\\n",
       "  & <fct> & <fct> & <dbl>\\\\\n",
       "\\hline\n",
       "\t1 & Gzma   & WT & 1.124994\\\\\n",
       "\t2 & Cx3cr1 & WT & 1.129181\\\\\n",
       "\t3 & Sema4a & WT & 1.095259\\\\\n",
       "\t4 & Ccr5   & WT & 1.081447\\\\\n",
       "\t5 & Prf1   & WT & 1.074936\\\\\n",
       "\t6 & Aqp9   & WT & 1.242575\\\\\n",
       "\\end{tabular}\n"
      ],
      "text/markdown": [
       "\n",
       "A data.frame: 6 × 3\n",
       "\n",
       "| <!--/--> | Gene &lt;fct&gt; | Sample &lt;fct&gt; | z_score &lt;dbl&gt; |\n",
       "|---|---|---|---|\n",
       "| 1 | Gzma   | WT | 1.124994 |\n",
       "| 2 | Cx3cr1 | WT | 1.129181 |\n",
       "| 3 | Sema4a | WT | 1.095259 |\n",
       "| 4 | Ccr5   | WT | 1.081447 |\n",
       "| 5 | Prf1   | WT | 1.074936 |\n",
       "| 6 | Aqp9   | WT | 1.242575 |\n",
       "\n"
      ],
      "text/plain": [
       "  Gene   Sample z_score \n",
       "1 Gzma   WT     1.124994\n",
       "2 Cx3cr1 WT     1.129181\n",
       "3 Sema4a WT     1.095259\n",
       "4 Ccr5   WT     1.081447\n",
       "5 Prf1   WT     1.074936\n",
       "6 Aqp9   WT     1.242575"
      ]
     },
     "metadata": {},
     "output_type": "display_data"
    }
   ],
   "source": [
    "#Reshape data using melt function\n",
    "df_heatmap <- melt(zscore_values)\n",
    "\n",
    "#Rename columns of new melt df_heatmap \n",
    "df_heatmap <-  rename(df_heatmap,\n",
    "    Sample = variable, \n",
    "  z_score = value)\n",
    "\n",
    "head(df_heatmap)\n"
   ]
  },
  {
   "cell_type": "code",
   "execution_count": 10,
   "metadata": {},
   "outputs": [
    {
     "data": {
      "text/html": [
       "<table>\n",
       "<caption>A matrix: 6 × 4 of type dbl</caption>\n",
       "<thead>\n",
       "\t<tr><th></th><th scope=col>WT</th><th scope=col>Blimp1fl/flLck-Cre</th><th scope=col>Tbx21−/−</th><th scope=col>Tbx21−/−Blimp1fl/flLck-Cre</th></tr>\n",
       "</thead>\n",
       "<tbody>\n",
       "\t<tr><th scope=row>Gzma</th><td>1.124994</td><td> 0.20492035</td><td>-0.02932369</td><td>-1.300591</td></tr>\n",
       "\t<tr><th scope=row>Cx3cr1</th><td>1.129181</td><td> 0.19785900</td><td>-0.02897913</td><td>-1.298061</td></tr>\n",
       "\t<tr><th scope=row>Sema4a</th><td>1.095259</td><td> 0.15197778</td><td> 0.08331467</td><td>-1.330552</td></tr>\n",
       "\t<tr><th scope=row>Ccr5</th><td>1.081447</td><td> 0.16618270</td><td> 0.09192479</td><td>-1.339554</td></tr>\n",
       "\t<tr><th scope=row>Prf1</th><td>1.074936</td><td>-0.03412472</td><td> 0.28634771</td><td>-1.327159</td></tr>\n",
       "\t<tr><th scope=row>Aqp9</th><td>1.242575</td><td> 0.03783308</td><td>-0.07679705</td><td>-1.203611</td></tr>\n",
       "</tbody>\n",
       "</table>\n"
      ],
      "text/latex": [
       "A matrix: 6 × 4 of type dbl\n",
       "\\begin{tabular}{r|llll}\n",
       "  & WT & Blimp1fl/flLck-Cre & Tbx21−/− & Tbx21−/−Blimp1fl/flLck-Cre\\\\\n",
       "\\hline\n",
       "\tGzma & 1.124994 &  0.20492035 & -0.02932369 & -1.300591\\\\\n",
       "\tCx3cr1 & 1.129181 &  0.19785900 & -0.02897913 & -1.298061\\\\\n",
       "\tSema4a & 1.095259 &  0.15197778 &  0.08331467 & -1.330552\\\\\n",
       "\tCcr5 & 1.081447 &  0.16618270 &  0.09192479 & -1.339554\\\\\n",
       "\tPrf1 & 1.074936 & -0.03412472 &  0.28634771 & -1.327159\\\\\n",
       "\tAqp9 & 1.242575 &  0.03783308 & -0.07679705 & -1.203611\\\\\n",
       "\\end{tabular}\n"
      ],
      "text/markdown": [
       "\n",
       "A matrix: 6 × 4 of type dbl\n",
       "\n",
       "| <!--/--> | WT | Blimp1fl/flLck-Cre | Tbx21−/− | Tbx21−/−Blimp1fl/flLck-Cre |\n",
       "|---|---|---|---|---|\n",
       "| Gzma | 1.124994 |  0.20492035 | -0.02932369 | -1.300591 |\n",
       "| Cx3cr1 | 1.129181 |  0.19785900 | -0.02897913 | -1.298061 |\n",
       "| Sema4a | 1.095259 |  0.15197778 |  0.08331467 | -1.330552 |\n",
       "| Ccr5 | 1.081447 |  0.16618270 |  0.09192479 | -1.339554 |\n",
       "| Prf1 | 1.074936 | -0.03412472 |  0.28634771 | -1.327159 |\n",
       "| Aqp9 | 1.242575 |  0.03783308 | -0.07679705 | -1.203611 |\n",
       "\n"
      ],
      "text/plain": [
       "       WT       Blimp1fl/flLck-Cre Tbx21−/−    Tbx21−/−Blimp1fl/flLck-Cre\n",
       "Gzma   1.124994  0.20492035        -0.02932369 -1.300591                 \n",
       "Cx3cr1 1.129181  0.19785900        -0.02897913 -1.298061                 \n",
       "Sema4a 1.095259  0.15197778         0.08331467 -1.330552                 \n",
       "Ccr5   1.081447  0.16618270         0.09192479 -1.339554                 \n",
       "Prf1   1.074936 -0.03412472         0.28634771 -1.327159                 \n",
       "Aqp9   1.242575  0.03783308        -0.07679705 -1.203611                 "
      ]
     },
     "metadata": {},
     "output_type": "display_data"
    }
   ],
   "source": [
    "#reshape data to matrix for heatmap.2\n",
    "hm_matrix <- data.matrix(zscore_values)\n",
    "row.names(hm_matrix) <- zscore_values$Gene #set the gene name as row name\n",
    "hm_matrix <- hm_matrix[,-1] # remove gene column\n",
    "\n",
    "head(hm_matrix)\n"
   ]
  },
  {
   "cell_type": "code",
   "execution_count": 11,
   "metadata": {},
   "outputs": [
    {
     "name": "stderr",
     "output_type": "stream",
     "text": [
      "Warning message in (function (..., no.readonly = FALSE) :\n",
      "“`mgp[1:3]' are of differing sign”\n"
     ]
    },
    {
     "data": {
      "text/html": [
       "<strong>png:</strong> 2"
      ],
      "text/latex": [
       "\\textbf{png:} 2"
      ],
      "text/markdown": [
       "**png:** 2"
      ],
      "text/plain": [
       "png \n",
       "  2 "
      ]
     },
     "metadata": {},
     "output_type": "display_data"
    }
   ],
   "source": [
    "#Heatmap\n",
    "\n",
    "#Costumize rows\n",
    "redcols <- as.list(c(\"Ccr6\", \"Il23r\",\"Il17a\",\"Rorc\"))   #define list with gene names to highlight in red\n",
    "cols <- rep('black', nrow(hm_matrix))   #vector where all rownames are colored in black\n",
    "cols[row.names(hm_matrix) %in% redcols] <- 'red'   # color in red the specified rownames from redcols\n",
    "\n",
    "#  define color breaks and transitions\n",
    "my_palette <- colorRampPalette(c(\"black\", \"blue\", \"yellow\"))(n=299)  \n",
    "\n",
    "# create PNG filename for the heat map\n",
    "png(\"heatmap_Capstone_Team1.png\",            \n",
    "  width = 5*300,        # 5 x 300 pixels\n",
    "  height = 5*300,\n",
    "  res = 300,            # 300 pixels per inch\n",
    "  pointsize = 7)        # font size\n",
    "\n",
    "#Set up heatmap\n",
    "heatmap.2(hm_matrix,\n",
    "          density.info=\"none\",  # turns off density plot inside color legend\n",
    "          trace=\"none\",         # turns off trace lines inside the heat map\n",
    "          dendrogram='none',     # turns off dendrogram\n",
    "          col=my_palette,  # use previously defined color palette\n",
    "          colRow = cols, # assign red text to previously selected genes\n",
    "          lmat=rbind( c(3, 4), c(2,1) ), # create matrix to put the key on top of heatmap, number meaning: 1=Heatmap,2=Row dendrogram,3=Column dendrogram,4=Key\n",
    "          lhei=c(1.2, 4), # height\n",
    "          lwid=c(1.5, 1), # width \n",
    "          key.xlab=\"Row z-score\",  # key title \n",
    "          key.title=NA,    # remove original key title\n",
    "          key.par=list(mgp=c(-3, 0.5, 0), mar=c(2,0,10,10)),   # dimensions/positioning of key parts\n",
    "          margins=c(7, 9),  # respectively botton and left margins\n",
    "          Colv=FALSE, # use our defined column ordering\n",
    "          Rowv=FALSE, # use our defined row ordering\n",
    "          srtCol=45, # angle column label text\n",
    "          cexCol=0.6, # size column label text\n",
    "          cexRow=0.5,  # size row label text\n",
    "          offsetRow=-0.6, # position row text closer to heatmap\n",
    "          offsetCol=-0.25)  # position column text closer to heatmap\n",
    "dev.off() #close the figure file\n"
   ]
  }
 ],
 "metadata": {
  "kernelspec": {
   "display_name": "R",
   "language": "R",
   "name": "ir"
  },
  "language_info": {
   "codemirror_mode": "r",
   "file_extension": ".r",
   "mimetype": "text/x-r-source",
   "name": "R",
   "pygments_lexer": "r",
   "version": "3.5.1"
  }
 },
 "nbformat": 4,
 "nbformat_minor": 4
}
