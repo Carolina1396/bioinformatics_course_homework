{
 "cells": [
  {
   "cell_type": "markdown",
   "metadata": {},
   "source": [
    "Before you turn this problem in, make sure everything runs as expected. First, **restart the kernel** (in the menubar, select Kernel$\\rightarrow$Restart) and then **run all cells** (in the menubar, select Cell$\\rightarrow$Run All).\n",
    "\n",
    "Make sure you fill in any place that says `YOUR CODE HERE` or \"YOUR ANSWER HERE\", as well as your name and collaborators below:"
   ]
  },
  {
   "cell_type": "code",
   "execution_count": null,
   "metadata": {},
   "outputs": [],
   "source": [
    "NAME = \"Adriana Carolina Gonzalez-Cavazos\"\n",
    "COLLABORATORS = \"\""
   ]
  },
  {
   "cell_type": "markdown",
   "metadata": {},
   "source": [
    "---"
   ]
  },
  {
   "cell_type": "markdown",
   "metadata": {
    "deletable": false,
    "editable": false,
    "nbgrader": {
     "cell_type": "markdown",
     "checksum": "77031f2a16c4f2f9be73ee78e6957487",
     "grade": false,
     "grade_id": "cell-aec0b90d51996561",
     "locked": true,
     "schema_version": 3,
     "solution": false,
     "task": false
    }
   },
   "source": [
    "# Homework 6: RNA-Seq and Transformation of Raw Data (Pre-processing) \n",
    "Curated by Sabah Ul-Hasan, Karthik Gangavarapu, Shang-Fu Chen, Jerry Zak, and Andrew Su\n",
    "\n",
    "Complete homework is due every Tuesday at 8 AM PST. <br>\n",
    "Save your homework as you go, so the efforts don't get lost. <br>\n",
    "Note there are up 13 points, but you can only receive 10 points total for homework."
   ]
  },
  {
   "cell_type": "markdown",
   "metadata": {
    "deletable": false,
    "editable": false,
    "nbgrader": {
     "cell_type": "markdown",
     "checksum": "396a3d0315fa97683d5ba435020cf8fe",
     "grade": false,
     "grade_id": "cell-180bb416828db36c",
     "locked": true,
     "schema_version": 3,
     "solution": false,
     "task": false
    }
   },
   "source": [
    "## A6.aa: Solidify your understanding of plotting in R [20-30 min] Group of 3 "
   ]
  },
  {
   "cell_type": "markdown",
   "metadata": {
    "deletable": false,
    "editable": false,
    "nbgrader": {
     "cell_type": "markdown",
     "checksum": "05ade521e081ac8d42a8a3de1502e6bd",
     "grade": false,
     "grade_id": "cell-eb221dcef985cda8",
     "locked": true,
     "points": 1,
     "schema_version": 3,
     "solution": false,
     "task": true
    }
   },
   "source": [
    "### Question 1 (1 point)\n",
    "\n",
    "1. Code review: Take turns briefly talking through your code and process (3-5 min), then spend the remaining time discussing the different approaches you may have taken to get to the same end-goal. Compare the types of visuals you included, and the how behind each of them.\n",
    "1. For the last 5 minutes on your own, think of a suggestion of something you would've liked to learn in relation to these topics that we didn't cover."
   ]
  },
  {
   "cell_type": "markdown",
   "metadata": {
    "deletable": false,
    "editable": false,
    "nbgrader": {
     "cell_type": "markdown",
     "checksum": "0f4d47a39276495f85246dd4d9f2d06b",
     "grade": false,
     "grade_id": "cell-f1797f3c9d302252",
     "locked": true,
     "schema_version": 3,
     "solution": false,
     "task": false
    }
   },
   "source": [
    "## A6.ab: Familiarizing yourself with the FASTQ format"
   ]
  },
  {
   "cell_type": "markdown",
   "metadata": {
    "deletable": false,
    "editable": false,
    "nbgrader": {
     "cell_type": "markdown",
     "checksum": "659833817f4fa5bdf085a613b6cab84b",
     "grade": false,
     "grade_id": "cell-cc7c14102fc89297",
     "locked": true,
     "points": 2,
     "schema_version": 3,
     "solution": false,
     "task": true
    }
   },
   "source": [
    "### Question 2 (2 points)\n",
    "1. How many paired end and how many single end FASTQs are present in the folder `hw6/data/illumina_files/` ?\n",
    "1. Count the number of reads in each of the sequenced samples. Consider paired reads to be one sample."
   ]
  },
  {
   "cell_type": "code",
   "execution_count": 16,
   "metadata": {
    "scrolled": false
   },
   "outputs": [
    {
     "name": "stdout",
     "output_type": "stream",
     "text": [
      "/gpfs/home/agonzalez/HW6\n",
      "1\n",
      "1\n"
     ]
    }
   ],
   "source": [
    "%%bash\n",
    "pwd\n",
    "cd data\n",
    "cd illumina_example\n",
    "ls *_R1.fastq| wc -l  #Single end FASTQ \n",
    "ls *_R2.fastq| wc -l  #Paired end FASTQ "
   ]
  },
  {
   "cell_type": "code",
   "execution_count": 66,
   "metadata": {},
   "outputs": [
    {
     "name": "stdout",
     "output_type": "stream",
     "text": [
      "472 SRR12742806_R1.fastq\n",
      "472 SRR12742806_R2.fastq\n",
      "118\n",
      "236\n"
     ]
    }
   ],
   "source": [
    "%%bash\n",
    "cd data\n",
    "cd illumina_example\n",
    "\n",
    "#Number of reads on each file \n",
    "wc -l SRR12742806_R1.fastq\n",
    "wc -l SRR12742806_R2.fastq\n",
    "\n",
    "#Each file has 472 lines\n",
    "echo $(( 472 / 4 )) #For every 4 lines we have 1 read.\n",
    "\n",
    "echo $(( 118 * 2 ))#Each file has 118 reads. 118x 2 "
   ]
  },
  {
   "cell_type": "markdown",
   "metadata": {},
   "source": [
    "## A6.ab: Familiarizing yourself with RNA-Seq, and output data [20-30 min] Group of 3\n",
    "#### ab.ii Familiarizing yourself with raw RNA-Seq data and associated software (on your own time) <br>"
   ]
  },
  {
   "cell_type": "markdown",
   "metadata": {
    "deletable": false,
    "editable": false,
    "nbgrader": {
     "cell_type": "markdown",
     "checksum": "44f7a49a54922197494d067b9c103c56",
     "grade": false,
     "grade_id": "cell-e4318b521eb494b4",
     "locked": true,
     "points": 2,
     "schema_version": 3,
     "solution": false,
     "task": true
    }
   },
   "source": [
    "### Question 3 (3 points)\n",
    "\n",
    "1. What is the command to generate fastqc report for the file SRR5454101.1_downsampled?\n",
    "2. What specific categories were flagged in `orange` or `red` in the report? Give reasons as to why they might have been flagged. Consult the manual for details on each analysis module - https://www.bioinformatics.babraham.ac.uk/projects/fastqc/Help/\n",
    "3. Generate a fastqc report for the file `Zymo-GridION-EVEN-BB-SN_downsampled.fastq` present in the folder `hw6/data/nanopore_example/`. Contrast the report you generated here with the one you generated in question 1 by giving two specific quantities/analysis modules in which the two reports differ."
   ]
  },
  {
   "cell_type": "markdown",
   "metadata": {},
   "source": [
    " **Question 1**\n",
    " What is the command to generate fastqc report for the file SRR5454101.1_downsampled?\n",
    "**fastqc**"
   ]
  },
  {
   "cell_type": "markdown",
   "metadata": {},
   "source": [
    " **Question 2**\n",
    " What specific categories were flagged in orange or red in the report? Give reasons as to why they might have been flagged?<br>\n",
    "- Per base sequence content: We would expect that there would not be difference between A and T, or G and C on each run. The lines should run parallel to each other <br>\n",
    "- Per sequence GC content: The GC% content doesnt have a normal distribution <br>\n",
    "- Per base N content: The first and last positions show an N content of >20%.<br>\n",
    "- Sequence length distribution: Sequences are not the same lenght. Most of them have a lenght of 50bp. <br>\n",
    "- Overrepresented sequences: There are 3 sequences that are overrepresented. The sequences represents more than 0.1% (but less than 1%) of the total sequences.  "
   ]
  },
  {
   "cell_type": "markdown",
   "metadata": {},
   "source": [
    " **Question 3**\n",
    "Contrast the SRR5454101.1 and Zymo-GridION-EVEN-BB-SN  fastqc report  <br>\n",
    "a) Per base sequence quality: Compared to the first file, where all the  positions in the read has good quality, on the second file only the first positions have good quality; the quality of calls degrade as the run progresses.  <br>\n",
    "\n",
    "b) Sequence Length Distribution: The distribution of read lenghts on the second file is greater than the first file. While the majority of reads on the first file has a lenght between 47 and 51, on the second file the graph shows multiple peaks indicating that the fragment size is not uniform.  <br>"
   ]
  },
  {
   "cell_type": "markdown",
   "metadata": {},
   "source": [
    "## A6.ba: Processing alignments [20-30 min] TPS"
   ]
  },
  {
   "cell_type": "markdown",
   "metadata": {
    "deletable": false,
    "editable": false,
    "nbgrader": {
     "cell_type": "markdown",
     "checksum": "b323955407e090e8bf48aa7578a35041",
     "grade": false,
     "grade_id": "cell-111c0ea2039749cd",
     "locked": true,
     "points": 2,
     "schema_version": 3,
     "solution": false,
     "task": true
    }
   },
   "source": [
    "### Question 4 (4 points)\n",
    "\n",
    "Use hisat2 to create an index of the ENST00000427411.1.fa fasta file present in the folder `hw6/data/ref/`. Now, use hisat2 to align the paired reads from the sample SRR12742806, located at `hw6/data/illumina_example/`, to the reference you created in the previous step.\n",
    "\n",
    "1. How many reads mapped to the genome?\n",
    "2. What is the size of the SAM file and the size of the BAM file? \n",
    "3. Generate a plot of the average depth per position of this alignment.\n",
    "4. What percentage of the reference genome is covered by the sequenced reads in this alignment? "
   ]
  },
  {
   "cell_type": "markdown",
   "metadata": {},
   "source": [
    "**How many reads mapped to the genome?** 80 reads aligned exactly 1 time and 12 reads aligned more than 1 times <br>\n",
    "**What is the size of the SAM file and the size of the BAM file?** SAM: 14K BAM: 72K <br>"
   ]
  },
  {
   "cell_type": "code",
   "execution_count": 51,
   "metadata": {
    "scrolled": true
   },
   "outputs": [
    {
     "data": {
      "text/html": [
       "<table>\n",
       "<caption>A data.frame: 6 × 3</caption>\n",
       "<thead>\n",
       "\t<tr><th></th><th scope=col>genome_reference</th><th scope=col>genome_position</th><th scope=col>read_depth</th></tr>\n",
       "\t<tr><th></th><th scope=col>&lt;fct&gt;</th><th scope=col>&lt;int&gt;</th><th scope=col>&lt;int&gt;</th></tr>\n",
       "</thead>\n",
       "<tbody>\n",
       "\t<tr><th scope=row>1</th><td>hg38_knownGene_ENST00000427411.1</td><td>1</td><td>0</td></tr>\n",
       "\t<tr><th scope=row>2</th><td>hg38_knownGene_ENST00000427411.1</td><td>2</td><td>0</td></tr>\n",
       "\t<tr><th scope=row>3</th><td>hg38_knownGene_ENST00000427411.1</td><td>3</td><td>0</td></tr>\n",
       "\t<tr><th scope=row>4</th><td>hg38_knownGene_ENST00000427411.1</td><td>4</td><td>0</td></tr>\n",
       "\t<tr><th scope=row>5</th><td>hg38_knownGene_ENST00000427411.1</td><td>5</td><td>0</td></tr>\n",
       "\t<tr><th scope=row>6</th><td>hg38_knownGene_ENST00000427411.1</td><td>6</td><td>0</td></tr>\n",
       "</tbody>\n",
       "</table>\n"
      ],
      "text/latex": [
       "A data.frame: 6 × 3\n",
       "\\begin{tabular}{r|lll}\n",
       "  & genome\\_reference & genome\\_position & read\\_depth\\\\\n",
       "  & <fct> & <int> & <int>\\\\\n",
       "\\hline\n",
       "\t1 & hg38\\_knownGene\\_ENST00000427411.1 & 1 & 0\\\\\n",
       "\t2 & hg38\\_knownGene\\_ENST00000427411.1 & 2 & 0\\\\\n",
       "\t3 & hg38\\_knownGene\\_ENST00000427411.1 & 3 & 0\\\\\n",
       "\t4 & hg38\\_knownGene\\_ENST00000427411.1 & 4 & 0\\\\\n",
       "\t5 & hg38\\_knownGene\\_ENST00000427411.1 & 5 & 0\\\\\n",
       "\t6 & hg38\\_knownGene\\_ENST00000427411.1 & 6 & 0\\\\\n",
       "\\end{tabular}\n"
      ],
      "text/markdown": [
       "\n",
       "A data.frame: 6 × 3\n",
       "\n",
       "| <!--/--> | genome_reference &lt;fct&gt; | genome_position &lt;int&gt; | read_depth &lt;int&gt; |\n",
       "|---|---|---|---|\n",
       "| 1 | hg38_knownGene_ENST00000427411.1 | 1 | 0 |\n",
       "| 2 | hg38_knownGene_ENST00000427411.1 | 2 | 0 |\n",
       "| 3 | hg38_knownGene_ENST00000427411.1 | 3 | 0 |\n",
       "| 4 | hg38_knownGene_ENST00000427411.1 | 4 | 0 |\n",
       "| 5 | hg38_knownGene_ENST00000427411.1 | 5 | 0 |\n",
       "| 6 | hg38_knownGene_ENST00000427411.1 | 6 | 0 |\n",
       "\n"
      ],
      "text/plain": [
       "  genome_reference                 genome_position read_depth\n",
       "1 hg38_knownGene_ENST00000427411.1 1               0         \n",
       "2 hg38_knownGene_ENST00000427411.1 2               0         \n",
       "3 hg38_knownGene_ENST00000427411.1 3               0         \n",
       "4 hg38_knownGene_ENST00000427411.1 4               0         \n",
       "5 hg38_knownGene_ENST00000427411.1 5               0         \n",
       "6 hg38_knownGene_ENST00000427411.1 6               0         "
      ]
     },
     "metadata": {},
     "output_type": "display_data"
    },
    {
     "data": {
      "image/png": "[encoded data removed]",
      "text/plain": [
       "plot without title"
      ]
     },
     "metadata": {
      "image/png": {
       "height": 420,
       "width": 420
      },
      "text/plain": {
       "height": 420,
       "width": 420
      }
     },
     "output_type": "display_data"
    }
   ],
   "source": [
    "#Q3 Generate a plot of the average depth per position of this alignment.\n",
    "\n",
    "#Import library \n",
    "\n",
    "library(dplyr)\n",
    "library(ggplot2) \n",
    "\n",
    "#Import data\n",
    "\n",
    "setwd ('/gpfs/home/agonzalez/HW6/data/illumina_example')\n",
    "SRR12742806_depth_data <- read.table (\"SRR12742806.depth\")\n",
    "\n",
    "SRR12742806_depth_data <-  SRR12742806_depth_data %>% \n",
    "  rename(\n",
    "    genome_reference = V1,\n",
    "    genome_position = V2, \n",
    "      read_depth = V3)\n",
    "\n",
    "head (SRR12742806_depth_data)\n",
    "\n",
    "\n",
    "#Generate plot \n",
    "ggplot(SRR12742806_depth_data, aes (x = genome_position, y = read_depth)) + \n",
    "geom_line()+\n",
    "ylim(0, 20) +\n",
    "theme_classic()"
   ]
  },
  {
   "cell_type": "code",
   "execution_count": 52,
   "metadata": {},
   "outputs": [
    {
     "data": {
      "text/html": [
       "<span style=white-space:pre-wrap>'Percentage of the reference genome covered by the sequenced reads is:  12.905426809952 %'</span>"
      ],
      "text/latex": [
       "'Percentage of the reference genome covered by the sequenced reads is:  12.905426809952 \\%'"
      ],
      "text/markdown": [
       "<span style=white-space:pre-wrap>'Percentage of the reference genome covered by the sequenced reads is:  12.905426809952 %'</span>"
      ],
      "text/plain": [
       "[1] \"Percentage of the reference genome covered by the sequenced reads is:  12.905426809952 %\""
      ]
     },
     "metadata": {},
     "output_type": "display_data"
    }
   ],
   "source": [
    "#Q4 What percentage of the reference genome is covered by the sequenced reads in this alignment?\n",
    "\n",
    "\n",
    "coverage<- sum (SRR12742806_depth_data$read_depth > 0) / length(SRR12742806_depth_data$genome_position) * 100\n",
    "\n",
    "paste (\"Percentage of the reference genome covered by the sequenced reads is: \",coverage, \"%\")"
   ]
  },
  {
   "cell_type": "markdown",
   "metadata": {
    "deletable": false,
    "editable": false,
    "nbgrader": {
     "cell_type": "markdown",
     "checksum": "4eb1d181e4b981299fd595adeac765f3",
     "grade": false,
     "grade_id": "cell-fac111194bd07ea2",
     "locked": true,
     "points": 2,
     "schema_version": 3,
     "solution": false,
     "task": true
    }
   },
   "source": [
    "### Question 5 (1 point)\n",
    "\n",
    "Look up the [samtools manual](https://www.htslib.org/doc/samtools.html) and paste the command that is required to convert BAM files to FASTQ."
   ]
  },
  {
   "cell_type": "markdown",
   "metadata": {},
   "source": [
    "Command:\n",
    "$samtools fastq SRR12742806.bam > SRR12742806_R1_R2.fastq "
   ]
  },
  {
   "cell_type": "markdown",
   "metadata": {
    "deletable": false,
    "editable": false,
    "nbgrader": {
     "cell_type": "markdown",
     "checksum": "a88055c5403ca3f61d45c42a22265435",
     "grade": false,
     "grade_id": "cell-eaa26ffa67828f3e",
     "locked": true,
     "points": 2,
     "schema_version": 3,
     "solution": false,
     "task": true
    }
   },
   "source": [
    "\n",
    "### Question 6 (2 points)\n",
    "\n",
    "We've previously seen that it is possible to combine bash commands using a pipe(`|`). Use the pipe to write a one-liner in bash to produce a sorted BAM file starting with the FASTQ files."
   ]
  },
  {
   "cell_type": "markdown",
   "metadata": {},
   "source": [
    "hisat2 -x ../ref/index -1 SRR12742806_R1.fastq -2 SRR12742806_R2.fastq | samtools view -b | samtools sort -o SRR12742806_sorted.bam"
   ]
  }
 ],
 "metadata": {
  "kernelspec": {
   "display_name": "R",
   "language": "R",
   "name": "ir"
  },
  "language_info": {
   "codemirror_mode": "r",
   "file_extension": ".r",
   "mimetype": "text/x-r-source",
   "name": "R",
   "pygments_lexer": "r",
   "version": "3.5.1"
  },
  "nteract": {
   "version": "0.25.0"
  }
 },
 "nbformat": 4,
 "nbformat_minor": 4
}
