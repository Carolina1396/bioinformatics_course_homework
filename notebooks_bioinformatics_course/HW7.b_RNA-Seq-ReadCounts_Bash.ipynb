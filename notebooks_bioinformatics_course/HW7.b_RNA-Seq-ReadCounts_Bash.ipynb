{
 "cells": [
  {
   "cell_type": "markdown",
   "metadata": {
    "deletable": false,
    "editable": false,
    "nbgrader": {
     "cell_type": "markdown",
     "checksum": "1ac1fb4ec2268b9b970f2c5ea652c1b7",
     "grade": false,
     "grade_id": "cell-8531b0dab318b0d2",
     "locked": true,
     "schema_version": 3,
     "solution": false,
     "task": false
    }
   },
   "source": [
    "Before you turn this problem in, make sure everything runs as expected. First, **restart the kernel** (in the menubar, select Kernel$\\rightarrow$Restart) and then **run all cells** (in the menubar, select Cell$\\rightarrow$Run All).\n",
    "\n",
    "Make sure you fill in any place that says `YOUR CODE HERE` or \"YOUR ANSWER HERE\", as well as your name and collaborators below:"
   ]
  },
  {
   "cell_type": "code",
   "execution_count": null,
   "metadata": {},
   "outputs": [],
   "source": [
    "NAME = \"Adriana Carolina Gonzalez-Cavazos\" \n",
    "COLLABORATORS = \"\""
   ]
  },
  {
   "cell_type": "code",
   "execution_count": null,
   "metadata": {},
   "outputs": [],
   "source": [
    "%%bash\n",
    "pwd"
   ]
  },
  {
   "cell_type": "markdown",
   "metadata": {
    "deletable": false,
    "editable": false,
    "nbgrader": {
     "cell_type": "markdown",
     "checksum": "1af870d97e6d4608beba19e2217db5fc",
     "grade": false,
     "grade_id": "cell-e3c9da73e2811a39",
     "locked": true,
     "schema_version": 3,
     "solution": false,
     "task": false
    }
   },
   "source": [
    "# Homework 7.b\n",
    "Curated by Sabah Ul-Hasan \n",
    "\n",
    "Complete this homework by Tuesday at 8 AM PST. <br>\n",
    "Save your homework as you go, so the efforts don't get lost. <br>\n",
    "Note there are 5 points, based on completedness."
   ]
  },
  {
   "cell_type": "markdown",
   "metadata": {
    "deletable": false,
    "editable": false,
    "nbgrader": {
     "cell_type": "markdown",
     "checksum": "1caf2ebd326ee82e1e388d9b442f65b9",
     "grade": false,
     "grade_id": "cell-0948135824f7008f",
     "locked": true,
     "schema_version": 3,
     "solution": false,
     "task": false
    }
   },
   "source": [
    "## B7.bb: Counting Reads for Gene Expression Analysis [20-30 min] Individual"
   ]
  },
  {
   "cell_type": "markdown",
   "metadata": {
    "deletable": false,
    "editable": false,
    "nbgrader": {
     "cell_type": "markdown",
     "checksum": "d2f929d4278627c0f0d822bfecec7935",
     "grade": false,
     "grade_id": "cell-fe05faaf91b75713",
     "locked": true,
     "schema_version": 3,
     "solution": false,
     "task": false
    }
   },
   "source": [
    "#### Question 1 (4 points) <br>\n",
    "Practice makes perfect. <br>\n",
    "Walk through the following tutorial through the 'Create Count matrix' section. Use the data folder in this homework as needed to upload files (replicated count matrix in data folder for full points). <br>\n",
    "https://training.galaxyproject.org/training-material/topics/transcriptomics/tutorials/rna-seq-reads-to-counts/tutorial.html#counting\n",
    "\n",
    "Take notes as you go along in the space below, specifically how this relates to your capstone project and the form of data you are working with for reproducing figures. What does a read count matrix show? Be specific in your description. "
   ]
  },
  {
   "cell_type": "code",
   "execution_count": 3,
   "metadata": {},
   "outputs": [
    {
     "ename": "ERROR",
     "evalue": "Error in parse(text = x, srcfile = src): <text>:1:1: unexpected SPECIAL\n1: %%\n    ^\n",
     "output_type": "error",
     "traceback": [
      "Error in parse(text = x, srcfile = src): <text>:1:1: unexpected SPECIAL\n1: %%\n    ^\nTraceback:\n"
     ]
    }
   ],
   "source": [
    "#Create matrix from the files of htseq_out folder \n",
    "\n",
    "#Clean information not necessary to create matrix (only keep ID, reads)\n",
    "%%bash \n",
    "cd /gpfs/home/agonzalez/bioinformatics_course/HW7.b/data/htseq_out/\n",
    "for file in * #For each file on the folder \n",
    "do \n",
    "sed -i 's/.*strokec2 //' $file #Clean first lines \n",
    "sed -i \"1,9d\" $file  #Clean first lines\n",
    "sed -i 's/.$//' $file #Remove last character of each line\n",
    "done "
   ]
  },
  {
   "cell_type": "code",
   "execution_count": 3,
   "metadata": {},
   "outputs": [
    {
     "data": {
      "text/html": [
       "<table>\n",
       "<caption>A data.frame: 58735 × 5</caption>\n",
       "<thead>\n",
       "\t<tr><th scope=col>ID</th><th scope=col>reads_data1</th><th scope=col>reads_data2</th><th scope=col>reads_data3</th><th scope=col>reads_data4</th></tr>\n",
       "\t<tr><th scope=col>&lt;fct&gt;</th><th scope=col>&lt;int&gt;</th><th scope=col>&lt;int&gt;</th><th scope=col>&lt;int&gt;</th><th scope=col>&lt;int&gt;</th></tr>\n",
       "</thead>\n",
       "<tbody>\n",
       "\t<tr><td>ENSG00000000003</td><td> 861</td><td> 982</td><td>1217</td><td> 969</td></tr>\n",
       "\t<tr><td>ENSG00000000005</td><td>   1</td><td>   1</td><td>   6</td><td>   6</td></tr>\n",
       "\t<tr><td>ENSG00000000419</td><td> 511</td><td> 632</td><td> 751</td><td> 675</td></tr>\n",
       "\t<tr><td>ENSG00000000457</td><td> 367</td><td> 479</td><td> 547</td><td> 501</td></tr>\n",
       "\t<tr><td>ENSG00000000460</td><td> 328</td><td> 386</td><td> 419</td><td> 351</td></tr>\n",
       "\t<tr><td>ENSG00000000938</td><td>   7</td><td>   8</td><td>   1</td><td>   9</td></tr>\n",
       "\t<tr><td>ENSG00000000971</td><td>   3</td><td>   2</td><td>   1</td><td>   4</td></tr>\n",
       "\t<tr><td>ENSG00000001036</td><td> 433</td><td> 423</td><td> 754</td><td> 455</td></tr>\n",
       "\t<tr><td>ENSG00000001084</td><td> 804</td><td>1126</td><td>1174</td><td>1040</td></tr>\n",
       "\t<tr><td>ENSG00000001167</td><td>2048</td><td>2887</td><td>2992</td><td>2762</td></tr>\n",
       "\t<tr><td>ENSG00000001460</td><td> 211</td><td> 157</td><td> 255</td><td> 181</td></tr>\n",
       "\t<tr><td>ENSG00000001461</td><td> 689</td><td> 698</td><td> 765</td><td> 635</td></tr>\n",
       "\t<tr><td>ENSG00000001497</td><td>1640</td><td>1694</td><td>1767</td><td>1697</td></tr>\n",
       "\t<tr><td>ENSG00000001561</td><td> 280</td><td> 408</td><td> 468</td><td> 359</td></tr>\n",
       "\t<tr><td>ENSG00000001617</td><td>1500</td><td>1824</td><td>1969</td><td>1573</td></tr>\n",
       "\t<tr><td>ENSG00000001626</td><td>  12</td><td>   3</td><td>  12</td><td>   3</td></tr>\n",
       "\t<tr><td>ENSG00000001629</td><td>2490</td><td>3413</td><td>2977</td><td>3271</td></tr>\n",
       "\t<tr><td>ENSG00000001630</td><td> 220</td><td> 341</td><td> 274</td><td> 293</td></tr>\n",
       "\t<tr><td>ENSG00000001631</td><td> 212</td><td> 271</td><td> 288</td><td> 268</td></tr>\n",
       "\t<tr><td>ENSG00000002016</td><td> 688</td><td> 675</td><td> 627</td><td> 639</td></tr>\n",
       "\t<tr><td>ENSG00000002079</td><td>  12</td><td>   6</td><td>   1</td><td>   8</td></tr>\n",
       "\t<tr><td>ENSG00000002330</td><td> 908</td><td>1097</td><td>1416</td><td>1124</td></tr>\n",
       "\t<tr><td>ENSG00000002549</td><td> 833</td><td>1369</td><td> 788</td><td>1514</td></tr>\n",
       "\t<tr><td>ENSG00000002586</td><td>1827</td><td>2074</td><td>2421</td><td>2101</td></tr>\n",
       "\t<tr><td>ENSG00000002587</td><td> 285</td><td> 505</td><td> 471</td><td> 393</td></tr>\n",
       "\t<tr><td>ENSG00000002726</td><td>   0</td><td>   0</td><td>   0</td><td>   1</td></tr>\n",
       "\t<tr><td>ENSG00000002745</td><td>   5</td><td>  10</td><td>  10</td><td>   2</td></tr>\n",
       "\t<tr><td>ENSG00000002746</td><td>3519</td><td>5918</td><td>5815</td><td>5560</td></tr>\n",
       "\t<tr><td>ENSG00000002822</td><td> 705</td><td> 917</td><td> 947</td><td> 931</td></tr>\n",
       "\t<tr><td>ENSG00000002834</td><td>6197</td><td>8364</td><td>9328</td><td>8294</td></tr>\n",
       "\t<tr><td>⋮</td><td>⋮</td><td>⋮</td><td>⋮</td><td>⋮</td></tr>\n",
       "\t<tr><td>ENSG00000285963</td><td>   0</td><td>   0</td><td>   0</td><td>   0</td></tr>\n",
       "\t<tr><td>ENSG00000285964</td><td>   0</td><td>   0</td><td>   0</td><td>   0</td></tr>\n",
       "\t<tr><td>ENSG00000285966</td><td>  14</td><td>  13</td><td>  10</td><td>  10</td></tr>\n",
       "\t<tr><td>ENSG00000285967</td><td>2027</td><td>2807</td><td>2630</td><td>2606</td></tr>\n",
       "\t<tr><td>ENSG00000285968</td><td>   0</td><td>   0</td><td>   0</td><td>   0</td></tr>\n",
       "\t<tr><td>ENSG00000285969</td><td>   0</td><td>   0</td><td>   0</td><td>   0</td></tr>\n",
       "\t<tr><td>ENSG00000285970</td><td>   0</td><td>   1</td><td>   2</td><td>   0</td></tr>\n",
       "\t<tr><td>ENSG00000285971</td><td>   3</td><td>   8</td><td>   8</td><td>   2</td></tr>\n",
       "\t<tr><td>ENSG00000285972</td><td>   1</td><td>   1</td><td>   0</td><td>   0</td></tr>\n",
       "\t<tr><td>ENSG00000285973</td><td>   0</td><td>   0</td><td>   0</td><td>   0</td></tr>\n",
       "\t<tr><td>ENSG00000285974</td><td>   0</td><td>   0</td><td>   0</td><td>   0</td></tr>\n",
       "\t<tr><td>ENSG00000285975</td><td>   0</td><td>   0</td><td>   0</td><td>   0</td></tr>\n",
       "\t<tr><td>ENSG00000285976</td><td> 147</td><td> 170</td><td> 226</td><td> 225</td></tr>\n",
       "\t<tr><td>ENSG00000285977</td><td>   0</td><td>   0</td><td>   0</td><td>   0</td></tr>\n",
       "\t<tr><td>ENSG00000285978</td><td>   2</td><td>   1</td><td>   2</td><td>   1</td></tr>\n",
       "\t<tr><td>ENSG00000285979</td><td>   0</td><td>   0</td><td>   6</td><td>   0</td></tr>\n",
       "\t<tr><td>ENSG00000285980</td><td>   0</td><td>   0</td><td>   2</td><td>   1</td></tr>\n",
       "\t<tr><td>ENSG00000285981</td><td>   0</td><td>   0</td><td>   0</td><td>   0</td></tr>\n",
       "\t<tr><td>ENSG00000285982</td><td>   0</td><td>   0</td><td>   0</td><td>   0</td></tr>\n",
       "\t<tr><td>ENSG00000285984</td><td>   1</td><td>   2</td><td>   3</td><td>   1</td></tr>\n",
       "\t<tr><td>ENSG00000285985</td><td>   0</td><td>   0</td><td>   1</td><td>   0</td></tr>\n",
       "\t<tr><td>ENSG00000285986</td><td>   0</td><td>   0</td><td>   0</td><td>   0</td></tr>\n",
       "\t<tr><td>ENSG00000285987</td><td>   0</td><td>   0</td><td>   1</td><td>   0</td></tr>\n",
       "\t<tr><td>ENSG00000285988</td><td>   0</td><td>   0</td><td>   0</td><td>   0</td></tr>\n",
       "\t<tr><td>ENSG00000285989</td><td>   0</td><td>   0</td><td>   0</td><td>   0</td></tr>\n",
       "\t<tr><td>ENSG00000285990</td><td>   0</td><td>   2</td><td>   1</td><td>   0</td></tr>\n",
       "\t<tr><td>ENSG00000285991</td><td>   1</td><td>   2</td><td>   1</td><td>   1</td></tr>\n",
       "\t<tr><td>ENSG00000285992</td><td>   0</td><td>   0</td><td>   0</td><td>   0</td></tr>\n",
       "\t<tr><td>ENSG00000285993</td><td>   0</td><td>   0</td><td>   0</td><td>   1</td></tr>\n",
       "\t<tr><td>ENSG00000285994</td><td>  16</td><td>  20</td><td>   9</td><td>   6</td></tr>\n",
       "</tbody>\n",
       "</table>\n"
      ],
      "text/latex": [
       "A data.frame: 58735 × 5\n",
       "\\begin{tabular}{lllll}\n",
       " ID & reads\\_data1 & reads\\_data2 & reads\\_data3 & reads\\_data4\\\\\n",
       " <fct> & <int> & <int> & <int> & <int>\\\\\n",
       "\\hline\n",
       "\t ENSG00000000003 &  861 &  982 & 1217 &  969\\\\\n",
       "\t ENSG00000000005 &    1 &    1 &    6 &    6\\\\\n",
       "\t ENSG00000000419 &  511 &  632 &  751 &  675\\\\\n",
       "\t ENSG00000000457 &  367 &  479 &  547 &  501\\\\\n",
       "\t ENSG00000000460 &  328 &  386 &  419 &  351\\\\\n",
       "\t ENSG00000000938 &    7 &    8 &    1 &    9\\\\\n",
       "\t ENSG00000000971 &    3 &    2 &    1 &    4\\\\\n",
       "\t ENSG00000001036 &  433 &  423 &  754 &  455\\\\\n",
       "\t ENSG00000001084 &  804 & 1126 & 1174 & 1040\\\\\n",
       "\t ENSG00000001167 & 2048 & 2887 & 2992 & 2762\\\\\n",
       "\t ENSG00000001460 &  211 &  157 &  255 &  181\\\\\n",
       "\t ENSG00000001461 &  689 &  698 &  765 &  635\\\\\n",
       "\t ENSG00000001497 & 1640 & 1694 & 1767 & 1697\\\\\n",
       "\t ENSG00000001561 &  280 &  408 &  468 &  359\\\\\n",
       "\t ENSG00000001617 & 1500 & 1824 & 1969 & 1573\\\\\n",
       "\t ENSG00000001626 &   12 &    3 &   12 &    3\\\\\n",
       "\t ENSG00000001629 & 2490 & 3413 & 2977 & 3271\\\\\n",
       "\t ENSG00000001630 &  220 &  341 &  274 &  293\\\\\n",
       "\t ENSG00000001631 &  212 &  271 &  288 &  268\\\\\n",
       "\t ENSG00000002016 &  688 &  675 &  627 &  639\\\\\n",
       "\t ENSG00000002079 &   12 &    6 &    1 &    8\\\\\n",
       "\t ENSG00000002330 &  908 & 1097 & 1416 & 1124\\\\\n",
       "\t ENSG00000002549 &  833 & 1369 &  788 & 1514\\\\\n",
       "\t ENSG00000002586 & 1827 & 2074 & 2421 & 2101\\\\\n",
       "\t ENSG00000002587 &  285 &  505 &  471 &  393\\\\\n",
       "\t ENSG00000002726 &    0 &    0 &    0 &    1\\\\\n",
       "\t ENSG00000002745 &    5 &   10 &   10 &    2\\\\\n",
       "\t ENSG00000002746 & 3519 & 5918 & 5815 & 5560\\\\\n",
       "\t ENSG00000002822 &  705 &  917 &  947 &  931\\\\\n",
       "\t ENSG00000002834 & 6197 & 8364 & 9328 & 8294\\\\\n",
       "\t ⋮ & ⋮ & ⋮ & ⋮ & ⋮\\\\\n",
       "\t ENSG00000285963 &    0 &    0 &    0 &    0\\\\\n",
       "\t ENSG00000285964 &    0 &    0 &    0 &    0\\\\\n",
       "\t ENSG00000285966 &   14 &   13 &   10 &   10\\\\\n",
       "\t ENSG00000285967 & 2027 & 2807 & 2630 & 2606\\\\\n",
       "\t ENSG00000285968 &    0 &    0 &    0 &    0\\\\\n",
       "\t ENSG00000285969 &    0 &    0 &    0 &    0\\\\\n",
       "\t ENSG00000285970 &    0 &    1 &    2 &    0\\\\\n",
       "\t ENSG00000285971 &    3 &    8 &    8 &    2\\\\\n",
       "\t ENSG00000285972 &    1 &    1 &    0 &    0\\\\\n",
       "\t ENSG00000285973 &    0 &    0 &    0 &    0\\\\\n",
       "\t ENSG00000285974 &    0 &    0 &    0 &    0\\\\\n",
       "\t ENSG00000285975 &    0 &    0 &    0 &    0\\\\\n",
       "\t ENSG00000285976 &  147 &  170 &  226 &  225\\\\\n",
       "\t ENSG00000285977 &    0 &    0 &    0 &    0\\\\\n",
       "\t ENSG00000285978 &    2 &    1 &    2 &    1\\\\\n",
       "\t ENSG00000285979 &    0 &    0 &    6 &    0\\\\\n",
       "\t ENSG00000285980 &    0 &    0 &    2 &    1\\\\\n",
       "\t ENSG00000285981 &    0 &    0 &    0 &    0\\\\\n",
       "\t ENSG00000285982 &    0 &    0 &    0 &    0\\\\\n",
       "\t ENSG00000285984 &    1 &    2 &    3 &    1\\\\\n",
       "\t ENSG00000285985 &    0 &    0 &    1 &    0\\\\\n",
       "\t ENSG00000285986 &    0 &    0 &    0 &    0\\\\\n",
       "\t ENSG00000285987 &    0 &    0 &    1 &    0\\\\\n",
       "\t ENSG00000285988 &    0 &    0 &    0 &    0\\\\\n",
       "\t ENSG00000285989 &    0 &    0 &    0 &    0\\\\\n",
       "\t ENSG00000285990 &    0 &    2 &    1 &    0\\\\\n",
       "\t ENSG00000285991 &    1 &    2 &    1 &    1\\\\\n",
       "\t ENSG00000285992 &    0 &    0 &    0 &    0\\\\\n",
       "\t ENSG00000285993 &    0 &    0 &    0 &    1\\\\\n",
       "\t ENSG00000285994 &   16 &   20 &    9 &    6\\\\\n",
       "\\end{tabular}\n"
      ],
      "text/markdown": [
       "\n",
       "A data.frame: 58735 × 5\n",
       "\n",
       "| ID &lt;fct&gt; | reads_data1 &lt;int&gt; | reads_data2 &lt;int&gt; | reads_data3 &lt;int&gt; | reads_data4 &lt;int&gt; |\n",
       "|---|---|---|---|---|\n",
       "| ENSG00000000003 |  861 |  982 | 1217 |  969 |\n",
       "| ENSG00000000005 |    1 |    1 |    6 |    6 |\n",
       "| ENSG00000000419 |  511 |  632 |  751 |  675 |\n",
       "| ENSG00000000457 |  367 |  479 |  547 |  501 |\n",
       "| ENSG00000000460 |  328 |  386 |  419 |  351 |\n",
       "| ENSG00000000938 |    7 |    8 |    1 |    9 |\n",
       "| ENSG00000000971 |    3 |    2 |    1 |    4 |\n",
       "| ENSG00000001036 |  433 |  423 |  754 |  455 |\n",
       "| ENSG00000001084 |  804 | 1126 | 1174 | 1040 |\n",
       "| ENSG00000001167 | 2048 | 2887 | 2992 | 2762 |\n",
       "| ENSG00000001460 |  211 |  157 |  255 |  181 |\n",
       "| ENSG00000001461 |  689 |  698 |  765 |  635 |\n",
       "| ENSG00000001497 | 1640 | 1694 | 1767 | 1697 |\n",
       "| ENSG00000001561 |  280 |  408 |  468 |  359 |\n",
       "| ENSG00000001617 | 1500 | 1824 | 1969 | 1573 |\n",
       "| ENSG00000001626 |   12 |    3 |   12 |    3 |\n",
       "| ENSG00000001629 | 2490 | 3413 | 2977 | 3271 |\n",
       "| ENSG00000001630 |  220 |  341 |  274 |  293 |\n",
       "| ENSG00000001631 |  212 |  271 |  288 |  268 |\n",
       "| ENSG00000002016 |  688 |  675 |  627 |  639 |\n",
       "| ENSG00000002079 |   12 |    6 |    1 |    8 |\n",
       "| ENSG00000002330 |  908 | 1097 | 1416 | 1124 |\n",
       "| ENSG00000002549 |  833 | 1369 |  788 | 1514 |\n",
       "| ENSG00000002586 | 1827 | 2074 | 2421 | 2101 |\n",
       "| ENSG00000002587 |  285 |  505 |  471 |  393 |\n",
       "| ENSG00000002726 |    0 |    0 |    0 |    1 |\n",
       "| ENSG00000002745 |    5 |   10 |   10 |    2 |\n",
       "| ENSG00000002746 | 3519 | 5918 | 5815 | 5560 |\n",
       "| ENSG00000002822 |  705 |  917 |  947 |  931 |\n",
       "| ENSG00000002834 | 6197 | 8364 | 9328 | 8294 |\n",
       "| ⋮ | ⋮ | ⋮ | ⋮ | ⋮ |\n",
       "| ENSG00000285963 |    0 |    0 |    0 |    0 |\n",
       "| ENSG00000285964 |    0 |    0 |    0 |    0 |\n",
       "| ENSG00000285966 |   14 |   13 |   10 |   10 |\n",
       "| ENSG00000285967 | 2027 | 2807 | 2630 | 2606 |\n",
       "| ENSG00000285968 |    0 |    0 |    0 |    0 |\n",
       "| ENSG00000285969 |    0 |    0 |    0 |    0 |\n",
       "| ENSG00000285970 |    0 |    1 |    2 |    0 |\n",
       "| ENSG00000285971 |    3 |    8 |    8 |    2 |\n",
       "| ENSG00000285972 |    1 |    1 |    0 |    0 |\n",
       "| ENSG00000285973 |    0 |    0 |    0 |    0 |\n",
       "| ENSG00000285974 |    0 |    0 |    0 |    0 |\n",
       "| ENSG00000285975 |    0 |    0 |    0 |    0 |\n",
       "| ENSG00000285976 |  147 |  170 |  226 |  225 |\n",
       "| ENSG00000285977 |    0 |    0 |    0 |    0 |\n",
       "| ENSG00000285978 |    2 |    1 |    2 |    1 |\n",
       "| ENSG00000285979 |    0 |    0 |    6 |    0 |\n",
       "| ENSG00000285980 |    0 |    0 |    2 |    1 |\n",
       "| ENSG00000285981 |    0 |    0 |    0 |    0 |\n",
       "| ENSG00000285982 |    0 |    0 |    0 |    0 |\n",
       "| ENSG00000285984 |    1 |    2 |    3 |    1 |\n",
       "| ENSG00000285985 |    0 |    0 |    1 |    0 |\n",
       "| ENSG00000285986 |    0 |    0 |    0 |    0 |\n",
       "| ENSG00000285987 |    0 |    0 |    1 |    0 |\n",
       "| ENSG00000285988 |    0 |    0 |    0 |    0 |\n",
       "| ENSG00000285989 |    0 |    0 |    0 |    0 |\n",
       "| ENSG00000285990 |    0 |    2 |    1 |    0 |\n",
       "| ENSG00000285991 |    1 |    2 |    1 |    1 |\n",
       "| ENSG00000285992 |    0 |    0 |    0 |    0 |\n",
       "| ENSG00000285993 |    0 |    0 |    0 |    1 |\n",
       "| ENSG00000285994 |   16 |   20 |    9 |    6 |\n",
       "\n"
      ],
      "text/plain": [
       "      ID              reads_data1 reads_data2 reads_data3 reads_data4\n",
       "1     ENSG00000000003  861         982        1217         969       \n",
       "2     ENSG00000000005    1           1           6           6       \n",
       "3     ENSG00000000419  511         632         751         675       \n",
       "4     ENSG00000000457  367         479         547         501       \n",
       "5     ENSG00000000460  328         386         419         351       \n",
       "6     ENSG00000000938    7           8           1           9       \n",
       "7     ENSG00000000971    3           2           1           4       \n",
       "8     ENSG00000001036  433         423         754         455       \n",
       "9     ENSG00000001084  804        1126        1174        1040       \n",
       "10    ENSG00000001167 2048        2887        2992        2762       \n",
       "11    ENSG00000001460  211         157         255         181       \n",
       "12    ENSG00000001461  689         698         765         635       \n",
       "13    ENSG00000001497 1640        1694        1767        1697       \n",
       "14    ENSG00000001561  280         408         468         359       \n",
       "15    ENSG00000001617 1500        1824        1969        1573       \n",
       "16    ENSG00000001626   12           3          12           3       \n",
       "17    ENSG00000001629 2490        3413        2977        3271       \n",
       "18    ENSG00000001630  220         341         274         293       \n",
       "19    ENSG00000001631  212         271         288         268       \n",
       "20    ENSG00000002016  688         675         627         639       \n",
       "21    ENSG00000002079   12           6           1           8       \n",
       "22    ENSG00000002330  908        1097        1416        1124       \n",
       "23    ENSG00000002549  833        1369         788        1514       \n",
       "24    ENSG00000002586 1827        2074        2421        2101       \n",
       "25    ENSG00000002587  285         505         471         393       \n",
       "26    ENSG00000002726    0           0           0           1       \n",
       "27    ENSG00000002745    5          10          10           2       \n",
       "28    ENSG00000002746 3519        5918        5815        5560       \n",
       "29    ENSG00000002822  705         917         947         931       \n",
       "30    ENSG00000002834 6197        8364        9328        8294       \n",
       "⋮     ⋮               ⋮           ⋮           ⋮           ⋮          \n",
       "58706 ENSG00000285963    0           0           0           0       \n",
       "58707 ENSG00000285964    0           0           0           0       \n",
       "58708 ENSG00000285966   14          13          10          10       \n",
       "58709 ENSG00000285967 2027        2807        2630        2606       \n",
       "58710 ENSG00000285968    0           0           0           0       \n",
       "58711 ENSG00000285969    0           0           0           0       \n",
       "58712 ENSG00000285970    0           1           2           0       \n",
       "58713 ENSG00000285971    3           8           8           2       \n",
       "58714 ENSG00000285972    1           1           0           0       \n",
       "58715 ENSG00000285973    0           0           0           0       \n",
       "58716 ENSG00000285974    0           0           0           0       \n",
       "58717 ENSG00000285975    0           0           0           0       \n",
       "58718 ENSG00000285976  147         170         226         225       \n",
       "58719 ENSG00000285977    0           0           0           0       \n",
       "58720 ENSG00000285978    2           1           2           1       \n",
       "58721 ENSG00000285979    0           0           6           0       \n",
       "58722 ENSG00000285980    0           0           2           1       \n",
       "58723 ENSG00000285981    0           0           0           0       \n",
       "58724 ENSG00000285982    0           0           0           0       \n",
       "58725 ENSG00000285984    1           2           3           1       \n",
       "58726 ENSG00000285985    0           0           1           0       \n",
       "58727 ENSG00000285986    0           0           0           0       \n",
       "58728 ENSG00000285987    0           0           1           0       \n",
       "58729 ENSG00000285988    0           0           0           0       \n",
       "58730 ENSG00000285989    0           0           0           0       \n",
       "58731 ENSG00000285990    0           2           1           0       \n",
       "58732 ENSG00000285991    1           2           1           1       \n",
       "58733 ENSG00000285992    0           0           0           0       \n",
       "58734 ENSG00000285993    0           0           0           1       \n",
       "58735 ENSG00000285994   16          20           9           6       "
      ]
     },
     "metadata": {},
     "output_type": "display_data"
    }
   ],
   "source": [
    "#Create count matrix using R\n",
    "#import library \n",
    "library(dplyr)\n",
    "\n",
    "#Import data \n",
    "setwd ('/gpfs/home/agonzalez/bioinformatics_course/HW7.b/data/htseq_out')\n",
    "data1 <- read.table('GSM2580319_counts.txt') \n",
    "data2  <- read.table('GSM2580320_counts.txt') \n",
    "data3  <- read.table('GSM2580323_counts.txt') \n",
    "data4  <- read.table('GSM2580324_counts.txt') \n",
    "\n",
    "#Delete last rows of the data frame\n",
    "data1 <- head(data1,-5)\n",
    "data2 <- head(data2,-5)\n",
    "data3 <- head(data3,-5)\n",
    "data4 <- head(data4,-5)\n",
    "\n",
    "#Function to rename columns \n",
    "my_function_rename = function(input_df, cols, new_cols) { \n",
    "  rename(input_df, setNames(cols, new_cols)) }\n",
    "\n",
    "#Rename columns of data frames \n",
    "data1 <- my_function_rename(data1, cols = c(\"V1\",\"V2\"), new_cols = c(\"ID\", \"reads_data1\"))\n",
    "data2 <-my_function_rename(data2, cols = c(\"V1\",\"V2\"), new_cols = c(\"ID\", \"reads_data2\"))\n",
    "data3 <-my_function_rename(data3, cols = c(\"V1\",\"V2\"), new_cols = c(\"ID\", \"reads_data3\"))\n",
    "data4 <-my_function_rename(data4, cols = c(\"V1\",\"V2\"), new_cols = c(\"ID\", \"reads_data4\"))\n",
    "\n",
    "#Merge dataframes \n",
    "Reduce(function(x,y) merge(x,y,by=\"ID\",all=TRUE) ,list(data1,data2,data3,data4))"
   ]
  },
  {
   "cell_type": "markdown",
   "metadata": {},
   "source": [
    "**NOTE** Screenshot of the count matrix of the galaxy tutorial is on '/bioinformatics_course/HW7.b/Count_matrix_tutorial.png' directory"
   ]
  },
  {
   "cell_type": "markdown",
   "metadata": {},
   "source": [
    "Xin 2016\n",
    "\n",
    "RNA-seq reads were aligned to the GRCm37/mm9 build of the Mus musculus genome\n",
    "\n",
    "Only uniquely mapped reads  and genewise counts were retained (featureCounts)\n",
    "\n",
    "Only reads overlapping with the last 3,000 exonic bases (located at 3′ end) of each gene were counte: In RNA-seq most reads map to exons rather than introns or intergenic regions.\n",
    "\n",
    "The read count matrix contains the counts for all samples (with the genes in rows and the samples in columns). For Xin et. al., the authors have clarified that there were some missing samples in the GEO submission and provided the normalized count matrix for Figure7.  "
   ]
  },
  {
   "cell_type": "markdown",
   "metadata": {},
   "source": [
    "How can I find reads that aligned to the mitochondrial genome? (use awk)"
   ]
  },
  {
   "cell_type": "code",
   "execution_count": 1,
   "metadata": {},
   "outputs": [
    {
     "ename": "ERROR",
     "evalue": "Error in parse(text = x, srcfile = src): <text>:1:1: unexpected SPECIAL\n1: %%\n    ^\n",
     "output_type": "error",
     "traceback": [
      "Error in parse(text = x, srcfile = src): <text>:1:1: unexpected SPECIAL\n1: %%\n    ^\nTraceback:\n"
     ]
    }
   ],
   "source": [
    "%%bash \n",
    "cd /home_local/instructor-abcb2020/abcb2020/source/HW7.b/data/\n",
    "awk '{if($3 == \"chrM\") print $0;}' SRR12742806_aligned.sam   \n",
    "\n",
    "#From the aligned sam file, we can search the reads that aligned to the mitochondrial chromosome \n",
    "#Search on the 3rd column for chrM\n",
    "#The file doesnt have the info of the chromosomes, it only contains the name of the reference genome "
   ]
  },
  {
   "cell_type": "markdown",
   "metadata": {
    "deletable": false,
    "editable": false,
    "nbgrader": {
     "cell_type": "markdown",
     "checksum": "04044c70fa985bcb55362bf146a5a317",
     "grade": false,
     "grade_id": "cell-383a0643090d29f1",
     "locked": true,
     "schema_version": 3,
     "solution": false,
     "task": false
    }
   },
   "source": [
    "#### Question 2 (1 point) <br>\n",
    "Reflections: On an integer scale of 1-5, 1 being very easy and 5 being the most difficult, where would you rank HW7 (both HW7.a and HW7.b), and why? Include some notes about what you gained from this past week that you didn't know before as well as notes of things you already knew. \n",
    "\n",
    "Improvements: Notice a [potentially intentional] mistake, or an area of this homework that could have been improved? Include your thoughts here. "
   ]
  },
  {
   "cell_type": "markdown",
   "metadata": {},
   "source": [
    "Reflections: 4. It was easy to follow the galaxy tutorial on the platform. Also, It was easy to integrate the bash commands to clean the txt files provided on data folder, and use R to create the count matrix.However, I found difficult to understad what files I was asking to analyze on the homework. <br> \n",
    "Overall, I was able to do the galaxy tutorial using their own data, and also create count matrix on R using .txt read files on data folder of HW7b. <br>\n",
    "\n",
    "Improvements: It's a little bit confusing what strategy is better to follow. We didnt cover galaxy on class and we had to use it for the homework. Although I understand the HW is intentioned to be open, sometimes its hard to know what approach is better to use. "
   ]
  },
  {
   "cell_type": "code",
   "execution_count": null,
   "metadata": {},
   "outputs": [],
   "source": []
  }
 ],
 "metadata": {
  "kernelspec": {
   "display_name": "R",
   "language": "R",
   "name": "ir"
  },
  "language_info": {
   "codemirror_mode": "r",
   "file_extension": ".r",
   "mimetype": "text/x-r-source",
   "name": "R",
   "pygments_lexer": "r",
   "version": "3.5.1"
  }
 },
 "nbformat": 4,
 "nbformat_minor": 4
}
