{
 "cells": [
  {
   "cell_type": "markdown",
   "metadata": {},
   "source": [
    "Before you turn this problem in, make sure everything runs as expected. First, **restart the kernel** (in the menubar, select Kernel$\\rightarrow$Restart) and then **run all cells** (in the menubar, select Cell$\\rightarrow$Run All).\n",
    "\n",
    "Make sure you fill in any place that says `YOUR CODE HERE` or \"YOUR ANSWER HERE\", as well as your name and collaborators below:"
   ]
  },
  {
   "cell_type": "code",
   "execution_count": null,
   "metadata": {},
   "outputs": [],
   "source": [
    "NAME = \"Adriana Carolina Gonzalez-Cavazos\"\n",
    "COLLABORATORS = \"\""
   ]
  },
  {
   "cell_type": "code",
   "execution_count": 544,
   "metadata": {
    "scrolled": true
   },
   "outputs": [
    {
     "name": "stdout",
     "output_type": "stream",
     "text": [
      "/gpfs/home/agonzalez\n"
     ]
    }
   ],
   "source": [
    "%cd ~/"
   ]
  },
  {
   "cell_type": "markdown",
   "metadata": {},
   "source": [
    "---"
   ]
  },
  {
   "cell_type": "markdown",
   "metadata": {
    "deletable": false,
    "editable": false,
    "nbgrader": {
     "cell_type": "markdown",
     "checksum": "f9f1f8cf4fb8e923fb2bbf30965332a7",
     "grade": false,
     "grade_id": "context_1",
     "locked": true,
     "schema_version": 3,
     "solution": false,
     "task": false
    }
   },
   "source": [
    "# Homework 1: Jupyter and Bash Basics\n",
    "Curated by Sabah Ul-Hasan, Karthik Gangavarapu, Shang-Fu Chen, Huitian Dao, and Andrew Su\n",
    "\n",
    "Complete homework is due every Tuesday at 8 AM PST.<br>\n",
    "Save your homework as you go, so the efforts don't get lost. <br>\n",
    "Note there are up 12 points, but you can only receive 10 points total for homework.\n",
    "\n",
    "In this assignment, you will <br>\n",
    "A1.aa Practice basic bash operations in terminal and functionality of Jupyter notebook (Python kernel)<br>\n",
    "A1.ab Execute basic operations of bash commands in Jupyter notebook <br>\n",
    "A1.ba Utilize bash for more sophisicated tasks, such as pipes <br>\n",
    "A1.bb Solidfy your understanding of bash by practice\n",
    "\n",
    "Note that there is a section at the end (A1.bb) to point out any enhancements you personally would make to this assignment if you were to lead the course. "
   ]
  },
  {
   "cell_type": "markdown",
   "metadata": {
    "deletable": false,
    "editable": false,
    "nbgrader": {
     "cell_type": "markdown",
     "checksum": "c74926563e6748f3a2e131c0855270af",
     "grade": false,
     "grade_id": "context_2",
     "locked": true,
     "schema_version": 3,
     "solution": false,
     "task": false
    }
   },
   "source": [
    "## A1.aa: Github and Jupyter notebook [20-30 min] Individual\n",
    "\n",
    "### aa.i Confirmation of Github account and download of data in Bioinformatics course repo  "
   ]
  },
  {
   "cell_type": "markdown",
   "metadata": {
    "deletable": false,
    "editable": false,
    "nbgrader": {
     "cell_type": "markdown",
     "checksum": "ac8f92ea24e2aafdbc979aa04cfa8886",
     "grade": false,
     "grade_id": "ls_pwd_cd_unzip",
     "locked": true,
     "points": 0,
     "schema_version": 3,
     "solution": false,
     "task": true
    }
   },
   "source": [
    "#### Question 1 (1 point)\n",
    "- Use command line to find and show where the `data.zip` file is located within `Question1` (using absolute path.)\n",
    "- Move it back to `HW1` at the same level with this notebook and then decompress it.\n",
    "- Copy out `fastq` folder to `HW1` folder.\n",
    "\n",
    "Did you find this folder?  \n",
    "- If yes, show the combination of commands you reach the folder below.\n",
    "- If no, type out any obstacles you encounter here.\n"
   ]
  },
  {
   "cell_type": "markdown",
   "metadata": {
    "deletable": false,
    "nbgrader": {
     "cell_type": "markdown",
     "checksum": "ebeb858f08fd1e257db17549e5154734",
     "grade": true,
     "grade_id": "ls_pwd_cd_unzip_answer",
     "locked": false,
     "points": 1,
     "schema_version": 3,
     "solution": true,
     "task": false
    }
   },
   "source": [
    "**Move data.zip back to HW1** <br>\n",
    "```{shell}\n",
    "cd HW1/Question1/here/is/the/answer/data.zip\n",
    "mv ..HW1/\n",
    "```\n",
    "\n",
    "**Decompress data.zip** <br>\n",
    "```{shell}\n",
    "cd HW1\n",
    "ls unzip data.zip\n",
    "```\n",
    "\n",
    "**Copy fastq to HW1**\n",
    "```{shell}\n",
    "cd HW1/data\n",
    "cp -r fastq ~/HW1\n",
    "```"
   ]
  },
  {
   "cell_type": "markdown",
   "metadata": {
    "deletable": false,
    "editable": false,
    "nbgrader": {
     "cell_type": "markdown",
     "checksum": "8ab9f1d0d27e24ef64ab4e749ea6cbcd",
     "grade": false,
     "grade_id": "context_3",
     "locked": true,
     "schema_version": 3,
     "solution": false,
     "task": false
    }
   },
   "source": [
    "\n",
    "### aa.ii Confirmation of basic Jupyter notebook operations <br>\n",
    "Use ```jupyter notebook``` to open _HW1_ in your browser. The notebook should be opened in the Notebook Editor as below (for more user interface information, see [the documentation](https://jupyter-notebook.readthedocs.io/en/stable/ui_components.html)):\n",
    "<img src=\"https://jupyter-notebook.readthedocs.io/en/stable/_images/jupyter-notebook-default.png\" style=\"width: 750px;\">\n",
    "\n",
    "Do you see the same screen as shared by the instructors? (Yes/No)"
   ]
  },
  {
   "cell_type": "markdown",
   "metadata": {
    "deletable": false,
    "editable": false,
    "nbgrader": {
     "cell_type": "markdown",
     "checksum": "03c4586a546c756a55705d7b0647b709",
     "grade": false,
     "grade_id": "run_2plus3",
     "locked": true,
     "schema_version": 3,
     "solution": false,
     "task": false
    }
   },
   "source": [
    "#### Question 2 (1 point)\n",
    "Run the cell with an output after typing `2+3`.\n",
    "\n",
    "a. Notice the different settings (ie Markdown). What do they mean? <br>\n",
    "b. Why did we need to install the R kernel, whereas Python 3 was automatically included? <br>\n",
    "c. What additional observations do you have of Jupyter notebook, and how it functions? Play around with it and take notes of your observations. Also, type out any obstacles you encounter here."
   ]
  },
  {
   "cell_type": "code",
   "execution_count": 68,
   "metadata": {
    "deletable": false,
    "nbgrader": {
     "cell_type": "code",
     "checksum": "0e3be8e22a7002d3f13f87420cc21a00",
     "grade": true,
     "grade_id": "run_2plus3_answer",
     "locked": false,
     "points": 1,
     "schema_version": 3,
     "solution": true,
     "task": false
    }
   },
   "outputs": [
    {
     "data": {
      "text/plain": [
       "5"
      ]
     },
     "execution_count": 68,
     "metadata": {},
     "output_type": "execute_result"
    }
   ],
   "source": [
    "# your code here\n",
    "2+3"
   ]
  },
  {
   "cell_type": "markdown",
   "metadata": {},
   "source": [
    "**a.** The menubar and toolbar in Jupyter Notebook have different settings that allows editing the code in the cells. <br>\n",
    "**b.** Installing Jupyter notebooks as part of the Anaconda distribution includes Python (and other scientific python packages) but it does not includes the R Kernel. <br> \n",
    "**c.** Jupyter Notebooks allows changing the kernel from the menu.Its not necessary to do it using the terminal. We can export the Notebook into different formats or extensions "
   ]
  },
  {
   "cell_type": "markdown",
   "metadata": {
    "deletable": false,
    "editable": false,
    "nbgrader": {
     "cell_type": "markdown",
     "checksum": "cef45d37457b6153208a04b63f757546",
     "grade": false,
     "grade_id": "cell-7c040f6c57dd2a26",
     "locked": true,
     "schema_version": 3,
     "solution": false,
     "task": false
    }
   },
   "source": [
    "## A1.ab: Execute basic bash commands in Python (using Jupyter) [20-30 min] TPS\n",
    "### ab.i Confirmation of basic bash operations <br>\n",
    "Usually, you would want to use command line in your terminal to run an R script for a given job/task. Here we are going to leverage the `%%bash` 'magic command' in the jupyter python kernel to execute bash commands in the notebok directly. More information on magic commands can be found in the [documentation of the python kernel](https://ipython.readthedocs.io/en/stable/interactive/magics.html). If you want to call bash commands using the R kernel, you will utilize the [`system`](https://www.rdocumentation.org/packages/base/versions/3.6.2/topics/system) function in R.\n",
    "\n",
    "For example to execute the `pwd` command in the python kernel, you will use, \n",
    "\n",
    "```\n",
    "%%bash\n",
    "pwd\n",
    "```\n",
    "\n",
    "To execute the same `pwd` command in the R kernel, you will use, \n",
    "\n",
    "```\n",
    "system('pwd', intern=TRUE)\n",
    "```\n",
    "\n",
    "In this notebook, we will **only be using the python kernel**. We are doing this because the syntax for bash is easier and more concise under python than R. We will switch to the R kernel, which you have already installed in the configuration instructions, starting Week 3."
   ]
  },
  {
   "cell_type": "markdown",
   "metadata": {
    "deletable": false,
    "editable": false,
    "nbgrader": {
     "cell_type": "markdown",
     "checksum": "9ba6f1ea00815c8671c5cb4d981dc2c8",
     "grade": false,
     "grade_id": "cell-c55032ae385a03ef",
     "locked": true,
     "schema_version": 3,
     "solution": false,
     "task": false
    }
   },
   "source": [
    "### ab.ii Continuation of basic bash operations <br>\n",
    "Use the basic command lines covered in lecture to walk through the following exercises"
   ]
  },
  {
   "cell_type": "markdown",
   "metadata": {
    "deletable": false,
    "editable": false,
    "nbgrader": {
     "cell_type": "markdown",
     "checksum": "10475989f2ad4070cc6d03c1ab2dfe8c",
     "grade": false,
     "grade_id": "cell-38caa9aecb01a4e0",
     "locked": true,
     "points": 1,
     "schema_version": 3,
     "solution": false,
     "task": true
    }
   },
   "source": [
    "#### Question 3 (1 point)\n",
    "Find and list the `artists.txt` file.  "
   ]
  },
  {
   "cell_type": "code",
   "execution_count": 567,
   "metadata": {
    "deletable": false,
    "nbgrader": {
     "cell_type": "code",
     "checksum": "209a25cd82719e385011818bd6b5bf1a",
     "grade": false,
     "grade_id": "cell-e335aad81b9fbd8f",
     "locked": false,
     "schema_version": 3,
     "solution": true,
     "task": false
    },
    "scrolled": true
   },
   "outputs": [
    {
     "name": "stdout",
     "output_type": "stream",
     "text": [
      "/gpfs/home/agonzalez\n",
      "KILIAN, Wolfgang\t(1581-1662)\tBaroque\tGerman graphic artist (Augsburg)\n",
      "KINSOEN, François-Joseph\t(1771-1839)\tRomanticism\tFlemish painter\n",
      "KISS, August Karl Edouard\t(1802-1865)\tRomanticism\tGerman sculptor\n",
      "KISS, Bálint\t(1802-1868)\tRomanticism\tHungarian painter (Pest)\n",
      "KLEINER, Salomon\t(1703-1761)\tBaroque\tGerman graphic artist\n",
      "KLENZE, Leo von\t(1784-1864)\tRomanticism\tGerman architect\n",
      "KLESECKER, Justus (see GLESKER, Justus)\t(c. 1615-1678)\tBaroque\tGerman sculptor (Franconia)\n",
      "KLINGER, Max\t(1857-1920)\tRealism\tGerman painter\n",
      "KLOCKER, Hans\t(active 1478-1500l)\tNorthern Renaissance\tAustrian sculptor (South Tyrol)\n",
      "KLODT, Mikhail Konstantinovich\t(c. 1832-1902)\tRealism\tRussian painter (St. Petersburg)\n",
      "KLODT, Pyotr Karlovich\t(1805-1867)\tRomanticism\tRussian sculptor (St. Petersburg)\n",
      "TACCA, Ferdinando\t(1619-c. 1688)\tBaroque\tItalian sculptor (Florence)\n",
      "TACCA, Pietro\t(1577-1640)\tBaroque\tItalian sculptor (Florence)\n",
      "TACCONE, Paolo (see PAOLO ROMANO)\t(c. 1415-c. 1470)\tEarly Renaissance\tItalian sculptor (Rome)\n",
      "TADDEO DI BARTOLO\t(1362/63-1422)\tMedieval\tItalian painter (Siena)\n",
      "TADDEO DI FERRARA (see CRIVELLI, Taddeo)\t(active 1451-c. 1479)\tEarly Renaissance\tItalian illuminator (Ferrara)\n",
      "TADOLINI, Scipione\t(1822-1892)\tRealism\tItalian sculptor (Rome)\n",
      "TALENTI, Francesco\t(c. 1300-after 1369)\tMedieval\tItalian architect (Florence)\n",
      "TALENTI, Simone\t(c. 1330-after 1383)\tMedieval\tItalian architect (Florence)\n",
      "TALPA, Bartolo\t(active c. 1495)\tEarly Renaissance\tItalian sculptor (Mantua)\n",
      "TAMAGNI, Vincenzo\t(1492-1530)\tHigh Renaissance\tItalian painter (San Gimignano)\n",
      "TAMAGNINO, Antonio (see PORTA, Antonio della)\t(active 1489–1519)\tEarly Renaissance\tItalian sculptor\n",
      "TAMM, Franz Werner von\t(1658-1724)\tBaroque\tGerman painter\n",
      "TANZIO DA VARALLO\t(c. 1580-c. 1632)\tBaroque\tItalian painter\n",
      "TARAVAL, Guillaume-Thomas-Raphaël\t(1701-1750)\tBaroque\tFrench painter (Stockholm)\n",
      "TARAVAL, Hugues\t(1729-1785)\tRococo\tFrench painter (Paris)\n",
      "TARAVAL, Louis-Gustave\t(1738-1794)\tNeoclassicism\tFrench graphic artist\n",
      "TARBELL, Edmund Charles\t(1862-1938)\tImpressionism\tAmerican painter\n",
      "TARCHIANI, Filippo\t(1576-1645)\tBaroque\tItalian painter (Florence)\n",
      "TARDIEU, Nicolas-Henry\t(1674-1749)\tBaroque\tFrench graphic artist (Paris)\n",
      "TARGONE, Cesare\t(active 1575-1590)\tMannerism\tItalian goldsmith\n",
      "TARSIA, Antonio\t(c. 1662-1739)\tBaroque\tAustrian sculptor (Venice)\n",
      "TARUFFI, Emilio\t(1633-1696)\tBaroque\tItalian painter (Bologna)\n",
      "TASSAERT, Jean-Pierre-Antoine\t(1727-1788)\tRococo\tFlemish sculptor\n",
      "TASSAERT, Octave\t(1800-1874)\tRomanticism\tFrench painter\n",
      "TASSEL, Jean\t(1608-1667)\tBaroque\tFrench painter (Langres)\n",
      "TASSI, Agostino\t(1578-1644)\tBaroque\tItalian painter (Rome)\n",
      "TAUNAY, Nicolas Antoine\t(1755-1830)\tRococo\tFrench painter\n",
      "TEDESCO, Carlo (see SFERINI, Carlo Leopoldo)\t(1652-1698)\tBaroque\tItalian painter (Verona)\n",
      "TEDESCO, Giovanni Paolo (see SCHOR, Johann Paul)\t(1615-1674)\tBaroque\tItalian painter (Rome)\n",
      "TEERLINC, Levina\tc. 1515-1576)\tMannerism\tFlemish miniaturist (London)\n",
      "TELEPY, Károly\t(1828-1906)\tRomanticism\tHungarian painter\n",
      "TEMANZA, Tommaso\t(1705-1789)\tRococo\tItalian architect (Venice)\n",
      "TEMPEL, Abraham van den\t(1622/23-1672)\tBaroque\tDutch painter (Amsterdam)\n",
      "TEMPESTA, Antonio\t(1555-1630)\tBaroque\tItalian painter (Florence)\n",
      "TEMPESTA, Pietro (see MULIER, Pieter the Younger)\t(1637-1701)\tBaroque\tDutch painter (Italy)\n",
      "TENERANI, Pietro\t(1789-1869)\tNeoclassicism\tItalian sculptor\n",
      "TENGNAGEL, Jan\t(1584-1635)\tBaroque\tDutch painter (Amsterdam)\n",
      "TENIERS, Abraham\t(1629-1670)\tBaroque\tFlemish painter (Antwerp)\n",
      "TENIERS, David the Elder\t(1582-1649)\tBaroque\tFlemish painter (Antwerp)\n",
      "TENIERS, David the Younger\t(1610-1690)\tBaroque\tFlemish painter (Antwerp)\n",
      "TERBORCH, Gerard\t(1617-1681)\tBaroque\tDutch painter (Deventer)\n",
      "TERBRUGGHEN, Hendrick\t(1588-1629)\tBaroque\tDutch painter (Utrecht)\n",
      "TERILLI, Francesco\t(active 1610-1630)\tBaroque\tItalian sculptor (Feltre)\n",
      "TERRENI, Giuseppe Maria\t(1739-1811)\tNeoclassicism\tItalian painter (Livorno)\n",
      "TERZIO, Francesco\t(c. 1523-1591)\tMannerism\tItalian painter (Vienna)\n",
      "TESSIN, Nicodemus the Elder\t(1615-1681)\tBaroque\tSwedish architect (Stockholm)\n",
      "TESSIN, Nicodemus the Younger\t(1654-1728)\tBaroque\tSwedish architect (Stockholm)\n",
      "TESTA, Pietro\t(1611-1650)\tBaroque\tItalian painter (Rome)\n",
      "TESTELIN, Henri\t(1616-1695)\tBaroque\tFrench painter\n",
      "TETRODE, Willem Danielsz van\t(c. 1525-c. 1587)\tMannerism\tNetherlandish sculptor\n",
      "KNEBEL, Franz\t(1809-1877)\tRomanticism\tSwiss painter (Rome)\n",
      "KNELLER, Sir Godfrey\t(1646-1723)\tBaroque\tEnglish painter\n",
      "KNIJFF, Jacob\t(1639-1681)\tBaroque\tDutch painter (London)\n",
      "KNIJFF, Wouter\t(c. 1607-after 1693)\tBaroque\tDutch painter (Haarlem)\n",
      "KNIP, Henriëtte\t(1821-1909)\tRealism\tDutch painter (Brussels)\n",
      "KNIP, Henriëtte Geertruida\t(1783-1842)\tRomanticism\tDutch painter\n",
      "KNIP, Josephus Augustus\t(1777-1847)\tRomanticism\tDutch painter\n",
      "KNIP, Mattheus Derk\t(1785-1845)\tRomanticism\tDutch painter\n",
      "KNIP, Nicolaas Frederik\t(1741-1808)\tRococo\tDutch painter\n",
      "KNOBELSDORFF, Georg Wenceslaus von\t(1699-1753)\tBaroque\tGerman architect (Berlin)\n",
      "KNOLLER, Martin\t(1725-1804)\tNeoclassicism\tAustrian painter (Italy)\n",
      "KNÜPFER, Nicolaus\t(c. 1603-1655)\tBaroque\tDutch painter\n",
      "KNYFF, Jacob (see KNIJFF, Jacob)\t(1639-1681)\tBaroque\tDutch painter (London)\n",
      "KNYFF, Wouter (see KNIJFF, Wouter)\t(c. 1607-after 1693)\tBaroque\tDutch painter (Haarlem)\n",
      "KOBELL, Franz\t(1749-1822)\tRococo\tGerman painter (Munich)\n",
      "KOBELL, Hendrik\t(1751-1779)\tRococo\tDutch painter (Rotterdam)\n",
      "KOBELL, Jan I\t(1755-1833)\tRococo\tDutch graphic artist (Rotterdam)\n",
      "KOBELL, Jan II\t(1778-1814)\tNeoclassicism\tDutch painter\n",
      "KOBELL, Wilhelm von\t(1766-1853)\tRomanticism\tGerman painter\n",
      "KOBERGER, Anton\t(c. 1440-1513)\tNorthern Renaissance\tGerman graphic artist (Nuremberg)\n",
      "KŘBKE, Christen\t(1810-1848)\tRomanticism\tDanish painter\n",
      "KOCH, Joseph Anton\t(1768-1839)\tRomanticism\tAustrian painter\n",
      "KOEBERGER, Wenzel (see COBERGHER, Wenceslas)\t(c. 1560-1634)\tBaroque\tFlemish architect\n",
      "KOEDIJCK, Isaack\t(c. 1617-c. 1668)\tBaroque\tDutch painter (Amsterdam)\n",
      "KOEKKOEK, Barend Cornelis\t(1803-1862)\tRomanticism\tDutch painter\n",
      "KOERBECKE, Johann\t(c. 1420-1490)\tNorthern Renaissance\tGerman painter (Münster)\n",
      "KOETS, Roelof\t(c. 1592-1655)\tBaroque\tDutch painter (Haarlem)\n",
      "KOKORINOV, Alexander Filippovich\t(1726-1772)\tBaroque\tRussian architect (St. Petersburg)\n",
      "KOLBE, Carl Wilhelm\t(1759-1835)\tNeoclassicism\tGerman painter\n",
      "KOLLONITSCH, Christian\t(1730-1802)\tRococo\tAustrian painter (Vienna)\n",
      "KOLUNIĆ, Martin (see ROTA, Martino)\t(c. 1520-1583)\tMannerism\tOther painter (Vienna)\n",
      "KOMPE, Jan ten (see COMPE, Jan ten)\t(1713-1761)\tBaroque\tDutch painter (Amsterdam)\n",
      "KÖNIG, Johann\t(1586-1642)\tBaroque\tGerman painter (Augsburg)\n",
      "KONINCK, Daniël de\t(1668-after 1720)\tBaroque\tDutch painter (London)\n",
      "KONINCK, David de (see CONINCK, David de)\t(c. 1644-c. 1701)\tBaroque\tFlemish painter\n",
      "KONINCK, Philips\t(1619-1688)\tBaroque\tDutch painter (Amsterdam)\n",
      "KONINCK, Salomon\t(1609-1656)\tBaroque\tDutch painter (Amsterdam)\n",
      "KONRAD von Soest\t(active 1394-1422)\tNorthern Renaissance\tGerman painter (Westphalie)\n",
      "KOPISCH, August\t(1799-1853)\tRomanticism\tGerman painter (Berlin)\n",
      "AACHEN, Hans von\t(1552-1615)\tMannerism\tGerman painter\n",
      "AAGAARD, Carl Frederik\t(1833-1895)\tRealism\tDanish painter (Copenhagen)\n",
      "ABADIA, Juan de la\t(active 1470-1490)\tEarly Renaissance\tSpanish painter (Huesca)\n",
      "ABAQUESNE, Masséot\t(c 1500-1564)\tHigh Renaissance\tFrench potter\n",
      "ABBATE, Niccolò dell'\t(1509-1571)\tMannerism\tItalian painter (Bologna)\n",
      "ABBATI, Giuseppe\t(1836-1868)\tRealism\tItalian painter\n",
      "ABBATINI, Guido Ubaldo\t(c. 1602-1656)\tBaroque\tItalian painter (Rome)\n",
      "ABBONDI, Antonio di Pietro (see SCARPAGNINO)\t(c. 1465-1549)\tHigh Renaissance\tItalian architect (Venice)\n",
      "ABEELE, Pieter van\t(1608-1684)\tBaroque\tDutch sculptor (Amsterdam)\n",
      "ABILDGAARD, Nicolai\t(1743-1809)\tRomanticism\tDanish painter\n",
      "ABONDIO, Antonio\t(1538-1591)\tMannerism\tItalian sculptor (Vienna)\n",
      "ACERO Y AREBO, Vicente\t(c. 1677-1739)\tBaroque\tSpanish architect\n",
      "ACHENBACH, Oswald\t(1827-1905)\tRealism\tGerman painter (Dusseldorf)\n",
      "ADAM, Albrecht\t(1786-1862)\tRomanticism\tGerman painter (Munich)\n",
      "ADAM, Lambert-Sigisbert\t(1700-1759)\tBaroque\tFrench sculptor (Nancy)\n",
      "ADAM, Nicolas-Sébastien\t(1705-1778)\tBaroque\tFrench sculptor (Nancy)\n",
      "ADAM, Robert\t(1728-1792)\tBaroque\tScottish architect (London)\n",
      "ADAM-SALOMON, Antoine-Samuel\t(1818-1881)\tRealism\tFrench sculptor (Paris)\n",
      "ADELCRANTZ, Carl Fredrik\t(1716-1796)\tNeoclassicism\tSwedish architect\n",
      "ADEMOLLO, Luigi\t(1764-1849)\tNeoclassicism\tItalian painter (Florence)\n",
      "ADLER, Salomon\t(1630-1709)\tBaroque\tGerman painter (Milan)\n",
      "ADOLFZOON, Christoph (see ADOLPHI, Christoffel)\t(c. 1631-1680)\tBaroque\tDutch sculptor (Amsterdam)\n",
      "ADOLPHI, Christoffel\t(c. 1631-1680)\tBaroque\tDutch sculptor (Amsterdam)\n",
      "ADRIAEN VAN UTRECHT (see UTRECHT, Adriaen van)\t(1599-1652)\tBaroque\tFlemish painter\n",
      "ADRIAENSSEN, Alexander\t(1587-1661)\tBaroque\tFlemish painter (Antwerp)\n",
      "ADRIANO FIORENTINO\t(ca. 1455-1499)\tEarly Renaissance\tItalian sculptor (Florence)\n",
      "AELST, Willem van\t(1627-c. 1683)\tBaroque\tDutch painter (Delft)\n",
      "AENVANCK, Theodoor\t(1633-1690)\tBaroque\tFlemish painter (Antwerp)\n",
      "AERT VAN ORT\t(active 1490-1536)\tNorthern Renaissance\tFlemish glass painter\n",
      "AERTSEN, Pieter\t(1508-1575)\tNorthern Renaissance\tNetherlandish painter (Amsterdam)\n",
      "AGASSE, Jacques-Laurent\t(1767-1849)\tNeoclassicism\tSwiss painter (London)\n",
      "AGNOLO DA SIENA (see AGNOLO DI VENTURA)\t(active 1311-1349)\tMedieval\tItalian sculptor (Siena)\n",
      "AGNOLO DI POLO\t(c. 1470-after 1498)\tEarly Renaissance\tItalian sculptor (Florence)\n",
      "AGNOLO DI VENTURA\t(active 1311-1349)\tMedieval\tItalian sculptor (Siena)\n",
      "AGOSTINO DI DUCCIO\t(1418-1481)\tEarly Renaissance\tItalian sculptor (Rimini)\n",
      "AGOSTINO DI GIOVANNI\t(active 1310-1347)\tMedieval\tItalian sculptor (Siena)\n",
      "AGOSTINO VENEZIANO (see MUSI, Agostino dei)\t(c. 1490-c. 1536)\tHigh Renaissance\tItalian graphic artist\n",
      "AGRATE, Gian Francesco Ferrari d'\t(1489-c. 1563)\tHigh Renaissance\tItalian sculptor (Parma)\n",
      "AGUADO LÓPEZ, Antonio\t(1764-1831)\tNeoclassicism\tSpanish architect (Madrid)\n",
      "AIVAZOVSKY, Ivan Konstantinovich\t(1817-1900)\tRealism\tRussian painter\n",
      "AKEN, Joseph van\t(c. 1699-1749)\tRococo\tFlemish painter (London)\n",
      "AKOTANTOS, Angelos\t(?-c. 1457)\tMedieval\tGreek painter (Crete)\n",
      "ALBA, Macrino d'\t(c. 1460-c. 1528)\tEarly Renaissance\tItalian painter (Alba)\n",
      "ALBANI, Francesco\t(1578-1660)\tBaroque\tItalian painter (Bologna)\n",
      "ALBEREGNO, Jacobello\t(died before1397)\tMedieval\tItalian painter (Venice)\n",
      "ALBERTI, Antonio\t(c. 1390-c. 1442)\tEarly Renaissance\tItalian painter (Urbino)\n",
      "ALBERTI, Cherubino\t(1553-1615)\tMannerism\tItalian painter (Rome)\n",
      "ALBERTI, Giovanni\t(1558-1601)\tMannerism\tItalian painter (Rome)\n",
      "ALBERTI, Leon Battista\t(1404-1472)\tEarly Renaissance\tItalian architect\n",
      "ALBERTINELLI, Mariotto\t(1474-1515)\tEarly Renaissance\tItalian painter (Florence)\n"
     ]
    }
   ],
   "source": [
    "%%bash\n",
    "pwd\n",
    "cd HW1/data/art\n",
    "cat artists.txt #List artist file "
   ]
  },
  {
   "cell_type": "markdown",
   "metadata": {
    "deletable": false,
    "editable": false,
    "nbgrader": {
     "cell_type": "markdown",
     "checksum": "4b43afb83d9c781200dbab3b8e23cbde",
     "grade": false,
     "grade_id": "cell-7ec84fb290a57a6e",
     "locked": true,
     "points": 1,
     "schema_version": 3,
     "solution": false,
     "task": true
    }
   },
   "source": [
    "#### Question 4 (1 point)\n",
    "Count the number of artists in the file that are __not__ French. Print out this list.  \n",
    "_Note: Insert cells below for your code and answer._  \n",
    "\n",
    "Script your own task that includes 1-2 basic commands we haven't yet tried.  \n",
    "_Note: Insert cells below for your code and answer._"
   ]
  },
  {
   "cell_type": "code",
   "execution_count": 311,
   "metadata": {},
   "outputs": [
    {
     "name": "stdout",
     "output_type": "stream",
     "text": [
      "/gpfs/home/agonzalez\n",
      "Applied-Bioinformatics\n",
      "HW1\n",
      "data\n",
      "data.zip\n",
      "fastq\n",
      "HW1-Bash-Basics.ipynb\n",
      "Question1\n",
      "art\n",
      "fastq\n",
      "games.csv\n",
      "models.txt\n",
      "RNASeq_post-processing.csv\n",
      "tmp\n",
      "artists.txt\n",
      "This is the number of artist that are not French: 138\n",
      "This is the list: KILIAN, Wolfgang\t(1581-1662)\tBaroque\tGerman graphic artist (Augsburg)\n",
      "KINSOEN, François-Joseph\t(1771-1839)\tRomanticism\tFlemish painter\n",
      "KISS, August Karl Edouard\t(1802-1865)\tRomanticism\tGerman sculptor\n",
      "KISS, Bálint\t(1802-1868)\tRomanticism\tHungarian painter (Pest)\n",
      "KLEINER, Salomon\t(1703-1761)\tBaroque\tGerman graphic artist\n",
      "KLENZE, Leo von\t(1784-1864)\tRomanticism\tGerman architect\n",
      "KLESECKER, Justus (see GLESKER, Justus)\t(c. 1615-1678)\tBaroque\tGerman sculptor (Franconia)\n",
      "KLINGER, Max\t(1857-1920)\tRealism\tGerman painter\n",
      "KLOCKER, Hans\t(active 1478-1500l)\tNorthern Renaissance\tAustrian sculptor (South Tyrol)\n",
      "KLODT, Mikhail Konstantinovich\t(c. 1832-1902)\tRealism\tRussian painter (St. Petersburg)\n",
      "KLODT, Pyotr Karlovich\t(1805-1867)\tRomanticism\tRussian sculptor (St. Petersburg)\n",
      "TACCA, Ferdinando\t(1619-c. 1688)\tBaroque\tItalian sculptor (Florence)\n",
      "TACCA, Pietro\t(1577-1640)\tBaroque\tItalian sculptor (Florence)\n",
      "TACCONE, Paolo (see PAOLO ROMANO)\t(c. 1415-c. 1470)\tEarly Renaissance\tItalian sculptor (Rome)\n",
      "TADDEO DI BARTOLO\t(1362/63-1422)\tMedieval\tItalian painter (Siena)\n",
      "TADDEO DI FERRARA (see CRIVELLI, Taddeo)\t(active 1451-c. 1479)\tEarly Renaissance\tItalian illuminator (Ferrara)\n",
      "TADOLINI, Scipione\t(1822-1892)\tRealism\tItalian sculptor (Rome)\n",
      "TALENTI, Francesco\t(c. 1300-after 1369)\tMedieval\tItalian architect (Florence)\n",
      "TALENTI, Simone\t(c. 1330-after 1383)\tMedieval\tItalian architect (Florence)\n",
      "TALPA, Bartolo\t(active c. 1495)\tEarly Renaissance\tItalian sculptor (Mantua)\n",
      "TAMAGNI, Vincenzo\t(1492-1530)\tHigh Renaissance\tItalian painter (San Gimignano)\n",
      "TAMAGNINO, Antonio (see PORTA, Antonio della)\t(active 1489–1519)\tEarly Renaissance\tItalian sculptor\n",
      "TAMM, Franz Werner von\t(1658-1724)\tBaroque\tGerman painter\n",
      "TANZIO DA VARALLO\t(c. 1580-c. 1632)\tBaroque\tItalian painter\n",
      "TARBELL, Edmund Charles\t(1862-1938)\tImpressionism\tAmerican painter\n",
      "TARCHIANI, Filippo\t(1576-1645)\tBaroque\tItalian painter (Florence)\n",
      "TARGONE, Cesare\t(active 1575-1590)\tMannerism\tItalian goldsmith\n",
      "TARSIA, Antonio\t(c. 1662-1739)\tBaroque\tAustrian sculptor (Venice)\n",
      "TARUFFI, Emilio\t(1633-1696)\tBaroque\tItalian painter (Bologna)\n",
      "TASSAERT, Jean-Pierre-Antoine\t(1727-1788)\tRococo\tFlemish sculptor\n",
      "TASSI, Agostino\t(1578-1644)\tBaroque\tItalian painter (Rome)\n",
      "TEDESCO, Carlo (see SFERINI, Carlo Leopoldo)\t(1652-1698)\tBaroque\tItalian painter (Verona)\n",
      "TEDESCO, Giovanni Paolo (see SCHOR, Johann Paul)\t(1615-1674)\tBaroque\tItalian painter (Rome)\n",
      "TEERLINC, Levina\tc. 1515-1576)\tMannerism\tFlemish miniaturist (London)\n",
      "TELEPY, Károly\t(1828-1906)\tRomanticism\tHungarian painter\n",
      "TEMANZA, Tommaso\t(1705-1789)\tRococo\tItalian architect (Venice)\n",
      "TEMPEL, Abraham van den\t(1622/23-1672)\tBaroque\tDutch painter (Amsterdam)\n",
      "TEMPESTA, Antonio\t(1555-1630)\tBaroque\tItalian painter (Florence)\n",
      "TEMPESTA, Pietro (see MULIER, Pieter the Younger)\t(1637-1701)\tBaroque\tDutch painter (Italy)\n",
      "TENERANI, Pietro\t(1789-1869)\tNeoclassicism\tItalian sculptor\n",
      "TENGNAGEL, Jan\t(1584-1635)\tBaroque\tDutch painter (Amsterdam)\n",
      "TENIERS, Abraham\t(1629-1670)\tBaroque\tFlemish painter (Antwerp)\n",
      "TENIERS, David the Elder\t(1582-1649)\tBaroque\tFlemish painter (Antwerp)\n",
      "TENIERS, David the Younger\t(1610-1690)\tBaroque\tFlemish painter (Antwerp)\n",
      "TERBORCH, Gerard\t(1617-1681)\tBaroque\tDutch painter (Deventer)\n",
      "TERBRUGGHEN, Hendrick\t(1588-1629)\tBaroque\tDutch painter (Utrecht)\n",
      "TERILLI, Francesco\t(active 1610-1630)\tBaroque\tItalian sculptor (Feltre)\n",
      "TERRENI, Giuseppe Maria\t(1739-1811)\tNeoclassicism\tItalian painter (Livorno)\n",
      "TERZIO, Francesco\t(c. 1523-1591)\tMannerism\tItalian painter (Vienna)\n",
      "TESSIN, Nicodemus the Elder\t(1615-1681)\tBaroque\tSwedish architect (Stockholm)\n",
      "TESSIN, Nicodemus the Younger\t(1654-1728)\tBaroque\tSwedish architect (Stockholm)\n",
      "TESTA, Pietro\t(1611-1650)\tBaroque\tItalian painter (Rome)\n",
      "TETRODE, Willem Danielsz van\t(c. 1525-c. 1587)\tMannerism\tNetherlandish sculptor\n",
      "KNEBEL, Franz\t(1809-1877)\tRomanticism\tSwiss painter (Rome)\n",
      "KNELLER, Sir Godfrey\t(1646-1723)\tBaroque\tEnglish painter\n",
      "KNIJFF, Jacob\t(1639-1681)\tBaroque\tDutch painter (London)\n",
      "KNIJFF, Wouter\t(c. 1607-after 1693)\tBaroque\tDutch painter (Haarlem)\n",
      "KNIP, Henriëtte\t(1821-1909)\tRealism\tDutch painter (Brussels)\n",
      "KNIP, Henriëtte Geertruida\t(1783-1842)\tRomanticism\tDutch painter\n",
      "KNIP, Josephus Augustus\t(1777-1847)\tRomanticism\tDutch painter\n",
      "KNIP, Mattheus Derk\t(1785-1845)\tRomanticism\tDutch painter\n",
      "KNIP, Nicolaas Frederik\t(1741-1808)\tRococo\tDutch painter\n",
      "KNOBELSDORFF, Georg Wenceslaus von\t(1699-1753)\tBaroque\tGerman architect (Berlin)\n",
      "KNOLLER, Martin\t(1725-1804)\tNeoclassicism\tAustrian painter (Italy)\n",
      "KNÜPFER, Nicolaus\t(c. 1603-1655)\tBaroque\tDutch painter\n",
      "KNYFF, Jacob (see KNIJFF, Jacob)\t(1639-1681)\tBaroque\tDutch painter (London)\n",
      "KNYFF, Wouter (see KNIJFF, Wouter)\t(c. 1607-after 1693)\tBaroque\tDutch painter (Haarlem)\n",
      "KOBELL, Franz\t(1749-1822)\tRococo\tGerman painter (Munich)\n",
      "KOBELL, Hendrik\t(1751-1779)\tRococo\tDutch painter (Rotterdam)\n",
      "KOBELL, Jan I\t(1755-1833)\tRococo\tDutch graphic artist (Rotterdam)\n",
      "KOBELL, Jan II\t(1778-1814)\tNeoclassicism\tDutch painter\n",
      "KOBELL, Wilhelm von\t(1766-1853)\tRomanticism\tGerman painter\n",
      "KOBERGER, Anton\t(c. 1440-1513)\tNorthern Renaissance\tGerman graphic artist (Nuremberg)\n",
      "KŘBKE, Christen\t(1810-1848)\tRomanticism\tDanish painter\n",
      "KOCH, Joseph Anton\t(1768-1839)\tRomanticism\tAustrian painter\n",
      "KOEBERGER, Wenzel (see COBERGHER, Wenceslas)\t(c. 1560-1634)\tBaroque\tFlemish architect\n",
      "KOEDIJCK, Isaack\t(c. 1617-c. 1668)\tBaroque\tDutch painter (Amsterdam)\n",
      "KOEKKOEK, Barend Cornelis\t(1803-1862)\tRomanticism\tDutch painter\n",
      "KOERBECKE, Johann\t(c. 1420-1490)\tNorthern Renaissance\tGerman painter (Münster)\n",
      "KOETS, Roelof\t(c. 1592-1655)\tBaroque\tDutch painter (Haarlem)\n",
      "KOKORINOV, Alexander Filippovich\t(1726-1772)\tBaroque\tRussian architect (St. Petersburg)\n",
      "KOLBE, Carl Wilhelm\t(1759-1835)\tNeoclassicism\tGerman painter\n",
      "KOLLONITSCH, Christian\t(1730-1802)\tRococo\tAustrian painter (Vienna)\n",
      "KOLUNIĆ, Martin (see ROTA, Martino)\t(c. 1520-1583)\tMannerism\tOther painter (Vienna)\n",
      "KOMPE, Jan ten (see COMPE, Jan ten)\t(1713-1761)\tBaroque\tDutch painter (Amsterdam)\n",
      "KÖNIG, Johann\t(1586-1642)\tBaroque\tGerman painter (Augsburg)\n",
      "KONINCK, Daniël de\t(1668-after 1720)\tBaroque\tDutch painter (London)\n",
      "KONINCK, David de (see CONINCK, David de)\t(c. 1644-c. 1701)\tBaroque\tFlemish painter\n",
      "KONINCK, Philips\t(1619-1688)\tBaroque\tDutch painter (Amsterdam)\n",
      "KONINCK, Salomon\t(1609-1656)\tBaroque\tDutch painter (Amsterdam)\n",
      "KONRAD von Soest\t(active 1394-1422)\tNorthern Renaissance\tGerman painter (Westphalie)\n",
      "KOPISCH, August\t(1799-1853)\tRomanticism\tGerman painter (Berlin)\n",
      "AACHEN, Hans von\t(1552-1615)\tMannerism\tGerman painter\n",
      "AAGAARD, Carl Frederik\t(1833-1895)\tRealism\tDanish painter (Copenhagen)\n",
      "ABADIA, Juan de la\t(active 1470-1490)\tEarly Renaissance\tSpanish painter (Huesca)\n",
      "ABBATE, Niccolò dell'\t(1509-1571)\tMannerism\tItalian painter (Bologna)\n",
      "ABBATI, Giuseppe\t(1836-1868)\tRealism\tItalian painter\n",
      "ABBATINI, Guido Ubaldo\t(c. 1602-1656)\tBaroque\tItalian painter (Rome)\n",
      "ABBONDI, Antonio di Pietro (see SCARPAGNINO)\t(c. 1465-1549)\tHigh Renaissance\tItalian architect (Venice)\n",
      "ABEELE, Pieter van\t(1608-1684)\tBaroque\tDutch sculptor (Amsterdam)\n",
      "ABILDGAARD, Nicolai\t(1743-1809)\tRomanticism\tDanish painter\n",
      "ABONDIO, Antonio\t(1538-1591)\tMannerism\tItalian sculptor (Vienna)\n",
      "ACERO Y AREBO, Vicente\t(c. 1677-1739)\tBaroque\tSpanish architect\n",
      "ACHENBACH, Oswald\t(1827-1905)\tRealism\tGerman painter (Dusseldorf)\n",
      "ADAM, Albrecht\t(1786-1862)\tRomanticism\tGerman painter (Munich)\n",
      "ADAM, Robert\t(1728-1792)\tBaroque\tScottish architect (London)\n",
      "ADELCRANTZ, Carl Fredrik\t(1716-1796)\tNeoclassicism\tSwedish architect\n",
      "ADEMOLLO, Luigi\t(1764-1849)\tNeoclassicism\tItalian painter (Florence)\n",
      "ADLER, Salomon\t(1630-1709)\tBaroque\tGerman painter (Milan)\n",
      "ADOLFZOON, Christoph (see ADOLPHI, Christoffel)\t(c. 1631-1680)\tBaroque\tDutch sculptor (Amsterdam)\n",
      "ADOLPHI, Christoffel\t(c. 1631-1680)\tBaroque\tDutch sculptor (Amsterdam)\n",
      "ADRIAEN VAN UTRECHT (see UTRECHT, Adriaen van)\t(1599-1652)\tBaroque\tFlemish painter\n",
      "ADRIAENSSEN, Alexander\t(1587-1661)\tBaroque\tFlemish painter (Antwerp)\n",
      "ADRIANO FIORENTINO\t(ca. 1455-1499)\tEarly Renaissance\tItalian sculptor (Florence)\n",
      "AELST, Willem van\t(1627-c. 1683)\tBaroque\tDutch painter (Delft)\n",
      "AENVANCK, Theodoor\t(1633-1690)\tBaroque\tFlemish painter (Antwerp)\n",
      "AERT VAN ORT\t(active 1490-1536)\tNorthern Renaissance\tFlemish glass painter\n",
      "AERTSEN, Pieter\t(1508-1575)\tNorthern Renaissance\tNetherlandish painter (Amsterdam)\n",
      "AGASSE, Jacques-Laurent\t(1767-1849)\tNeoclassicism\tSwiss painter (London)\n",
      "AGNOLO DA SIENA (see AGNOLO DI VENTURA)\t(active 1311-1349)\tMedieval\tItalian sculptor (Siena)\n",
      "AGNOLO DI POLO\t(c. 1470-after 1498)\tEarly Renaissance\tItalian sculptor (Florence)\n",
      "AGNOLO DI VENTURA\t(active 1311-1349)\tMedieval\tItalian sculptor (Siena)\n",
      "AGOSTINO DI DUCCIO\t(1418-1481)\tEarly Renaissance\tItalian sculptor (Rimini)\n",
      "AGOSTINO DI GIOVANNI\t(active 1310-1347)\tMedieval\tItalian sculptor (Siena)\n",
      "AGOSTINO VENEZIANO (see MUSI, Agostino dei)\t(c. 1490-c. 1536)\tHigh Renaissance\tItalian graphic artist\n",
      "AGRATE, Gian Francesco Ferrari d'\t(1489-c. 1563)\tHigh Renaissance\tItalian sculptor (Parma)\n",
      "AGUADO LÓPEZ, Antonio\t(1764-1831)\tNeoclassicism\tSpanish architect (Madrid)\n",
      "AIVAZOVSKY, Ivan Konstantinovich\t(1817-1900)\tRealism\tRussian painter\n",
      "AKEN, Joseph van\t(c. 1699-1749)\tRococo\tFlemish painter (London)\n",
      "AKOTANTOS, Angelos\t(?-c. 1457)\tMedieval\tGreek painter (Crete)\n",
      "ALBA, Macrino d'\t(c. 1460-c. 1528)\tEarly Renaissance\tItalian painter (Alba)\n",
      "ALBANI, Francesco\t(1578-1660)\tBaroque\tItalian painter (Bologna)\n",
      "ALBEREGNO, Jacobello\t(died before1397)\tMedieval\tItalian painter (Venice)\n",
      "ALBERTI, Antonio\t(c. 1390-c. 1442)\tEarly Renaissance\tItalian painter (Urbino)\n",
      "ALBERTI, Cherubino\t(1553-1615)\tMannerism\tItalian painter (Rome)\n",
      "ALBERTI, Giovanni\t(1558-1601)\tMannerism\tItalian painter (Rome)\n",
      "ALBERTI, Leon Battista\t(1404-1472)\tEarly Renaissance\tItalian architect\n",
      "ALBERTINELLI, Mariotto\t(1474-1515)\tEarly Renaissance\tItalian painter (Florence)\n"
     ]
    }
   ],
   "source": [
    "%%bash\n",
    "pwd\n",
    "cd HW1/data/art\n",
    "echo \"This is the number of artist that are not French: `grep -v -c 'French' artists.txt`\" # number of artists in the file that are not French.\n",
    "echo \"This is the list: `grep -v 'French' artists.txt`\"  # Print out list not French "
   ]
  },
  {
   "cell_type": "markdown",
   "metadata": {},
   "source": [
    "# New task\n",
    "Create a new file that only has French artist at the same level of artist file "
   ]
  },
  {
   "cell_type": "code",
   "execution_count": 580,
   "metadata": {},
   "outputs": [
    {
     "name": "stdout",
     "output_type": "stream",
     "text": [
      "/gpfs/home/agonzalez\n"
     ]
    }
   ],
   "source": [
    "%%bash\n",
    "pwd\n",
    "cd HW1/data/art\n",
    "new_file=$(grep -n 'French' artists.txt) #Save french artist in new variable \n",
    "echo \"$new_file\" > file_french.txt #Save variable in the new file  "
   ]
  },
  {
   "cell_type": "markdown",
   "metadata": {
    "deletable": false,
    "editable": false,
    "nbgrader": {
     "cell_type": "markdown",
     "checksum": "a84600a54d9ca5b45cef51885524fdec",
     "grade": false,
     "grade_id": "cell-b298e5fd54c5f6c4",
     "locked": true,
     "schema_version": 3,
     "solution": false,
     "task": false
    }
   },
   "source": [
    "### ab.iii Developing these skills on your own time \n",
    "\n",
    "Now that we've worked through these in pairs, try the following exercises on your own. Have them complete pior to next class. <br>"
   ]
  },
  {
   "cell_type": "markdown",
   "metadata": {
    "deletable": false,
    "editable": false,
    "nbgrader": {
     "cell_type": "markdown",
     "checksum": "06b05ffd945aa28558e6a26fad47f3ad",
     "grade": false,
     "grade_id": "cell-6b0a0d4ba495152a",
     "locked": true,
     "points": 1,
     "schema_version": 3,
     "solution": false,
     "task": true
    }
   },
   "source": [
    "##### Question 5 (1 point)\n",
    "Print the first 10 lines of `artists.txt`  \n",
    "_Note: Insert cells below for your code and answer._  \n",
    "\n",
    "Make a copy of `artists.txt` and rename it as `artists_new.txt`. Move the new copy to a new folder titled `new_folder` in the `data` folder (at the same level of the `art` folder.)  \n",
    "_Note: Insert cells below for your code and answer._  "
   ]
  },
  {
   "cell_type": "code",
   "execution_count": 582,
   "metadata": {},
   "outputs": [
    {
     "name": "stderr",
     "output_type": "stream",
     "text": [
      "mkdir: cannot create directory `new_folder': File exists\n"
     ]
    }
   ],
   "source": [
    "%%bash\n",
    "cd HW1/data/art\n",
    "mkdir new_folder #Create new_folder \n",
    "cp artists.txt artists_new.txt #Copy and rename artists.txt file \n",
    "mv artists_new.txt ../new_folder #Move artists_new.txt file to new_folder"
   ]
  },
  {
   "cell_type": "markdown",
   "metadata": {
    "deletable": false,
    "editable": false,
    "nbgrader": {
     "cell_type": "markdown",
     "checksum": "2fb29e58fa711bb508e6cc5c3a7b3b1d",
     "grade": false,
     "grade_id": "cell-ead93ee62631f746",
     "locked": true,
     "points": 1,
     "schema_version": 3,
     "solution": false,
     "task": true
    }
   },
   "source": [
    "#### Question 6 (1 point)\n",
    "Now, ask a question about the data, then answer it with your script! Create your own script returning some information about about the `artists.txt` file that we didn't know about before or haven't yet tried - Utilize the __`sort`__ command as part of your script.  \n",
    "_Note: Insert cells below for your code and answer._  \n",
    "\n",
    "Reflections: On an integer scale of `1-5`, `1` being very easy and `5` being the most difficult, where would you rank today's exercises? Be honest! It's okay if you put a `5`, and will help us better understand how to make sure your needs are being met. "
   ]
  },
  {
   "cell_type": "markdown",
   "metadata": {},
   "source": [
    "### New task \n",
    "Sort artist from Romanticism by their first name "
   ]
  },
  {
   "cell_type": "code",
   "execution_count": 572,
   "metadata": {},
   "outputs": [
    {
     "name": "stdout",
     "output_type": "stream",
     "text": [
      "/gpfs/home/agonzalez\n",
      "KINSOEN, François-Joseph\t(1771-1839)\tRomanticism\tFlemish painter\n",
      "KISS, August Karl Edouard\t(1802-1865)\tRomanticism\tGerman sculptor\n",
      "KISS, Bálint\t(1802-1868)\tRomanticism\tHungarian painter (Pest)\n",
      "KLENZE, Leo von\t(1784-1864)\tRomanticism\tGerman architect\n",
      "KLODT, Pyotr Karlovich\t(1805-1867)\tRomanticism\tRussian sculptor (St. Petersburg)\n",
      "TASSAERT, Octave\t(1800-1874)\tRomanticism\tFrench painter\n",
      "TELEPY, Károly\t(1828-1906)\tRomanticism\tHungarian painter\n",
      "KNEBEL, Franz\t(1809-1877)\tRomanticism\tSwiss painter (Rome)\n",
      "KNIP, Henriëtte Geertruida\t(1783-1842)\tRomanticism\tDutch painter\n",
      "KNIP, Josephus Augustus\t(1777-1847)\tRomanticism\tDutch painter\n",
      "KNIP, Mattheus Derk\t(1785-1845)\tRomanticism\tDutch painter\n",
      "KOBELL, Wilhelm von\t(1766-1853)\tRomanticism\tGerman painter\n",
      "KŘBKE, Christen\t(1810-1848)\tRomanticism\tDanish painter\n",
      "KOCH, Joseph Anton\t(1768-1839)\tRomanticism\tAustrian painter\n",
      "KOEKKOEK, Barend Cornelis\t(1803-1862)\tRomanticism\tDutch painter\n",
      "KOPISCH, August\t(1799-1853)\tRomanticism\tGerman painter (Berlin)\n",
      "ABILDGAARD, Nicolai\t(1743-1809)\tRomanticism\tDanish painter\n",
      "ADAM, Albrecht\t(1786-1862)\tRomanticism\tGerman painter (Munich)\n",
      "Romanticism artist sorted by year of birth:\n",
      "ADAM, Albrecht\t(1786-1862)\tRomanticism\tGerman painter (Munich)\n",
      "KOPISCH, August\t(1799-1853)\tRomanticism\tGerman painter (Berlin)\n",
      "KISS, August Karl Edouard\t(1802-1865)\tRomanticism\tGerman sculptor\n",
      "KISS, Bálint\t(1802-1868)\tRomanticism\tHungarian painter (Pest)\n",
      "KOEKKOEK, Barend Cornelis\t(1803-1862)\tRomanticism\tDutch painter\n",
      "KŘBKE, Christen\t(1810-1848)\tRomanticism\tDanish painter\n",
      "KINSOEN, François-Joseph\t(1771-1839)\tRomanticism\tFlemish painter\n",
      "KNEBEL, Franz\t(1809-1877)\tRomanticism\tSwiss painter (Rome)\n",
      "KNIP, Henriëtte Geertruida\t(1783-1842)\tRomanticism\tDutch painter\n",
      "KOCH, Joseph Anton\t(1768-1839)\tRomanticism\tAustrian painter\n",
      "KNIP, Josephus Augustus\t(1777-1847)\tRomanticism\tDutch painter\n",
      "TELEPY, Károly\t(1828-1906)\tRomanticism\tHungarian painter\n",
      "KLENZE, Leo von\t(1784-1864)\tRomanticism\tGerman architect\n",
      "KNIP, Mattheus Derk\t(1785-1845)\tRomanticism\tDutch painter\n",
      "ABILDGAARD, Nicolai\t(1743-1809)\tRomanticism\tDanish painter\n",
      "TASSAERT, Octave\t(1800-1874)\tRomanticism\tFrench painter\n",
      "KLODT, Pyotr Karlovich\t(1805-1867)\tRomanticism\tRussian sculptor (St. Petersburg)\n",
      "KOBELL, Wilhelm von\t(1766-1853)\tRomanticism\tGerman painter\n"
     ]
    }
   ],
   "source": [
    "%%bash\n",
    "pwd\n",
    "cd HW1/data/art\n",
    "rom_art=$(grep 'Romanticism' artists.txt) #Save Romanticism artist in new variable \n",
    "echo \"$rom_art\" #Confirm variable has Romanticism artist\n",
    "touch rom_art.txt #Pass content of variable into file  \n",
    "echo \"$rom_art\" > rom_art.txt #Pass content of variable into file  \n",
    "echo 'Romanticism artist sorted by year of birth:'\n",
    "sort -k 2 rom_art.txt #Sort by their first name using -k flag"
   ]
  },
  {
   "cell_type": "markdown",
   "metadata": {},
   "source": [
    "### Refletions \n",
    "3.5 "
   ]
  },
  {
   "cell_type": "markdown",
   "metadata": {
    "deletable": false,
    "editable": false,
    "nbgrader": {
     "cell_type": "markdown",
     "checksum": "24a9dab75e823991fe8f765154a10ec4",
     "grade": false,
     "grade_id": "cell-c48add631e5a7194",
     "locked": true,
     "schema_version": 3,
     "solution": false,
     "task": false
    }
   },
   "source": [
    "## A1.ba: Wildcards, redirections, and pipes [20-30 min] Group of 3  \n",
    "### ba.i Glob\n",
    "What is glob, and why use it compared to basic command line functions?"
   ]
  },
  {
   "cell_type": "markdown",
   "metadata": {},
   "source": [
    "**Glob are bash features that match or expand specified patterns. <br>\n",
    "Glob match file names while basic commands match text **"
   ]
  },
  {
   "cell_type": "markdown",
   "metadata": {
    "deletable": false,
    "editable": false,
    "nbgrader": {
     "cell_type": "markdown",
     "checksum": "94bb28661a08171f4e3804b24f5c4eec",
     "grade": false,
     "grade_id": "cell-8e3c252192e9c58f",
     "locked": true,
     "points": 1,
     "schema_version": 3,
     "solution": false,
     "task": true
    }
   },
   "source": [
    "#### Question 7 (1 point)\n",
    "Utliize glob to create a command that lists all the .txt files in the `tmp` directory, located in `data`. What could be another way to glob? Include this answer as a few sentences.  \n",
    "_Note: Insert cells below for your code and answer._  "
   ]
  },
  {
   "cell_type": "code",
   "execution_count": 573,
   "metadata": {
    "scrolled": true
   },
   "outputs": [
    {
     "name": "stdout",
     "output_type": "stream",
     "text": [
      "/gpfs/home/agonzalez\n",
      "file100.txt\n",
      "file101.txt\n",
      "file102.txt\n",
      "file103.txt\n",
      "file104.txt\n",
      "file105.txt\n",
      "file106.txt\n",
      "file107.txt\n",
      "file108.txt\n",
      "file109.txt\n",
      "file10.txt\n",
      "file110.txt\n",
      "file111.txt\n",
      "file114.txt\n",
      "file115.txt\n",
      "file116.txt\n",
      "file117.txt\n",
      "file118.txt\n",
      "file119.txt\n",
      "file11.txt\n",
      "file120.txt\n",
      "file121.txt\n",
      "file122.txt\n",
      "file123.txt\n",
      "file124.txt\n",
      "file125.txt\n",
      "file126.txt\n",
      "file127.txt\n",
      "file128.txt\n",
      "file129.txt\n",
      "file12.txt\n",
      "file130.txt\n",
      "file131.txt\n",
      "file132.txt\n",
      "file133.txt\n",
      "file134.txt\n",
      "file135.txt\n",
      "file136.txt\n",
      "file138.txt\n",
      "file139.txt\n",
      "file13.txt\n",
      "file140.txt\n",
      "file141.txt\n",
      "file142.txt\n",
      "file143.txt\n",
      "file144.txt\n",
      "file145.txt\n",
      "file146.txt\n",
      "file147.txt\n",
      "file148.txt\n",
      "file149.txt\n",
      "file14.txt\n",
      "file150.txt\n",
      "file151.txt\n",
      "file152.txt\n",
      "file153.txt\n",
      "file154.txt\n",
      "file155.txt\n",
      "file156.txt\n",
      "file157.txt\n",
      "file158.txt\n",
      "file159.txt\n",
      "file15.txt\n",
      "file160.txt\n",
      "file161.txt\n",
      "file162.txt\n",
      "file163.txt\n",
      "file164.txt\n",
      "file165.txt\n",
      "file166.txt\n",
      "file167.txt\n",
      "file168.txt\n",
      "file169.txt\n",
      "file16.txt\n",
      "file170.txt\n",
      "file171.txt\n",
      "file172.txt\n",
      "file173.txt\n",
      "file174.txt\n",
      "file175.txt\n",
      "file176.txt\n",
      "file177.txt\n",
      "file178.txt\n",
      "file179.txt\n",
      "file17.txt\n",
      "file180.txt\n",
      "file181.txt\n",
      "file182.txt\n",
      "file183.txt\n",
      "file184.txt\n",
      "file185.txt\n",
      "file186.txt\n",
      "file187.txt\n",
      "file188.txt\n",
      "file189.txt\n",
      "file18.txt\n",
      "file190.txt\n",
      "file191.txt\n",
      "file192.txt\n",
      "file193.txt\n",
      "file194.txt\n",
      "file195.txt\n",
      "file196.txt\n",
      "file197.txt\n",
      "file198.txt\n",
      "file199.txt\n",
      "file19.txt\n",
      "file1.txt\n",
      "file200.txt\n",
      "file21.txt\n",
      "file22.txt\n",
      "file23.txt\n",
      "file24.txt\n",
      "file25.txt\n",
      "file26.txt\n",
      "file27.txt\n",
      "file28.txt\n",
      "file29.txt\n",
      "file2.txt\n",
      "file30.txt\n",
      "file31.txt\n",
      "file32.txt\n",
      "file33.txt\n",
      "file34.txt\n",
      "file35.txt\n",
      "file36.txt\n",
      "file38.txt\n",
      "file39.txt\n",
      "file3.txt\n",
      "file40.txt\n",
      "file41.txt\n",
      "file42.txt\n",
      "file44.txt\n",
      "file45.txt\n",
      "file46.txt\n",
      "file47.txt\n",
      "file48.txt\n",
      "file49.txt\n",
      "file4.txt\n",
      "file50.txt\n",
      "file51.txt\n",
      "file52.txt\n",
      "file53.txt\n",
      "file54.txt\n",
      "file55.txt\n",
      "file56.txt\n",
      "file57.txt\n",
      "file58.txt\n",
      "file59.txt\n",
      "file5.txt\n",
      "file60.txt\n",
      "file61.txt\n",
      "file62.txt\n",
      "file64.txt\n",
      "file65.txt\n",
      "file66.txt\n",
      "file67.txt\n",
      "file68.txt\n",
      "file69.txt\n",
      "file6.txt\n",
      "file70.txt\n",
      "file71.txt\n",
      "file72.txt\n",
      "file73.txt\n",
      "file74.txt\n",
      "file75.txt\n",
      "file76.txt\n",
      "file77.txt\n",
      "file78.txt\n",
      "file79.txt\n",
      "file7.txt\n",
      "file80.txt\n",
      "file81.txt\n",
      "file82.txt\n",
      "file84.txt\n",
      "file85.txt\n",
      "file86.txt\n",
      "file87.txt\n",
      "file88.txt\n",
      "file89.txt\n",
      "file8.txt\n",
      "file90.txt\n",
      "file91.txt\n",
      "file92.txt\n",
      "file93.txt\n",
      "file94.txt\n",
      "file96.txt\n",
      "file97.txt\n",
      "file98.txt\n",
      "file99.txt\n",
      "file9.txt\n",
      "Another glob:\n",
      "file100.txt\n",
      "file101.txt\n",
      "file102.txt\n",
      "file103.txt\n",
      "file104.txt\n",
      "file105.txt\n",
      "file106.txt\n",
      "file107.txt\n",
      "file108.txt\n",
      "file109.txt\n",
      "file10.txt\n",
      "file110.txt\n",
      "file111.txt\n",
      "file114.txt\n",
      "file115.txt\n",
      "file116.txt\n",
      "file117.txt\n",
      "file118.txt\n",
      "file119.txt\n",
      "file11.txt\n",
      "file120.txt\n",
      "file121.txt\n",
      "file122.txt\n",
      "file123.txt\n",
      "file124.txt\n",
      "file125.txt\n",
      "file126.txt\n",
      "file127.txt\n",
      "file128.txt\n",
      "file129.txt\n",
      "file12.txt\n",
      "file130.txt\n",
      "file131.txt\n",
      "file132.txt\n",
      "file133.txt\n",
      "file134.txt\n",
      "file135.txt\n",
      "file136.txt\n",
      "file138.txt\n",
      "file139.txt\n",
      "file13.txt\n",
      "file140.txt\n",
      "file141.txt\n",
      "file142.txt\n",
      "file143.txt\n",
      "file144.txt\n",
      "file145.txt\n",
      "file146.txt\n",
      "file147.txt\n",
      "file148.txt\n",
      "file149.txt\n",
      "file14.txt\n",
      "file150.txt\n",
      "file151.txt\n",
      "file152.txt\n",
      "file153.txt\n",
      "file154.txt\n",
      "file155.txt\n",
      "file156.txt\n",
      "file157.txt\n",
      "file158.txt\n",
      "file159.txt\n",
      "file15.txt\n",
      "file160.txt\n",
      "file161.txt\n",
      "file162.txt\n",
      "file163.txt\n",
      "file164.txt\n",
      "file165.txt\n",
      "file166.txt\n",
      "file167.txt\n",
      "file168.txt\n",
      "file169.txt\n",
      "file16.txt\n",
      "file170.txt\n",
      "file171.txt\n",
      "file172.txt\n",
      "file173.txt\n",
      "file174.txt\n",
      "file175.txt\n",
      "file176.txt\n",
      "file177.txt\n",
      "file178.txt\n",
      "file179.txt\n",
      "file17.txt\n",
      "file180.txt\n",
      "file181.txt\n",
      "file182.txt\n",
      "file183.txt\n",
      "file184.txt\n",
      "file185.txt\n",
      "file186.txt\n",
      "file187.txt\n",
      "file188.txt\n",
      "file189.txt\n",
      "file18.txt\n",
      "file190.txt\n",
      "file191.txt\n",
      "file192.txt\n",
      "file193.txt\n",
      "file194.txt\n",
      "file195.txt\n",
      "file196.txt\n",
      "file197.txt\n",
      "file198.txt\n",
      "file199.txt\n",
      "file19.txt\n",
      "file1.txt\n",
      "file200.txt\n",
      "file21.txt\n",
      "file22.txt\n",
      "file23.txt\n",
      "file24.txt\n",
      "file25.txt\n",
      "file26.txt\n",
      "file27.txt\n",
      "file28.txt\n",
      "file29.txt\n",
      "file2.txt\n",
      "file30.txt\n",
      "file31.txt\n",
      "file32.txt\n",
      "file33.txt\n",
      "file34.txt\n",
      "file35.txt\n",
      "file36.txt\n",
      "file38.txt\n",
      "file39.txt\n",
      "file3.txt\n",
      "file40.txt\n",
      "file41.txt\n",
      "file42.txt\n",
      "file44.txt\n",
      "file45.txt\n",
      "file46.txt\n",
      "file47.txt\n",
      "file48.txt\n",
      "file49.txt\n",
      "file4.txt\n",
      "file50.txt\n",
      "file51.txt\n",
      "file52.txt\n",
      "file53.txt\n",
      "file54.txt\n",
      "file55.txt\n",
      "file56.txt\n",
      "file57.txt\n",
      "file58.txt\n",
      "file59.txt\n",
      "file5.txt\n",
      "file60.txt\n",
      "file61.txt\n",
      "file62.txt\n",
      "file64.txt\n",
      "file65.txt\n",
      "file66.txt\n",
      "file67.txt\n",
      "file68.txt\n",
      "file69.txt\n",
      "file6.txt\n",
      "file70.txt\n",
      "file71.txt\n",
      "file72.txt\n",
      "file73.txt\n",
      "file74.txt\n",
      "file75.txt\n",
      "file76.txt\n",
      "file77.txt\n",
      "file78.txt\n",
      "file79.txt\n",
      "file7.txt\n",
      "file80.txt\n",
      "file81.txt\n",
      "file82.txt\n",
      "file84.txt\n",
      "file85.txt\n",
      "file86.txt\n",
      "file87.txt\n",
      "file88.txt\n",
      "file89.txt\n",
      "file8.txt\n",
      "file90.txt\n",
      "file91.txt\n",
      "file92.txt\n",
      "file93.txt\n",
      "file94.txt\n",
      "file96.txt\n",
      "file97.txt\n",
      "file98.txt\n",
      "file99.txt\n",
      "file9.txt\n"
     ]
    }
   ],
   "source": [
    "%%bash\n",
    "pwd\n",
    "cd HW1/data/tmp \n",
    "ls *.txt #list all the .txt files in tmp directory\n",
    "echo \"Another glob:\"\n",
    "shopt -s extglob #Turn on extended globing\n",
    "ls !(*.csv) #List all the files except .csv "
   ]
  },
  {
   "cell_type": "markdown",
   "metadata": {
    "deletable": false,
    "editable": false,
    "nbgrader": {
     "cell_type": "markdown",
     "checksum": "27b41b526436d98efad1f212127d5d3d",
     "grade": false,
     "grade_id": "cell-d78e7ace05ce7481",
     "locked": true,
     "schema_version": 3,
     "solution": false,
     "task": false
    }
   },
   "source": [
    "### ba.i Redirection and pipes  \n",
    "In your, work on these individually and then compare your scripts.\n",
    "What does it mean to redirect, and why would you utilize a pipe over a basic command line?"
   ]
  },
  {
   "cell_type": "markdown",
   "metadata": {},
   "source": [
    "**Redirect:** Move input or output data to anoter place  <br>\n",
    "**Pipe over a basic command:** Pipe chain multiple commands together. It allows using the output of one command as the input of the other command in a consequitve way."
   ]
  },
  {
   "cell_type": "markdown",
   "metadata": {
    "deletable": false,
    "editable": false,
    "nbgrader": {
     "cell_type": "markdown",
     "checksum": "186d70714cbddbc2622c6e20fc287c15",
     "grade": false,
     "grade_id": "cell-2896a8740be4aeb4",
     "locked": true,
     "points": 1,
     "schema_version": 3,
     "solution": false,
     "task": true
    }
   },
   "source": [
    "#### Question 8 (1 point)\n",
    "Building off of glob, use a pipe to count the number of .txt files in `data/tmp`  \n",
    "_Note: Insert cells below for your code and answer._  \n",
    "\n",
    "Now, redirect the counted number as a saved `file_number.txt` file to the `new_folder` directory. What happens to the file if you repeat the same task, but exclude the pipe (name this `file_list.txt` so you can compare)?  \n",
    "_Note: Insert cells below for your code and answer._  \n",
    "\n",
    "How do your scripts compare or differ, either in input (command) or output?  \n",
    "_Note: Insert cells below for your code and answer._"
   ]
  },
  {
   "cell_type": "code",
   "execution_count": 574,
   "metadata": {
    "scrolled": true
   },
   "outputs": [
    {
     "name": "stdout",
     "output_type": "stream",
     "text": [
      "/gpfs/home/agonzalez\n",
      "191\n"
     ]
    }
   ],
   "source": [
    "%%bash\n",
    "pwd\n",
    "cd HW1/data/tmp  \n",
    "ls *.txt | wc -l  #count the number of .txt in data/tmp"
   ]
  },
  {
   "cell_type": "code",
   "execution_count": 575,
   "metadata": {},
   "outputs": [
    {
     "name": "stdout",
     "output_type": "stream",
     "text": [
      "/gpfs/home/agonzalez\n"
     ]
    }
   ],
   "source": [
    "%%bash\n",
    "pwd\n",
    "cd HW1/data/tmp \n",
    "#list .txt files \n",
    "#count  and save the number of .txt in file_number.txt\n",
    "#Move file_number to new_folder directory\n",
    "ls *.txt | wc -l > file_number.txt | mv file_number.txt ../new_folder "
   ]
  },
  {
   "cell_type": "code",
   "execution_count": 583,
   "metadata": {},
   "outputs": [
    {
     "name": "stdout",
     "output_type": "stream",
     "text": [
      "/gpfs/home/agonzalez\n",
      "file100.txt  file101.txt  file102.txt  file103.txt  file104.txt  file105.txt\n",
      "file106.txt  file107.txt  file108.txt  file109.txt  file10.txt\t file110.txt\n",
      "file111.txt  file114.txt  file115.txt  file116.txt  file117.txt  file118.txt\n",
      "file119.txt  file11.txt   file120.txt  file121.txt  file122.txt  file123.txt\n",
      "file124.txt  file125.txt  file126.txt  file127.txt  file128.txt  file129.txt\n",
      "file12.txt   file130.txt  file131.txt  file132.txt  file133.txt  file134.txt\n",
      "file135.txt  file136.txt  file138.txt  file139.txt  file13.txt\t file140.txt\n",
      "file141.txt  file142.txt  file143.txt  file144.txt  file145.txt  file146.txt\n",
      "file147.txt  file148.txt  file149.txt  file14.txt   file150.txt  file151.txt\n",
      "file152.txt  file153.txt  file154.txt  file155.txt  file156.txt  file157.txt\n",
      "file158.txt  file159.txt  file15.txt   file160.txt  file161.txt  file162.txt\n",
      "file163.txt  file164.txt  file165.txt  file166.txt  file167.txt  file168.txt\n",
      "file169.txt  file16.txt   file170.txt  file171.txt  file172.txt  file173.txt\n",
      "file174.txt  file175.txt  file176.txt  file177.txt  file178.txt  file179.txt\n",
      "file17.txt   file180.txt  file181.txt  file182.txt  file183.txt  file184.txt\n",
      "file185.txt  file186.txt  file187.txt  file188.txt  file189.txt  file18.txt\n",
      "file190.txt  file191.txt  file192.txt  file193.txt  file194.txt  file195.txt\n",
      "file196.txt  file197.txt  file198.txt  file199.txt  file19.txt\t file1.txt\n",
      "file200.txt  file21.txt   file22.txt   file23.txt   file24.txt\t file25.txt\n",
      "file26.txt   file27.txt   file28.txt   file29.txt   file2.txt\t file30.txt\n",
      "file31.txt   file32.txt   file33.txt   file34.txt   file35.txt\t file36.txt\n",
      "file38.txt   file39.txt   file3.txt    file40.txt   file41.txt\t file42.txt\n",
      "file44.txt   file45.txt   file46.txt   file47.txt   file48.txt\t file49.txt\n",
      "file4.txt    file50.txt   file51.txt   file52.txt   file53.txt\t file54.txt\n",
      "file55.txt   file56.txt   file57.txt   file58.txt   file59.txt\t file5.txt\n",
      "file60.txt   file61.txt   file62.txt   file64.txt   file65.txt\t file66.txt\n",
      "file67.txt   file68.txt   file69.txt   file6.txt    file70.txt\t file71.txt\n",
      "file72.txt   file73.txt   file74.txt   file75.txt   file76.txt\t file77.txt\n",
      "file78.txt   file79.txt   file7.txt    file80.txt   file81.txt\t file82.txt\n",
      "file84.txt   file85.txt   file86.txt   file87.txt   file88.txt\t file89.txt\n",
      "file8.txt    file90.txt   file91.txt   file92.txt   file93.txt\t file94.txt\n",
      "file96.txt   file97.txt   file98.txt   file99.txt   file9.txt\n"
     ]
    }
   ],
   "source": [
    "%%bash\n",
    "pwd\n",
    "cd HW1/data/tmp \n",
    "ls -x *.txt #list .txt files \n",
    "wc -l *.txt > file_list.txt #count.txt files and save it in file_list.txt\n",
    "mv file_list.txt ../new_folder #Move file_list to new_folder directory\n",
    "\n",
    "#The file_list.txt file has the name of the files and the number of .txt files in data/tmp "
   ]
  },
  {
   "cell_type": "markdown",
   "metadata": {
    "deletable": false,
    "editable": false,
    "nbgrader": {
     "cell_type": "markdown",
     "checksum": "73f322e1f771a3431f8273078682257c",
     "grade": false,
     "grade_id": "cell-6c262fbd792007e8",
     "locked": true,
     "schema_version": 3,
     "solution": false,
     "task": false
    }
   },
   "source": [
    "### A1.bb: Affirming what you learned in Week 1 [20-30 min, assignment] Individual"
   ]
  },
  {
   "cell_type": "markdown",
   "metadata": {
    "deletable": false,
    "editable": false,
    "nbgrader": {
     "cell_type": "markdown",
     "checksum": "db7c49effdca4d88adb5e4650e2eee16",
     "grade": false,
     "grade_id": "cell-0707e5dd07851e1b",
     "locked": true,
     "points": 1,
     "schema_version": 3,
     "solution": false,
     "task": true
    }
   },
   "source": [
    "#### Question 9 (1 point)\n",
    "What is the distinction between an absolute vs relative file path? Script an example of these two comparison along with a brief written answer.  \n",
    "_Note: Insert cells below for your code and answer._  \n",
    "\n",
    "What are 3 ways you can extend the __`ls`__ command to give you more information, and what do they give?  \n",
    "_Note: Insert cells below for your code and answer._  "
   ]
  },
  {
   "cell_type": "markdown",
   "metadata": {},
   "source": [
    "**Absolute path** Absolute path starts from the directory root and goes up to the location of the specified file or directory. <br>\n",
    "**Relative path** Path stars to the present working directly. "
   ]
  },
  {
   "cell_type": "code",
   "execution_count": 552,
   "metadata": {},
   "outputs": [
    {
     "name": "stdout",
     "output_type": "stream",
     "text": [
      "/gpfs/home/agonzalez\n",
      "/gpfs/home/agonzalez/HW1/data/tmp\n"
     ]
    }
   ],
   "source": [
    "%%bash\n",
    "#Change directory to tmp directory \n",
    "#Use Absolute path\n",
    "pwd \n",
    "cd HW1/data/tmp \n",
    "pwd"
   ]
  },
  {
   "cell_type": "code",
   "execution_count": 401,
   "metadata": {},
   "outputs": [
    {
     "name": "stdout",
     "output_type": "stream",
     "text": [
      "/gpfs/home/agonzalez\n",
      "/gpfs/home/agonzalez/HW1/data/tmp\n"
     ]
    }
   ],
   "source": [
    "%%bash\n",
    "#Change directory to tmp directory \n",
    "#Use Relative path\n",
    "pwd\n",
    "cd HW1\n",
    "cd data\n",
    "cd tmp \n",
    "pwd"
   ]
  },
  {
   "cell_type": "markdown",
   "metadata": {},
   "source": [
    "**3 ways to extend the ls command** <br>\n",
    "ls !: List any file except those with the given patterns *Ex. ls !(*.csv) #Get all the files except .csv files <br>\n",
    "ls +: List files that match one or more ocurrance of the given patterns. Ex. ls file+(3).txt #Get all the .txt files that has a 3 <br>\n",
    "ls x*: List all the files that matches any string beginning with \"x\".Ex ls file2* ##Get all the .txt files that star with \"file2\""
   ]
  },
  {
   "cell_type": "markdown",
   "metadata": {
    "deletable": false,
    "editable": false,
    "nbgrader": {
     "cell_type": "markdown",
     "checksum": "747e3fe4cfa5d75e3c113b5531d7999d",
     "grade": false,
     "grade_id": "cell-0707e5dd07851e1c",
     "locked": true,
     "points": 1,
     "schema_version": 3,
     "solution": false,
     "task": true
    }
   },
   "source": [
    "#### Question 10 (1 point)\n",
    "Create a file named `test.txt`, move it into the `new_folder`, then delete the file.  \n",
    "_Note: Insert cells below for your code and answer._  \n",
    "\n",
    "Create a sorted file artists (alphabetical order) from `artists.txt` labeled as `artists_sorted.txt` and place it in the `new_folder`. Then identify the number of unique artists in that file.   \n",
    "_Note: Insert cells below for your code and answer._  "
   ]
  },
  {
   "cell_type": "code",
   "execution_count": 488,
   "metadata": {
    "scrolled": false
   },
   "outputs": [
    {
     "name": "stdout",
     "output_type": "stream",
     "text": [
      "/gpfs/home/agonzalez\n"
     ]
    }
   ],
   "source": [
    "%%bash\n",
    "pwd\n",
    "cd HW1/data/tmp \n",
    "touch test.txt | mv test.txt ../new_folder #Create file test.txt and move it to new_folder directory \n",
    "rm ../new_folder/test.txt #Delete test.txt "
   ]
  },
  {
   "cell_type": "code",
   "execution_count": 584,
   "metadata": {},
   "outputs": [
    {
     "name": "stdout",
     "output_type": "stream",
     "text": [
      "/gpfs/home/agonzalez\n",
      "      1 AACHEN, Hans von\t(1552-1615)\tMannerism\tGerman painter\n",
      "      1 AAGAARD, Carl Frederik\t(1833-1895)\tRealism\tDanish painter (Copenhagen)\n",
      "      1 ABADIA, Juan de la\t(active 1470-1490)\tEarly Renaissance\tSpanish painter (Huesca)\n",
      "      1 ABAQUESNE, Masséot\t(c 1500-1564)\tHigh Renaissance\tFrench potter\n",
      "      1 ABBATE, Niccolò dell'\t(1509-1571)\tMannerism\tItalian painter (Bologna)\n",
      "      1 ABBATI, Giuseppe\t(1836-1868)\tRealism\tItalian painter\n",
      "      1 ABBATINI, Guido Ubaldo\t(c. 1602-1656)\tBaroque\tItalian painter (Rome)\n",
      "      1 ABBONDI, Antonio di Pietro (see SCARPAGNINO)\t(c. 1465-1549)\tHigh Renaissance\tItalian architect (Venice)\n",
      "      1 ABEELE, Pieter van\t(1608-1684)\tBaroque\tDutch sculptor (Amsterdam)\n",
      "      1 ABILDGAARD, Nicolai\t(1743-1809)\tRomanticism\tDanish painter\n",
      "      1 ABONDIO, Antonio\t(1538-1591)\tMannerism\tItalian sculptor (Vienna)\n",
      "      1 ACERO Y AREBO, Vicente\t(c. 1677-1739)\tBaroque\tSpanish architect\n",
      "      1 ACHENBACH, Oswald\t(1827-1905)\tRealism\tGerman painter (Dusseldorf)\n",
      "      1 ADAM, Albrecht\t(1786-1862)\tRomanticism\tGerman painter (Munich)\n",
      "      1 ADAM, Lambert-Sigisbert\t(1700-1759)\tBaroque\tFrench sculptor (Nancy)\n",
      "      1 ADAM, Nicolas-Sébastien\t(1705-1778)\tBaroque\tFrench sculptor (Nancy)\n",
      "      1 ADAM, Robert\t(1728-1792)\tBaroque\tScottish architect (London)\n",
      "      1 ADAM-SALOMON, Antoine-Samuel\t(1818-1881)\tRealism\tFrench sculptor (Paris)\n",
      "      1 ADELCRANTZ, Carl Fredrik\t(1716-1796)\tNeoclassicism\tSwedish architect\n",
      "      1 ADEMOLLO, Luigi\t(1764-1849)\tNeoclassicism\tItalian painter (Florence)\n",
      "      1 ADLER, Salomon\t(1630-1709)\tBaroque\tGerman painter (Milan)\n",
      "      1 ADOLFZOON, Christoph (see ADOLPHI, Christoffel)\t(c. 1631-1680)\tBaroque\tDutch sculptor (Amsterdam)\n",
      "      1 ADOLPHI, Christoffel\t(c. 1631-1680)\tBaroque\tDutch sculptor (Amsterdam)\n",
      "      1 ADRIAENSSEN, Alexander\t(1587-1661)\tBaroque\tFlemish painter (Antwerp)\n",
      "      1 ADRIAEN VAN UTRECHT (see UTRECHT, Adriaen van)\t(1599-1652)\tBaroque\tFlemish painter\n",
      "      1 ADRIANO FIORENTINO\t(ca. 1455-1499)\tEarly Renaissance\tItalian sculptor (Florence)\n",
      "      1 AELST, Willem van\t(1627-c. 1683)\tBaroque\tDutch painter (Delft)\n",
      "      1 AENVANCK, Theodoor\t(1633-1690)\tBaroque\tFlemish painter (Antwerp)\n",
      "      1 AERTSEN, Pieter\t(1508-1575)\tNorthern Renaissance\tNetherlandish painter (Amsterdam)\n",
      "      1 AERT VAN ORT\t(active 1490-1536)\tNorthern Renaissance\tFlemish glass painter\n",
      "      1 AGASSE, Jacques-Laurent\t(1767-1849)\tNeoclassicism\tSwiss painter (London)\n",
      "      1 AGNOLO DA SIENA (see AGNOLO DI VENTURA)\t(active 1311-1349)\tMedieval\tItalian sculptor (Siena)\n",
      "      1 AGNOLO DI POLO\t(c. 1470-after 1498)\tEarly Renaissance\tItalian sculptor (Florence)\n",
      "      1 AGNOLO DI VENTURA\t(active 1311-1349)\tMedieval\tItalian sculptor (Siena)\n",
      "      1 AGOSTINO DI DUCCIO\t(1418-1481)\tEarly Renaissance\tItalian sculptor (Rimini)\n",
      "      1 AGOSTINO DI GIOVANNI\t(active 1310-1347)\tMedieval\tItalian sculptor (Siena)\n",
      "      1 AGOSTINO VENEZIANO (see MUSI, Agostino dei)\t(c. 1490-c. 1536)\tHigh Renaissance\tItalian graphic artist\n",
      "      1 AGRATE, Gian Francesco Ferrari d'\t(1489-c. 1563)\tHigh Renaissance\tItalian sculptor (Parma)\n",
      "      1 AGUADO LÓPEZ, Antonio\t(1764-1831)\tNeoclassicism\tSpanish architect (Madrid)\n",
      "      1 AIVAZOVSKY, Ivan Konstantinovich\t(1817-1900)\tRealism\tRussian painter\n",
      "      1 AKEN, Joseph van\t(c. 1699-1749)\tRococo\tFlemish painter (London)\n",
      "      1 AKOTANTOS, Angelos\t(?-c. 1457)\tMedieval\tGreek painter (Crete)\n",
      "      1 ALBA, Macrino d'\t(c. 1460-c. 1528)\tEarly Renaissance\tItalian painter (Alba)\n",
      "      1 ALBANI, Francesco\t(1578-1660)\tBaroque\tItalian painter (Bologna)\n",
      "      1 ALBEREGNO, Jacobello\t(died before1397)\tMedieval\tItalian painter (Venice)\n",
      "      1 ALBERTI, Antonio\t(c. 1390-c. 1442)\tEarly Renaissance\tItalian painter (Urbino)\n",
      "      1 ALBERTI, Cherubino\t(1553-1615)\tMannerism\tItalian painter (Rome)\n",
      "      1 ALBERTI, Giovanni\t(1558-1601)\tMannerism\tItalian painter (Rome)\n",
      "      1 ALBERTI, Leon Battista\t(1404-1472)\tEarly Renaissance\tItalian architect\n",
      "      1 ALBERTINELLI, Mariotto\t(1474-1515)\tEarly Renaissance\tItalian painter (Florence)\n",
      "      1 KILIAN, Wolfgang\t(1581-1662)\tBaroque\tGerman graphic artist (Augsburg)\n",
      "      1 KINSOEN, François-Joseph\t(1771-1839)\tRomanticism\tFlemish painter\n",
      "      1 KISS, August Karl Edouard\t(1802-1865)\tRomanticism\tGerman sculptor\n",
      "      1 KISS, Bálint\t(1802-1868)\tRomanticism\tHungarian painter (Pest)\n",
      "      1 KLEINER, Salomon\t(1703-1761)\tBaroque\tGerman graphic artist\n",
      "      1 KLENZE, Leo von\t(1784-1864)\tRomanticism\tGerman architect\n",
      "      1 KLESECKER, Justus (see GLESKER, Justus)\t(c. 1615-1678)\tBaroque\tGerman sculptor (Franconia)\n",
      "      1 KLINGER, Max\t(1857-1920)\tRealism\tGerman painter\n",
      "      1 KLOCKER, Hans\t(active 1478-1500l)\tNorthern Renaissance\tAustrian sculptor (South Tyrol)\n",
      "      1 KLODT, Mikhail Konstantinovich\t(c. 1832-1902)\tRealism\tRussian painter (St. Petersburg)\n",
      "      1 KLODT, Pyotr Karlovich\t(1805-1867)\tRomanticism\tRussian sculptor (St. Petersburg)\n",
      "      1 KNEBEL, Franz\t(1809-1877)\tRomanticism\tSwiss painter (Rome)\n",
      "      1 KNELLER, Sir Godfrey\t(1646-1723)\tBaroque\tEnglish painter\n",
      "      1 KNIJFF, Jacob\t(1639-1681)\tBaroque\tDutch painter (London)\n",
      "      1 KNIJFF, Wouter\t(c. 1607-after 1693)\tBaroque\tDutch painter (Haarlem)\n",
      "      1 KNIP, Henriëtte\t(1821-1909)\tRealism\tDutch painter (Brussels)\n",
      "      1 KNIP, Henriëtte Geertruida\t(1783-1842)\tRomanticism\tDutch painter\n",
      "      1 KNIP, Josephus Augustus\t(1777-1847)\tRomanticism\tDutch painter\n",
      "      1 KNIP, Mattheus Derk\t(1785-1845)\tRomanticism\tDutch painter\n",
      "      1 KNIP, Nicolaas Frederik\t(1741-1808)\tRococo\tDutch painter\n",
      "      1 KNOBELSDORFF, Georg Wenceslaus von\t(1699-1753)\tBaroque\tGerman architect (Berlin)\n",
      "      1 KNOLLER, Martin\t(1725-1804)\tNeoclassicism\tAustrian painter (Italy)\n",
      "      1 KNÜPFER, Nicolaus\t(c. 1603-1655)\tBaroque\tDutch painter\n",
      "      1 KNYFF, Jacob (see KNIJFF, Jacob)\t(1639-1681)\tBaroque\tDutch painter (London)\n",
      "      1 KNYFF, Wouter (see KNIJFF, Wouter)\t(c. 1607-after 1693)\tBaroque\tDutch painter (Haarlem)\n",
      "      1 KOBELL, Franz\t(1749-1822)\tRococo\tGerman painter (Munich)\n",
      "      1 KOBELL, Hendrik\t(1751-1779)\tRococo\tDutch painter (Rotterdam)\n",
      "      1 KOBELL, Jan I\t(1755-1833)\tRococo\tDutch graphic artist (Rotterdam)\n",
      "      1 KOBELL, Jan II\t(1778-1814)\tNeoclassicism\tDutch painter\n",
      "      1 KOBELL, Wilhelm von\t(1766-1853)\tRomanticism\tGerman painter\n",
      "      1 KOBERGER, Anton\t(c. 1440-1513)\tNorthern Renaissance\tGerman graphic artist (Nuremberg)\n",
      "      1 KOCH, Joseph Anton\t(1768-1839)\tRomanticism\tAustrian painter\n",
      "      1 KOEBERGER, Wenzel (see COBERGHER, Wenceslas)\t(c. 1560-1634)\tBaroque\tFlemish architect\n",
      "      1 KOEDIJCK, Isaack\t(c. 1617-c. 1668)\tBaroque\tDutch painter (Amsterdam)\n",
      "      1 KOEKKOEK, Barend Cornelis\t(1803-1862)\tRomanticism\tDutch painter\n",
      "      1 KOERBECKE, Johann\t(c. 1420-1490)\tNorthern Renaissance\tGerman painter (Münster)\n",
      "      1 KOETS, Roelof\t(c. 1592-1655)\tBaroque\tDutch painter (Haarlem)\n",
      "      1 KOKORINOV, Alexander Filippovich\t(1726-1772)\tBaroque\tRussian architect (St. Petersburg)\n",
      "      1 KOLBE, Carl Wilhelm\t(1759-1835)\tNeoclassicism\tGerman painter\n",
      "      1 KOLLONITSCH, Christian\t(1730-1802)\tRococo\tAustrian painter (Vienna)\n",
      "      1 KOLUNIĆ, Martin (see ROTA, Martino)\t(c. 1520-1583)\tMannerism\tOther painter (Vienna)\n",
      "      1 KOMPE, Jan ten (see COMPE, Jan ten)\t(1713-1761)\tBaroque\tDutch painter (Amsterdam)\n",
      "      1 KÖNIG, Johann\t(1586-1642)\tBaroque\tGerman painter (Augsburg)\n",
      "      1 KONINCK, Daniël de\t(1668-after 1720)\tBaroque\tDutch painter (London)\n",
      "      1 KONINCK, David de (see CONINCK, David de)\t(c. 1644-c. 1701)\tBaroque\tFlemish painter\n",
      "      1 KONINCK, Philips\t(1619-1688)\tBaroque\tDutch painter (Amsterdam)\n",
      "      1 KONINCK, Salomon\t(1609-1656)\tBaroque\tDutch painter (Amsterdam)\n",
      "      1 KONRAD von Soest\t(active 1394-1422)\tNorthern Renaissance\tGerman painter (Westphalie)\n",
      "      1 KOPISCH, August\t(1799-1853)\tRomanticism\tGerman painter (Berlin)\n",
      "      1 KŘBKE, Christen\t(1810-1848)\tRomanticism\tDanish painter\n",
      "      1 TACCA, Ferdinando\t(1619-c. 1688)\tBaroque\tItalian sculptor (Florence)\n",
      "      1 TACCA, Pietro\t(1577-1640)\tBaroque\tItalian sculptor (Florence)\n",
      "      1 TACCONE, Paolo (see PAOLO ROMANO)\t(c. 1415-c. 1470)\tEarly Renaissance\tItalian sculptor (Rome)\n",
      "      1 TADDEO DI BARTOLO\t(1362/63-1422)\tMedieval\tItalian painter (Siena)\n",
      "      1 TADDEO DI FERRARA (see CRIVELLI, Taddeo)\t(active 1451-c. 1479)\tEarly Renaissance\tItalian illuminator (Ferrara)\n",
      "      1 TADOLINI, Scipione\t(1822-1892)\tRealism\tItalian sculptor (Rome)\n",
      "      1 TALENTI, Francesco\t(c. 1300-after 1369)\tMedieval\tItalian architect (Florence)\n",
      "      1 TALENTI, Simone\t(c. 1330-after 1383)\tMedieval\tItalian architect (Florence)\n",
      "      1 TALPA, Bartolo\t(active c. 1495)\tEarly Renaissance\tItalian sculptor (Mantua)\n",
      "      1 TAMAGNINO, Antonio (see PORTA, Antonio della)\t(active 1489–1519)\tEarly Renaissance\tItalian sculptor\n",
      "      1 TAMAGNI, Vincenzo\t(1492-1530)\tHigh Renaissance\tItalian painter (San Gimignano)\n",
      "      1 TAMM, Franz Werner von\t(1658-1724)\tBaroque\tGerman painter\n",
      "      1 TANZIO DA VARALLO\t(c. 1580-c. 1632)\tBaroque\tItalian painter\n",
      "      1 TARAVAL, Guillaume-Thomas-Raphaël\t(1701-1750)\tBaroque\tFrench painter (Stockholm)\n",
      "      1 TARAVAL, Hugues\t(1729-1785)\tRococo\tFrench painter (Paris)\n",
      "      1 TARAVAL, Louis-Gustave\t(1738-1794)\tNeoclassicism\tFrench graphic artist\n",
      "      1 TARBELL, Edmund Charles\t(1862-1938)\tImpressionism\tAmerican painter\n",
      "      1 TARCHIANI, Filippo\t(1576-1645)\tBaroque\tItalian painter (Florence)\n",
      "      1 TARDIEU, Nicolas-Henry\t(1674-1749)\tBaroque\tFrench graphic artist (Paris)\n",
      "      1 TARGONE, Cesare\t(active 1575-1590)\tMannerism\tItalian goldsmith\n",
      "      1 TARSIA, Antonio\t(c. 1662-1739)\tBaroque\tAustrian sculptor (Venice)\n",
      "      1 TARUFFI, Emilio\t(1633-1696)\tBaroque\tItalian painter (Bologna)\n",
      "      1 TASSAERT, Jean-Pierre-Antoine\t(1727-1788)\tRococo\tFlemish sculptor\n",
      "      1 TASSAERT, Octave\t(1800-1874)\tRomanticism\tFrench painter\n",
      "      1 TASSEL, Jean\t(1608-1667)\tBaroque\tFrench painter (Langres)\n",
      "      1 TASSI, Agostino\t(1578-1644)\tBaroque\tItalian painter (Rome)\n",
      "      1 TAUNAY, Nicolas Antoine\t(1755-1830)\tRococo\tFrench painter\n",
      "      1 TEDESCO, Carlo (see SFERINI, Carlo Leopoldo)\t(1652-1698)\tBaroque\tItalian painter (Verona)\n",
      "      1 TEDESCO, Giovanni Paolo (see SCHOR, Johann Paul)\t(1615-1674)\tBaroque\tItalian painter (Rome)\n",
      "      1 TEERLINC, Levina\tc. 1515-1576)\tMannerism\tFlemish miniaturist (London)\n",
      "      1 TELEPY, Károly\t(1828-1906)\tRomanticism\tHungarian painter\n",
      "      1 TEMANZA, Tommaso\t(1705-1789)\tRococo\tItalian architect (Venice)\n",
      "      1 TEMPEL, Abraham van den\t(1622/23-1672)\tBaroque\tDutch painter (Amsterdam)\n",
      "      1 TEMPESTA, Antonio\t(1555-1630)\tBaroque\tItalian painter (Florence)\n",
      "      1 TEMPESTA, Pietro (see MULIER, Pieter the Younger)\t(1637-1701)\tBaroque\tDutch painter (Italy)\n",
      "      1 TENERANI, Pietro\t(1789-1869)\tNeoclassicism\tItalian sculptor\n",
      "      1 TENGNAGEL, Jan\t(1584-1635)\tBaroque\tDutch painter (Amsterdam)\n",
      "      1 TENIERS, Abraham\t(1629-1670)\tBaroque\tFlemish painter (Antwerp)\n",
      "      1 TENIERS, David the Elder\t(1582-1649)\tBaroque\tFlemish painter (Antwerp)\n",
      "      1 TENIERS, David the Younger\t(1610-1690)\tBaroque\tFlemish painter (Antwerp)\n",
      "      1 TERBORCH, Gerard\t(1617-1681)\tBaroque\tDutch painter (Deventer)\n",
      "      1 TERBRUGGHEN, Hendrick\t(1588-1629)\tBaroque\tDutch painter (Utrecht)\n",
      "      1 TERILLI, Francesco\t(active 1610-1630)\tBaroque\tItalian sculptor (Feltre)\n",
      "      1 TERRENI, Giuseppe Maria\t(1739-1811)\tNeoclassicism\tItalian painter (Livorno)\n",
      "      1 TERZIO, Francesco\t(c. 1523-1591)\tMannerism\tItalian painter (Vienna)\n",
      "      1 TESSIN, Nicodemus the Elder\t(1615-1681)\tBaroque\tSwedish architect (Stockholm)\n",
      "      1 TESSIN, Nicodemus the Younger\t(1654-1728)\tBaroque\tSwedish architect (Stockholm)\n",
      "      1 TESTA, Pietro\t(1611-1650)\tBaroque\tItalian painter (Rome)\n",
      "      1 TESTELIN, Henri\t(1616-1695)\tBaroque\tFrench painter\n",
      "      1 TETRODE, Willem Danielsz van\t(c. 1525-c. 1587)\tMannerism\tNetherlandish sculptor\n"
     ]
    }
   ],
   "source": [
    "%%bash\n",
    "pwd\n",
    "cd HW1/data/art \n",
    "sort artists.txt > artists_sorted.txt | mv artists_sorted.txt ../new_folder  #Sort artist.txt by alphabetical order and move it to new_folder\n",
    "cd ../new_folder\n",
    "uniq artists_sorted.txt > uniq_artist.txt #Display unique lines and save it in a  new document \n",
    "wc -l uniq_artist.txt #Count unique artist"
   ]
  },
  {
   "cell_type": "markdown",
   "metadata": {
    "deletable": false,
    "editable": false,
    "nbgrader": {
     "cell_type": "markdown",
     "checksum": "624f35eb16f3eb61ecef07c4d184e63f",
     "grade": false,
     "grade_id": "cell-6a0f3f735605085",
     "locked": true,
     "points": 1,
     "schema_version": 3,
     "solution": false,
     "task": true
    }
   },
   "source": [
    "#### Question 11 (1 point)\n",
    "Use __`nano`__ in your terminal (not jupyter notebook) to create a bash script titled `print_names.sh` that echos any name entered in a list of 4 names (3 of the names are fixed, the 4th is not). Move the script to `new_folder`, then run it. Take a screenshot of the input to run the script and output. Briefly explain why you have to do this on terminal, and can't run this on your Jupyter notebook?   \n",
    "_Note: Insert cells below for your code and answer._  "
   ]
  },
  {
   "cell_type": "code",
   "execution_count": 541,
   "metadata": {},
   "outputs": [
    {
     "data": {
      "image/png": "[encoded data removed]",
      "text/plain": [
       "<IPython.core.display.Image object>"
      ]
     },
     "execution_count": 541,
     "metadata": {},
     "output_type": "execute_result"
    }
   ],
   "source": [
    "#Input asking name \n",
    "from IPython.display import Image\n",
    "Image(filename='HW1/data/input.png') "
   ]
  },
  {
   "cell_type": "code",
   "execution_count": 543,
   "metadata": {
    "scrolled": true
   },
   "outputs": [
    {
     "data": {
      "image/png": "[encoded data removed]",
      "text/plain": [
       "<IPython.core.display.Image object>"
      ]
     },
     "execution_count": 543,
     "metadata": {},
     "output_type": "execute_result"
    }
   ],
   "source": [
    "#Output displaying 4 names \n",
    "Image(filename='HW1/data/output.png') "
   ]
  },
  {
   "cell_type": "markdown",
   "metadata": {},
   "source": [
    "**Explain why you have to use nano in local terminal?** <br>\n",
    "Nano is a terminal-based text editor. We can only use nano from the terminal "
   ]
  },
  {
   "cell_type": "markdown",
   "metadata": {
    "deletable": false,
    "editable": false,
    "nbgrader": {
     "cell_type": "markdown",
     "checksum": "b3c7558db7da45edf2f08f50e5c01f87",
     "grade": false,
     "grade_id": "cell-48971fe0ad961c93",
     "locked": true,
     "points": 1,
     "schema_version": 3,
     "solution": false,
     "task": true
    }
   },
   "source": [
    "#### Question 12 (1 point)\n",
    "Use __`nano`__ to create your own script that uses 2 commands we've used and 1 command we haven't yet used (3 total, but you can include more if you'd like) that answers another question you have about the contents of the `artists.txt` file. Label this script as `artist_text.sh` and place it in `new_folder`. Describe what it does, and how.   \n",
    "_Note: Insert cells below for your code and answer._\n",
    "\n",
    "Reflections: On an integer scale of `1-5`, `1` being very easy and `5` being the most difficult, where would you rank the A1.bb assignment and why? Include some notes about what you gained from this past week that you didn't know before as well as notes of things you already knew.\n",
    "\n",
    "Improvements: Notice a [potentially intentional] mistake, or an area of this homework that could have been improved? Include your thoughts here. "
   ]
  },
  {
   "cell_type": "markdown",
   "metadata": {},
   "source": [
    "**Describe artist_text.sh**<br>\n",
    "It promts a question asking to write an art movement (*read*). <br>\n",
    "The search of the movement into artists.txt is not case-sensitive.(*grep -i*).<br>\n",
    "It returns a list of artist that are from the art movement chose. The displayed list only shows the name of the artists (*cut f1*). "
   ]
  },
  {
   "cell_type": "markdown",
   "metadata": {},
   "source": [
    "**Reflections: 3**  <br>\n",
    "I improved my skills using bash with this homework.I learned how to use more commands in this lesson. Also, I learned how to use redirections and pipes. "
   ]
  },
  {
   "cell_type": "markdown",
   "metadata": {},
   "source": [
    "**Improvements**\n",
    "Some questions have more than one task, and sometimes was confusing to know where to put the answer/code. I think would be great to have one question per cell. "
   ]
  }
 ],
 "metadata": {
  "kernelspec": {
   "display_name": "Python 3",
   "language": "python",
   "name": "python3"
  },
  "language_info": {
   "codemirror_mode": {
    "name": "ipython",
    "version": 3
   },
   "file_extension": ".py",
   "mimetype": "text/x-python",
   "name": "python",
   "nbconvert_exporter": "python",
   "pygments_lexer": "ipython3",
   "version": "3.6.3"
  }
 },
 "nbformat": 4,
 "nbformat_minor": 4
}
