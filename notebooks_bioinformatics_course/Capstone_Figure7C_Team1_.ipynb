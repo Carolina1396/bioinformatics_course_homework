{
 "cells": [
  {
   "cell_type": "markdown",
   "metadata": {},
   "source": [
    "## Contributions  \n",
    "A.Carolina Gonzalez: **CG** ,Federico Zampa: **FZ**, Nina Shi: **NS** <br>\n",
    "\n",
    "Sort dataframe: CG,NS,FZ<br>\n",
    "Calculate mean value of replicates: NS<br>\n",
    "Calculate anti-log2 values: CG<br>\n",
    "Setup barplot: CG,FZ"
   ]
  },
  {
   "cell_type": "code",
   "execution_count": 14,
   "metadata": {},
   "outputs": [],
   "source": [
    "#Import library\n",
    "library(reshape2)\n",
    "library(ggplot2)\n",
    "library(tidyverse)\n",
    "library(dplyr)"
   ]
  },
  {
   "cell_type": "code",
   "execution_count": 15,
   "metadata": {
    "scrolled": true
   },
   "outputs": [
    {
     "data": {
      "text/html": [
       "<table>\n",
       "<caption>A data.frame: 6 × 9</caption>\n",
       "<thead>\n",
       "\t<tr><th></th><th scope=col>Symbol</th><th scope=col>S1.WT.1</th><th scope=col>S5.WT.2</th><th scope=col>S2.BlimpKO.1</th><th scope=col>S6.BlimpKO.2</th><th scope=col>S3.TbetKO.1</th><th scope=col>S7.TbetKO.2</th><th scope=col>S4.DKO.1</th><th scope=col>S8.DKO.2</th></tr>\n",
       "\t<tr><th></th><th scope=col>&lt;fct&gt;</th><th scope=col>&lt;dbl&gt;</th><th scope=col>&lt;dbl&gt;</th><th scope=col>&lt;dbl&gt;</th><th scope=col>&lt;dbl&gt;</th><th scope=col>&lt;dbl&gt;</th><th scope=col>&lt;dbl&gt;</th><th scope=col>&lt;dbl&gt;</th><th scope=col>&lt;dbl&gt;</th></tr>\n",
       "</thead>\n",
       "<tbody>\n",
       "\t<tr><th scope=row>3624</th><td>Gzma</td><td>9.6005373</td><td>9.2437910</td><td> 7.5906049</td><td> 6.732208</td><td>5.352521</td><td>7.819147</td><td> 3.809018</td><td> 3.1152665</td></tr>\n",
       "\t<tr><th scope=row>3625</th><td>Gzmk</td><td>8.1220863</td><td>8.0750426</td><td> 7.4629798</td><td> 7.595661</td><td>6.080696</td><td>7.405331</td><td> 6.343873</td><td> 5.9777918</td></tr>\n",
       "\t<tr><th scope=row>4038</th><td>Gzmb</td><td>9.7477484</td><td>9.6559572</td><td> 8.0896323</td><td> 7.952531</td><td>9.257641</td><td>9.487901</td><td> 6.547614</td><td> 5.8640233</td></tr>\n",
       "\t<tr><th scope=row>4037</th><td>Gzmc</td><td>0.3477865</td><td>0.9943947</td><td>-0.5936875</td><td>-2.520117</td><td>1.950354</td><td>1.111905</td><td>-1.322330</td><td>-0.3323634</td></tr>\n",
       "\t<tr><th scope=row>1112</th><td>Gzmm</td><td>5.2695835</td><td>5.1928236</td><td> 5.7476569</td><td> 5.915028</td><td>1.436756</td><td>3.375260</td><td> 2.293938</td><td> 1.2366357</td></tr>\n",
       "\t<tr><th scope=row>997</th><td>Prf1</td><td>8.4499851</td><td>8.2451179</td><td> 7.0877229</td><td> 6.888363</td><td>6.972746</td><td>7.789022</td><td> 5.411753</td><td> 5.3942794</td></tr>\n",
       "</tbody>\n",
       "</table>\n"
      ],
      "text/latex": [
       "A data.frame: 6 × 9\n",
       "\\begin{tabular}{r|lllllllll}\n",
       "  & Symbol & S1.WT.1 & S5.WT.2 & S2.BlimpKO.1 & S6.BlimpKO.2 & S3.TbetKO.1 & S7.TbetKO.2 & S4.DKO.1 & S8.DKO.2\\\\\n",
       "  & <fct> & <dbl> & <dbl> & <dbl> & <dbl> & <dbl> & <dbl> & <dbl> & <dbl>\\\\\n",
       "\\hline\n",
       "\t3624 & Gzma & 9.6005373 & 9.2437910 &  7.5906049 &  6.732208 & 5.352521 & 7.819147 &  3.809018 &  3.1152665\\\\\n",
       "\t3625 & Gzmk & 8.1220863 & 8.0750426 &  7.4629798 &  7.595661 & 6.080696 & 7.405331 &  6.343873 &  5.9777918\\\\\n",
       "\t4038 & Gzmb & 9.7477484 & 9.6559572 &  8.0896323 &  7.952531 & 9.257641 & 9.487901 &  6.547614 &  5.8640233\\\\\n",
       "\t4037 & Gzmc & 0.3477865 & 0.9943947 & -0.5936875 & -2.520117 & 1.950354 & 1.111905 & -1.322330 & -0.3323634\\\\\n",
       "\t1112 & Gzmm & 5.2695835 & 5.1928236 &  5.7476569 &  5.915028 & 1.436756 & 3.375260 &  2.293938 &  1.2366357\\\\\n",
       "\t997 & Prf1 & 8.4499851 & 8.2451179 &  7.0877229 &  6.888363 & 6.972746 & 7.789022 &  5.411753 &  5.3942794\\\\\n",
       "\\end{tabular}\n"
      ],
      "text/markdown": [
       "\n",
       "A data.frame: 6 × 9\n",
       "\n",
       "| <!--/--> | Symbol &lt;fct&gt; | S1.WT.1 &lt;dbl&gt; | S5.WT.2 &lt;dbl&gt; | S2.BlimpKO.1 &lt;dbl&gt; | S6.BlimpKO.2 &lt;dbl&gt; | S3.TbetKO.1 &lt;dbl&gt; | S7.TbetKO.2 &lt;dbl&gt; | S4.DKO.1 &lt;dbl&gt; | S8.DKO.2 &lt;dbl&gt; |\n",
       "|---|---|---|---|---|---|---|---|---|---|\n",
       "| 3624 | Gzma | 9.6005373 | 9.2437910 |  7.5906049 |  6.732208 | 5.352521 | 7.819147 |  3.809018 |  3.1152665 |\n",
       "| 3625 | Gzmk | 8.1220863 | 8.0750426 |  7.4629798 |  7.595661 | 6.080696 | 7.405331 |  6.343873 |  5.9777918 |\n",
       "| 4038 | Gzmb | 9.7477484 | 9.6559572 |  8.0896323 |  7.952531 | 9.257641 | 9.487901 |  6.547614 |  5.8640233 |\n",
       "| 4037 | Gzmc | 0.3477865 | 0.9943947 | -0.5936875 | -2.520117 | 1.950354 | 1.111905 | -1.322330 | -0.3323634 |\n",
       "| 1112 | Gzmm | 5.2695835 | 5.1928236 |  5.7476569 |  5.915028 | 1.436756 | 3.375260 |  2.293938 |  1.2366357 |\n",
       "| 997 | Prf1 | 8.4499851 | 8.2451179 |  7.0877229 |  6.888363 | 6.972746 | 7.789022 |  5.411753 |  5.3942794 |\n",
       "\n"
      ],
      "text/plain": [
       "     Symbol S1.WT.1   S5.WT.2   S2.BlimpKO.1 S6.BlimpKO.2 S3.TbetKO.1\n",
       "3624 Gzma   9.6005373 9.2437910  7.5906049    6.732208    5.352521   \n",
       "3625 Gzmk   8.1220863 8.0750426  7.4629798    7.595661    6.080696   \n",
       "4038 Gzmb   9.7477484 9.6559572  8.0896323    7.952531    9.257641   \n",
       "4037 Gzmc   0.3477865 0.9943947 -0.5936875   -2.520117    1.950354   \n",
       "1112 Gzmm   5.2695835 5.1928236  5.7476569    5.915028    1.436756   \n",
       "997  Prf1   8.4499851 8.2451179  7.0877229    6.888363    6.972746   \n",
       "     S7.TbetKO.2 S4.DKO.1  S8.DKO.2  \n",
       "3624 7.819147     3.809018  3.1152665\n",
       "3625 7.405331     6.343873  5.9777918\n",
       "4038 9.487901     6.547614  5.8640233\n",
       "4037 1.111905    -1.322330 -0.3323634\n",
       "1112 3.375260     2.293938  1.2366357\n",
       "997  7.789022     5.411753  5.3942794"
      ]
     },
     "metadata": {},
     "output_type": "display_data"
    }
   ],
   "source": [
    "#Import data\n",
    "setwd (\"/gpfs/home/agonzalez/bioinformatics_course/Capstone/\")\n",
    "countData <- read.csv(\"PMID-26950239-8Lib-log2RPKM.csv\")\n",
    "\n",
    "#Subset granzyme genes\n",
    "genes <- as.list(c(\"Gzma\" ,\"Gzmk\" ,\"Gzmb\" ,\"Gzmc\" ,\"Gzmm\" ,\"Prf1\"))\n",
    "countData <- countData[match(genes, countData$Symbol),]\n",
    "countData"
   ]
  },
  {
   "cell_type": "code",
   "execution_count": 16,
   "metadata": {},
   "outputs": [
    {
     "data": {
      "text/html": [
       "<table>\n",
       "<caption>A data.frame: 6 × 4</caption>\n",
       "<thead>\n",
       "\t<tr><th></th><th scope=col>WT</th><th scope=col>Blimp1fl/flLck-Cre</th><th scope=col>Tbx21−/−</th><th scope=col>Tbx21−/−Blimp1fl/flLck-Cre</th></tr>\n",
       "\t<tr><th></th><th scope=col>&lt;dbl&gt;</th><th scope=col>&lt;dbl&gt;</th><th scope=col>&lt;dbl&gt;</th><th scope=col>&lt;dbl&gt;</th></tr>\n",
       "</thead>\n",
       "<tbody>\n",
       "\t<tr><th scope=row>1</th><td>9.4221642</td><td> 7.161406</td><td>6.585834</td><td> 3.4621422</td></tr>\n",
       "\t<tr><th scope=row>2</th><td>8.0985645</td><td> 7.529320</td><td>6.743014</td><td> 6.1608322</td></tr>\n",
       "\t<tr><th scope=row>3</th><td>9.7018528</td><td> 8.021082</td><td>9.372771</td><td> 6.2058188</td></tr>\n",
       "\t<tr><th scope=row>4</th><td>0.6710906</td><td>-1.556902</td><td>1.531130</td><td>-0.8273466</td></tr>\n",
       "\t<tr><th scope=row>5</th><td>5.2312035</td><td> 5.831343</td><td>2.406008</td><td> 1.7652868</td></tr>\n",
       "\t<tr><th scope=row>6</th><td>8.3475515</td><td> 6.988043</td><td>7.380884</td><td> 5.4030163</td></tr>\n",
       "</tbody>\n",
       "</table>\n"
      ],
      "text/latex": [
       "A data.frame: 6 × 4\n",
       "\\begin{tabular}{r|llll}\n",
       "  & WT & Blimp1fl/flLck-Cre & Tbx21−/− & Tbx21−/−Blimp1fl/flLck-Cre\\\\\n",
       "  & <dbl> & <dbl> & <dbl> & <dbl>\\\\\n",
       "\\hline\n",
       "\t1 & 9.4221642 &  7.161406 & 6.585834 &  3.4621422\\\\\n",
       "\t2 & 8.0985645 &  7.529320 & 6.743014 &  6.1608322\\\\\n",
       "\t3 & 9.7018528 &  8.021082 & 9.372771 &  6.2058188\\\\\n",
       "\t4 & 0.6710906 & -1.556902 & 1.531130 & -0.8273466\\\\\n",
       "\t5 & 5.2312035 &  5.831343 & 2.406008 &  1.7652868\\\\\n",
       "\t6 & 8.3475515 &  6.988043 & 7.380884 &  5.4030163\\\\\n",
       "\\end{tabular}\n"
      ],
      "text/markdown": [
       "\n",
       "A data.frame: 6 × 4\n",
       "\n",
       "| <!--/--> | WT &lt;dbl&gt; | Blimp1fl/flLck-Cre &lt;dbl&gt; | Tbx21−/− &lt;dbl&gt; | Tbx21−/−Blimp1fl/flLck-Cre &lt;dbl&gt; |\n",
       "|---|---|---|---|---|\n",
       "| 1 | 9.4221642 |  7.161406 | 6.585834 |  3.4621422 |\n",
       "| 2 | 8.0985645 |  7.529320 | 6.743014 |  6.1608322 |\n",
       "| 3 | 9.7018528 |  8.021082 | 9.372771 |  6.2058188 |\n",
       "| 4 | 0.6710906 | -1.556902 | 1.531130 | -0.8273466 |\n",
       "| 5 | 5.2312035 |  5.831343 | 2.406008 |  1.7652868 |\n",
       "| 6 | 8.3475515 |  6.988043 | 7.380884 |  5.4030163 |\n",
       "\n"
      ],
      "text/plain": [
       "  WT        Blimp1fl/flLck-Cre Tbx21−/− Tbx21−/−Blimp1fl/flLck-Cre\n",
       "1 9.4221642  7.161406          6.585834  3.4621422                \n",
       "2 8.0985645  7.529320          6.743014  6.1608322                \n",
       "3 9.7018528  8.021082          9.372771  6.2058188                \n",
       "4 0.6710906 -1.556902          1.531130 -0.8273466                \n",
       "5 5.2312035  5.831343          2.406008  1.7652868                \n",
       "6 8.3475515  6.988043          7.380884  5.4030163                "
      ]
     },
     "metadata": {},
     "output_type": "display_data"
    }
   ],
   "source": [
    "#Calculate mean of samples replicates \n",
    "countData_mean <- data.frame()\n",
    "for (y in 1:4){\n",
    "    for (x in 1:nrow(countData)){\n",
    "        countData_mean[x,y] <- mean(c(countData[x,2*y],countData[x,2*y+1]))\n",
    "    }\n",
    "}\n",
    "\n",
    "#rename column as sample name\n",
    "countData_mean <- rename(countData_mean,\n",
    "    \"WT\" = V1,\n",
    "    \"Blimp1fl/flLck-Cre\" = V2, #BlimpKO\n",
    "    \"Tbx21−/−\" = V3, #TbetKO\n",
    "    \"Tbx21−/−Blimp1fl/flLck-Cre\" = V4 #DKO\n",
    ")\n",
    "countData_mean"
   ]
  },
  {
   "cell_type": "code",
   "execution_count": 17,
   "metadata": {},
   "outputs": [
    {
     "data": {
      "text/html": [
       "<table>\n",
       "<caption>A data.frame: 6 × 4</caption>\n",
       "<thead>\n",
       "\t<tr><th></th><th scope=col>WT</th><th scope=col>Blimp1fl/flLck-Cre</th><th scope=col>Tbx21−/−</th><th scope=col>Tbx21−/−Blimp1fl/flLck-Cre</th></tr>\n",
       "\t<tr><th></th><th scope=col>&lt;dbl&gt;</th><th scope=col>&lt;dbl&gt;</th><th scope=col>&lt;dbl&gt;</th><th scope=col>&lt;dbl&gt;</th></tr>\n",
       "</thead>\n",
       "<tbody>\n",
       "\t<tr><th scope=row>1</th><td>686.047261</td><td>143.1522410</td><td> 96.058012</td><td>11.0206868</td></tr>\n",
       "\t<tr><th scope=row>2</th><td>274.101130</td><td>184.7358606</td><td>107.114767</td><td>71.5476341</td></tr>\n",
       "\t<tr><th scope=row>3</th><td>832.815325</td><td>259.7683516</td><td>662.956806</td><td>73.8138073</td></tr>\n",
       "\t<tr><th scope=row>4</th><td>  1.592276</td><td>  0.3398801</td><td>  2.890120</td><td> 0.5635648</td></tr>\n",
       "\t<tr><th scope=row>5</th><td> 37.562041</td><td> 56.9388956</td><td>  5.300056</td><td> 3.3994156</td></tr>\n",
       "\t<tr><th scope=row>6</th><td>325.734230</td><td>126.9435324</td><td>166.673893</td><td>42.3126258</td></tr>\n",
       "</tbody>\n",
       "</table>\n"
      ],
      "text/latex": [
       "A data.frame: 6 × 4\n",
       "\\begin{tabular}{r|llll}\n",
       "  & WT & Blimp1fl/flLck-Cre & Tbx21−/− & Tbx21−/−Blimp1fl/flLck-Cre\\\\\n",
       "  & <dbl> & <dbl> & <dbl> & <dbl>\\\\\n",
       "\\hline\n",
       "\t1 & 686.047261 & 143.1522410 &  96.058012 & 11.0206868\\\\\n",
       "\t2 & 274.101130 & 184.7358606 & 107.114767 & 71.5476341\\\\\n",
       "\t3 & 832.815325 & 259.7683516 & 662.956806 & 73.8138073\\\\\n",
       "\t4 &   1.592276 &   0.3398801 &   2.890120 &  0.5635648\\\\\n",
       "\t5 &  37.562041 &  56.9388956 &   5.300056 &  3.3994156\\\\\n",
       "\t6 & 325.734230 & 126.9435324 & 166.673893 & 42.3126258\\\\\n",
       "\\end{tabular}\n"
      ],
      "text/markdown": [
       "\n",
       "A data.frame: 6 × 4\n",
       "\n",
       "| <!--/--> | WT &lt;dbl&gt; | Blimp1fl/flLck-Cre &lt;dbl&gt; | Tbx21−/− &lt;dbl&gt; | Tbx21−/−Blimp1fl/flLck-Cre &lt;dbl&gt; |\n",
       "|---|---|---|---|---|\n",
       "| 1 | 686.047261 | 143.1522410 |  96.058012 | 11.0206868 |\n",
       "| 2 | 274.101130 | 184.7358606 | 107.114767 | 71.5476341 |\n",
       "| 3 | 832.815325 | 259.7683516 | 662.956806 | 73.8138073 |\n",
       "| 4 |   1.592276 |   0.3398801 |   2.890120 |  0.5635648 |\n",
       "| 5 |  37.562041 |  56.9388956 |   5.300056 |  3.3994156 |\n",
       "| 6 | 325.734230 | 126.9435324 | 166.673893 | 42.3126258 |\n",
       "\n"
      ],
      "text/plain": [
       "  WT         Blimp1fl/flLck-Cre Tbx21−/−   Tbx21−/−Blimp1fl/flLck-Cre\n",
       "1 686.047261 143.1522410         96.058012 11.0206868                \n",
       "2 274.101130 184.7358606        107.114767 71.5476341                \n",
       "3 832.815325 259.7683516        662.956806 73.8138073                \n",
       "4   1.592276   0.3398801          2.890120  0.5635648                \n",
       "5  37.562041  56.9388956          5.300056  3.3994156                \n",
       "6 325.734230 126.9435324        166.673893 42.3126258                "
      ]
     },
     "metadata": {},
     "output_type": "display_data"
    }
   ],
   "source": [
    "#Convert RPKM log2 values to original RPKM\n",
    "#Inverse of log2 function: Raise 2 to the power of each value\n",
    "RMPK_values<- 2^countData_mean \n",
    "\n",
    "RMPK_values"
   ]
  },
  {
   "cell_type": "code",
   "execution_count": 18,
   "metadata": {
    "scrolled": true
   },
   "outputs": [
    {
     "data": {
      "text/html": [
       "<table>\n",
       "<caption>A data.frame: 6 × 5</caption>\n",
       "<thead>\n",
       "\t<tr><th></th><th scope=col>genes</th><th scope=col>WT</th><th scope=col>Blimp1fl/flLck-Cre</th><th scope=col>Tbx21−/−</th><th scope=col>Tbx21−/−Blimp1fl/flLck-Cre</th></tr>\n",
       "\t<tr><th></th><th scope=col>&lt;fct&gt;</th><th scope=col>&lt;dbl&gt;</th><th scope=col>&lt;dbl&gt;</th><th scope=col>&lt;dbl&gt;</th><th scope=col>&lt;dbl&gt;</th></tr>\n",
       "</thead>\n",
       "<tbody>\n",
       "\t<tr><th scope=row>1</th><td>Gzma(RMPK)</td><td>686.047261</td><td>143.1522410</td><td> 96.058012</td><td>11.0206868</td></tr>\n",
       "\t<tr><th scope=row>2</th><td>Gzmk(RMPK)</td><td>274.101130</td><td>184.7358606</td><td>107.114767</td><td>71.5476341</td></tr>\n",
       "\t<tr><th scope=row>3</th><td>Gzmb(RMPK)</td><td>832.815325</td><td>259.7683516</td><td>662.956806</td><td>73.8138073</td></tr>\n",
       "\t<tr><th scope=row>4</th><td>Gzmc(RMPK)</td><td>  1.592276</td><td>  0.3398801</td><td>  2.890120</td><td> 0.5635648</td></tr>\n",
       "\t<tr><th scope=row>5</th><td>Gzmm(RMPK)</td><td> 37.562041</td><td> 56.9388956</td><td>  5.300056</td><td> 3.3994156</td></tr>\n",
       "\t<tr><th scope=row>6</th><td>Prf1(RMPK)</td><td>325.734230</td><td>126.9435324</td><td>166.673893</td><td>42.3126258</td></tr>\n",
       "</tbody>\n",
       "</table>\n"
      ],
      "text/latex": [
       "A data.frame: 6 × 5\n",
       "\\begin{tabular}{r|lllll}\n",
       "  & genes & WT & Blimp1fl/flLck-Cre & Tbx21−/− & Tbx21−/−Blimp1fl/flLck-Cre\\\\\n",
       "  & <fct> & <dbl> & <dbl> & <dbl> & <dbl>\\\\\n",
       "\\hline\n",
       "\t1 & Gzma(RMPK) & 686.047261 & 143.1522410 &  96.058012 & 11.0206868\\\\\n",
       "\t2 & Gzmk(RMPK) & 274.101130 & 184.7358606 & 107.114767 & 71.5476341\\\\\n",
       "\t3 & Gzmb(RMPK) & 832.815325 & 259.7683516 & 662.956806 & 73.8138073\\\\\n",
       "\t4 & Gzmc(RMPK) &   1.592276 &   0.3398801 &   2.890120 &  0.5635648\\\\\n",
       "\t5 & Gzmm(RMPK) &  37.562041 &  56.9388956 &   5.300056 &  3.3994156\\\\\n",
       "\t6 & Prf1(RMPK) & 325.734230 & 126.9435324 & 166.673893 & 42.3126258\\\\\n",
       "\\end{tabular}\n"
      ],
      "text/markdown": [
       "\n",
       "A data.frame: 6 × 5\n",
       "\n",
       "| <!--/--> | genes &lt;fct&gt; | WT &lt;dbl&gt; | Blimp1fl/flLck-Cre &lt;dbl&gt; | Tbx21−/− &lt;dbl&gt; | Tbx21−/−Blimp1fl/flLck-Cre &lt;dbl&gt; |\n",
       "|---|---|---|---|---|---|\n",
       "| 1 | Gzma(RMPK) | 686.047261 | 143.1522410 |  96.058012 | 11.0206868 |\n",
       "| 2 | Gzmk(RMPK) | 274.101130 | 184.7358606 | 107.114767 | 71.5476341 |\n",
       "| 3 | Gzmb(RMPK) | 832.815325 | 259.7683516 | 662.956806 | 73.8138073 |\n",
       "| 4 | Gzmc(RMPK) |   1.592276 |   0.3398801 |   2.890120 |  0.5635648 |\n",
       "| 5 | Gzmm(RMPK) |  37.562041 |  56.9388956 |   5.300056 |  3.3994156 |\n",
       "| 6 | Prf1(RMPK) | 325.734230 | 126.9435324 | 166.673893 | 42.3126258 |\n",
       "\n"
      ],
      "text/plain": [
       "  genes      WT         Blimp1fl/flLck-Cre Tbx21−/−  \n",
       "1 Gzma(RMPK) 686.047261 143.1522410         96.058012\n",
       "2 Gzmk(RMPK) 274.101130 184.7358606        107.114767\n",
       "3 Gzmb(RMPK) 832.815325 259.7683516        662.956806\n",
       "4 Gzmc(RMPK)   1.592276   0.3398801          2.890120\n",
       "5 Gzmm(RMPK)  37.562041  56.9388956          5.300056\n",
       "6 Prf1(RMPK) 325.734230 126.9435324        166.673893\n",
       "  Tbx21−/−Blimp1fl/flLck-Cre\n",
       "1 11.0206868                \n",
       "2 71.5476341                \n",
       "3 73.8138073                \n",
       "4  0.5635648                \n",
       "5  3.3994156                \n",
       "6 42.3126258                "
      ]
     },
     "metadata": {},
     "output_type": "display_data"
    }
   ],
   "source": [
    "#Assign gen names to 1st column\n",
    "genes <- c(\"Gzma(RMPK)\" ,\"Gzmk(RMPK)\" ,\"Gzmb(RMPK)\" ,\"Gzmc(RMPK)\" ,\"Gzmm(RMPK)\" ,\"Prf1(RMPK)\") #List of genes\n",
    "RMPK_values<- cbind(genes,RMPK_values) #Combine genes list to RMPK_values dataframe \n",
    "RMPK_values"
   ]
  },
  {
   "cell_type": "code",
   "execution_count": 19,
   "metadata": {
    "scrolled": true
   },
   "outputs": [
    {
     "name": "stderr",
     "output_type": "stream",
     "text": [
      "Using genes as id variables\n",
      "\n"
     ]
    },
    {
     "data": {
      "text/html": [
       "<table>\n",
       "<caption>A data.frame: 24 × 3</caption>\n",
       "<thead>\n",
       "\t<tr><th scope=col>genes</th><th scope=col>variable</th><th scope=col>value</th></tr>\n",
       "\t<tr><th scope=col>&lt;fct&gt;</th><th scope=col>&lt;fct&gt;</th><th scope=col>&lt;dbl&gt;</th></tr>\n",
       "</thead>\n",
       "<tbody>\n",
       "\t<tr><td>Gzma(RMPK)</td><td>WT                        </td><td>686.0472607</td></tr>\n",
       "\t<tr><td>Gzmk(RMPK)</td><td>WT                        </td><td>274.1011301</td></tr>\n",
       "\t<tr><td>Gzmb(RMPK)</td><td>WT                        </td><td>832.8153254</td></tr>\n",
       "\t<tr><td>Gzmc(RMPK)</td><td>WT                        </td><td>  1.5922762</td></tr>\n",
       "\t<tr><td>Gzmm(RMPK)</td><td>WT                        </td><td> 37.5620406</td></tr>\n",
       "\t<tr><td>Prf1(RMPK)</td><td>WT                        </td><td>325.7342302</td></tr>\n",
       "\t<tr><td>Gzma(RMPK)</td><td>Blimp1fl/flLck-Cre        </td><td>143.1522410</td></tr>\n",
       "\t<tr><td>Gzmk(RMPK)</td><td>Blimp1fl/flLck-Cre        </td><td>184.7358606</td></tr>\n",
       "\t<tr><td>Gzmb(RMPK)</td><td>Blimp1fl/flLck-Cre        </td><td>259.7683516</td></tr>\n",
       "\t<tr><td>Gzmc(RMPK)</td><td>Blimp1fl/flLck-Cre        </td><td>  0.3398801</td></tr>\n",
       "\t<tr><td>Gzmm(RMPK)</td><td>Blimp1fl/flLck-Cre        </td><td> 56.9388956</td></tr>\n",
       "\t<tr><td>Prf1(RMPK)</td><td>Blimp1fl/flLck-Cre        </td><td>126.9435324</td></tr>\n",
       "\t<tr><td>Gzma(RMPK)</td><td>Tbx21−/−                  </td><td> 96.0580124</td></tr>\n",
       "\t<tr><td>Gzmk(RMPK)</td><td>Tbx21−/−                  </td><td>107.1147669</td></tr>\n",
       "\t<tr><td>Gzmb(RMPK)</td><td>Tbx21−/−                  </td><td>662.9568058</td></tr>\n",
       "\t<tr><td>Gzmc(RMPK)</td><td>Tbx21−/−                  </td><td>  2.8901204</td></tr>\n",
       "\t<tr><td>Gzmm(RMPK)</td><td>Tbx21−/−                  </td><td>  5.3000562</td></tr>\n",
       "\t<tr><td>Prf1(RMPK)</td><td>Tbx21−/−                  </td><td>166.6738929</td></tr>\n",
       "\t<tr><td>Gzma(RMPK)</td><td>Tbx21−/−Blimp1fl/flLck-Cre</td><td> 11.0206868</td></tr>\n",
       "\t<tr><td>Gzmk(RMPK)</td><td>Tbx21−/−Blimp1fl/flLck-Cre</td><td> 71.5476341</td></tr>\n",
       "\t<tr><td>Gzmb(RMPK)</td><td>Tbx21−/−Blimp1fl/flLck-Cre</td><td> 73.8138073</td></tr>\n",
       "\t<tr><td>Gzmc(RMPK)</td><td>Tbx21−/−Blimp1fl/flLck-Cre</td><td>  0.5635648</td></tr>\n",
       "\t<tr><td>Gzmm(RMPK)</td><td>Tbx21−/−Blimp1fl/flLck-Cre</td><td>  3.3994156</td></tr>\n",
       "\t<tr><td>Prf1(RMPK)</td><td>Tbx21−/−Blimp1fl/flLck-Cre</td><td> 42.3126258</td></tr>\n",
       "</tbody>\n",
       "</table>\n"
      ],
      "text/latex": [
       "A data.frame: 24 × 3\n",
       "\\begin{tabular}{lll}\n",
       " genes & variable & value\\\\\n",
       " <fct> & <fct> & <dbl>\\\\\n",
       "\\hline\n",
       "\t Gzma(RMPK) & WT                         & 686.0472607\\\\\n",
       "\t Gzmk(RMPK) & WT                         & 274.1011301\\\\\n",
       "\t Gzmb(RMPK) & WT                         & 832.8153254\\\\\n",
       "\t Gzmc(RMPK) & WT                         &   1.5922762\\\\\n",
       "\t Gzmm(RMPK) & WT                         &  37.5620406\\\\\n",
       "\t Prf1(RMPK) & WT                         & 325.7342302\\\\\n",
       "\t Gzma(RMPK) & Blimp1fl/flLck-Cre         & 143.1522410\\\\\n",
       "\t Gzmk(RMPK) & Blimp1fl/flLck-Cre         & 184.7358606\\\\\n",
       "\t Gzmb(RMPK) & Blimp1fl/flLck-Cre         & 259.7683516\\\\\n",
       "\t Gzmc(RMPK) & Blimp1fl/flLck-Cre         &   0.3398801\\\\\n",
       "\t Gzmm(RMPK) & Blimp1fl/flLck-Cre         &  56.9388956\\\\\n",
       "\t Prf1(RMPK) & Blimp1fl/flLck-Cre         & 126.9435324\\\\\n",
       "\t Gzma(RMPK) & Tbx21−/−                   &  96.0580124\\\\\n",
       "\t Gzmk(RMPK) & Tbx21−/−                   & 107.1147669\\\\\n",
       "\t Gzmb(RMPK) & Tbx21−/−                   & 662.9568058\\\\\n",
       "\t Gzmc(RMPK) & Tbx21−/−                   &   2.8901204\\\\\n",
       "\t Gzmm(RMPK) & Tbx21−/−                   &   5.3000562\\\\\n",
       "\t Prf1(RMPK) & Tbx21−/−                   & 166.6738929\\\\\n",
       "\t Gzma(RMPK) & Tbx21−/−Blimp1fl/flLck-Cre &  11.0206868\\\\\n",
       "\t Gzmk(RMPK) & Tbx21−/−Blimp1fl/flLck-Cre &  71.5476341\\\\\n",
       "\t Gzmb(RMPK) & Tbx21−/−Blimp1fl/flLck-Cre &  73.8138073\\\\\n",
       "\t Gzmc(RMPK) & Tbx21−/−Blimp1fl/flLck-Cre &   0.5635648\\\\\n",
       "\t Gzmm(RMPK) & Tbx21−/−Blimp1fl/flLck-Cre &   3.3994156\\\\\n",
       "\t Prf1(RMPK) & Tbx21−/−Blimp1fl/flLck-Cre &  42.3126258\\\\\n",
       "\\end{tabular}\n"
      ],
      "text/markdown": [
       "\n",
       "A data.frame: 24 × 3\n",
       "\n",
       "| genes &lt;fct&gt; | variable &lt;fct&gt; | value &lt;dbl&gt; |\n",
       "|---|---|---|\n",
       "| Gzma(RMPK) | WT                         | 686.0472607 |\n",
       "| Gzmk(RMPK) | WT                         | 274.1011301 |\n",
       "| Gzmb(RMPK) | WT                         | 832.8153254 |\n",
       "| Gzmc(RMPK) | WT                         |   1.5922762 |\n",
       "| Gzmm(RMPK) | WT                         |  37.5620406 |\n",
       "| Prf1(RMPK) | WT                         | 325.7342302 |\n",
       "| Gzma(RMPK) | Blimp1fl/flLck-Cre         | 143.1522410 |\n",
       "| Gzmk(RMPK) | Blimp1fl/flLck-Cre         | 184.7358606 |\n",
       "| Gzmb(RMPK) | Blimp1fl/flLck-Cre         | 259.7683516 |\n",
       "| Gzmc(RMPK) | Blimp1fl/flLck-Cre         |   0.3398801 |\n",
       "| Gzmm(RMPK) | Blimp1fl/flLck-Cre         |  56.9388956 |\n",
       "| Prf1(RMPK) | Blimp1fl/flLck-Cre         | 126.9435324 |\n",
       "| Gzma(RMPK) | Tbx21−/−                   |  96.0580124 |\n",
       "| Gzmk(RMPK) | Tbx21−/−                   | 107.1147669 |\n",
       "| Gzmb(RMPK) | Tbx21−/−                   | 662.9568058 |\n",
       "| Gzmc(RMPK) | Tbx21−/−                   |   2.8901204 |\n",
       "| Gzmm(RMPK) | Tbx21−/−                   |   5.3000562 |\n",
       "| Prf1(RMPK) | Tbx21−/−                   | 166.6738929 |\n",
       "| Gzma(RMPK) | Tbx21−/−Blimp1fl/flLck-Cre |  11.0206868 |\n",
       "| Gzmk(RMPK) | Tbx21−/−Blimp1fl/flLck-Cre |  71.5476341 |\n",
       "| Gzmb(RMPK) | Tbx21−/−Blimp1fl/flLck-Cre |  73.8138073 |\n",
       "| Gzmc(RMPK) | Tbx21−/−Blimp1fl/flLck-Cre |   0.5635648 |\n",
       "| Gzmm(RMPK) | Tbx21−/−Blimp1fl/flLck-Cre |   3.3994156 |\n",
       "| Prf1(RMPK) | Tbx21−/−Blimp1fl/flLck-Cre |  42.3126258 |\n",
       "\n"
      ],
      "text/plain": [
       "   genes      variable                   value      \n",
       "1  Gzma(RMPK) WT                         686.0472607\n",
       "2  Gzmk(RMPK) WT                         274.1011301\n",
       "3  Gzmb(RMPK) WT                         832.8153254\n",
       "4  Gzmc(RMPK) WT                           1.5922762\n",
       "5  Gzmm(RMPK) WT                          37.5620406\n",
       "6  Prf1(RMPK) WT                         325.7342302\n",
       "7  Gzma(RMPK) Blimp1fl/flLck-Cre         143.1522410\n",
       "8  Gzmk(RMPK) Blimp1fl/flLck-Cre         184.7358606\n",
       "9  Gzmb(RMPK) Blimp1fl/flLck-Cre         259.7683516\n",
       "10 Gzmc(RMPK) Blimp1fl/flLck-Cre           0.3398801\n",
       "11 Gzmm(RMPK) Blimp1fl/flLck-Cre          56.9388956\n",
       "12 Prf1(RMPK) Blimp1fl/flLck-Cre         126.9435324\n",
       "13 Gzma(RMPK) Tbx21−/−                    96.0580124\n",
       "14 Gzmk(RMPK) Tbx21−/−                   107.1147669\n",
       "15 Gzmb(RMPK) Tbx21−/−                   662.9568058\n",
       "16 Gzmc(RMPK) Tbx21−/−                     2.8901204\n",
       "17 Gzmm(RMPK) Tbx21−/−                     5.3000562\n",
       "18 Prf1(RMPK) Tbx21−/−                   166.6738929\n",
       "19 Gzma(RMPK) Tbx21−/−Blimp1fl/flLck-Cre  11.0206868\n",
       "20 Gzmk(RMPK) Tbx21−/−Blimp1fl/flLck-Cre  71.5476341\n",
       "21 Gzmb(RMPK) Tbx21−/−Blimp1fl/flLck-Cre  73.8138073\n",
       "22 Gzmc(RMPK) Tbx21−/−Blimp1fl/flLck-Cre   0.5635648\n",
       "23 Gzmm(RMPK) Tbx21−/−Blimp1fl/flLck-Cre   3.3994156\n",
       "24 Prf1(RMPK) Tbx21−/−Blimp1fl/flLck-Cre  42.3126258"
      ]
     },
     "metadata": {},
     "output_type": "display_data"
    }
   ],
   "source": [
    "#Reshape dataframe for the barplot\n",
    "df_plot <- melt(RMPK_values)\n",
    "(df_plot)"
   ]
  },
  {
   "cell_type": "code",
   "execution_count": 20,
   "metadata": {},
   "outputs": [
    {
     "data": {
      "text/html": [
       "<strong>png:</strong> 2"
      ],
      "text/latex": [
       "\\textbf{png:} 2"
      ],
      "text/markdown": [
       "**png:** 2"
      ],
      "text/plain": [
       "png \n",
       "  2 "
      ]
     },
     "metadata": {},
     "output_type": "display_data"
    }
   ],
   "source": [
    "#Setup bar plot \n",
    "\n",
    "# create PNG filename \n",
    "png(\"Figure7C_Capstone_Team1.png\",          \n",
    "  width = 5*300,        # 5 x 300 pixels\n",
    "  height = 5*300,\n",
    "  res = 300,            # 300 pixels per inch\n",
    "  pointsize = 7)        # font size\n",
    "\n",
    "#Group df_plot based on \"genes\" column \n",
    "df_plot %>%\n",
    "group_by (genes) %>% \n",
    "\n",
    "#Define values of bar plot\n",
    "ggplot() + \n",
    "geom_bar(aes(x=variable, y = value, fill = variable), color = \"black\", stat=\"identity\")+\n",
    "scale_fill_manual(values=c(\"black\", \"lightgrey\", \"darkgrey\", \"white\")) + #Colors\n",
    "\n",
    "#Arrenge plots \n",
    "facet_wrap(~ factor(genes, levels = unique(genes)), #factor: display plots ordered base on\"genes\" column\n",
    "           scales = \"free\", #Scale based on each gene \n",
    "           strip.position = \"left\")+ #Title on the left side of column \n",
    "\n",
    "#Labels of the figure \n",
    "labs(x = element_blank(), y = element_blank()) +\n",
    "\n",
    "#Costumize plot theme \n",
    "theme(strip.background = element_blank(), # Bockgorund of gene title \n",
    "      strip.placement = \"outside\", #placement of gene tile with respect to axes\n",
    "     axis.text.x = element_blank(), #Remove x label  \n",
    "      panel.background = element_blank(), # bockground of figure\n",
    "     panel.grid.major = element_blank(),#bockground of plots\n",
    "      panel.grid.minor = element_blank(),#bockground of plots\n",
    "     axis.line = element_line(size = 0.5), #thickness\n",
    "     legend.position=\"top\")  #Position of legend\n",
    "dev.off() #close the figure file\n"
   ]
  }
 ],
 "metadata": {
  "kernelspec": {
   "display_name": "R",
   "language": "R",
   "name": "ir"
  },
  "language_info": {
   "codemirror_mode": "r",
   "file_extension": ".r",
   "mimetype": "text/x-r-source",
   "name": "R",
   "pygments_lexer": "r",
   "version": "3.5.1"
  }
 },
 "nbformat": 4,
 "nbformat_minor": 4
}
